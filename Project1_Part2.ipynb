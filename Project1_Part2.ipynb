{
  "nbformat": 4,
  "nbformat_minor": 0,
  "metadata": {
    "colab": {
      "provenance": [],
      "mount_file_id": "1Rl4WulR1TOskqT2lxmvdGriaqetH8pTp",
      "authorship_tag": "ABX9TyO1oshAz47zY5dFuGTq1oWZ",
      "include_colab_link": true
    },
    "kernelspec": {
      "name": "python3",
      "display_name": "Python 3"
    },
    "language_info": {
      "name": "python"
    }
  },
  "cells": [
    {
      "cell_type": "markdown",
      "metadata": {
        "id": "view-in-github",
        "colab_type": "text"
      },
      "source": [
        "<a href=\"https://colab.research.google.com/github/Sarah99M/STQD6014/blob/main/Project1_Part2.ipynb\" target=\"_parent\"><img src=\"https://colab.research.google.com/assets/colab-badge.svg\" alt=\"Open In Colab\"/></a>"
      ]
    },
    {
      "cell_type": "code",
      "execution_count": 1,
      "metadata": {
        "colab": {
          "base_uri": "https://localhost:8080/"
        },
        "id": "Fp-zCsdIW6D7",
        "outputId": "365e24af-b59e-428f-bb7c-46aed4204e98"
      },
      "outputs": [
        {
          "output_type": "stream",
          "name": "stdout",
          "text": [
            "\n",
            "Please select your operation\n",
            "1.Add new product\n",
            "2.Update product prices and quantity\n",
            "3.View all products\n",
            "4.Stop the program\n",
            "please choice: 1, 2, 3, 4 or stop: stop\n",
            "You have successfully logged out, thank you for using!\n"
          ]
        }
      ],
      "source": [
        "def main():\n",
        "    product={\n",
        "        \"lemon\":[3.2,14],\n",
        "        \"peach\":[5.0,12],\n",
        "        \"grape\":[6.2,10],\n",
        "        \"orange\":[6.6,8],\n",
        "        \"mango\":[3.9,24]\n",
        "    }\n",
        "\n",
        "    while True:\n",
        "        print(\"\\nPlease select your operation\")\n",
        "        print(\"1.Add new product\")\n",
        "        print(\"2.Update product prices and quantity\")\n",
        "        print(\"3.View all products\")\n",
        "        print(\"4.Stop the program\")\n",
        "        choice=input(\"please choice: 1, 2, 3, 4 or stop: \")\n",
        "        if choice=='1':\n",
        "            name=str(input(\"Please enter product name: \"))\n",
        "            price=float(input(\"Please enter product price: \"))\n",
        "            quantity=int(input(\"Please enter product quantity: \"))\n",
        "            product[name]=[price,quantity]\n",
        "            print(f\"product '{name}' added successfully.\")\n",
        "        elif choice=='2':\n",
        "            name=input(\"Please enter the name of the product to be updated: \")\n",
        "            print(\"1.Update price\")\n",
        "            print(\"2.Update quantity\")\n",
        "            choice=input(\"Please select 1 or 2: \")\n",
        "            if choice=='1':\n",
        "                price=float(input(f\"Enter new price in '{name}': \"))\n",
        "                product[name][0]=price\n",
        "                print(f\"product '{name}' updated successfully.\")\n",
        "            elif choice=='2':\n",
        "                quantity=int(input(f\"Enter new quantity in '{name}': \"))\n",
        "                product[name][1]=quantity\n",
        "                print(f\"product '{name}' updated successfully.\")\n",
        "            else:\n",
        "                print(\"Input error, please select again\")\n",
        "        elif choice=='3':\n",
        "            if product:\n",
        "                print(\"\\nProduct list: \")\n",
        "                for name,details in product.items():\n",
        "                    print(f\"{name}: {details[0]}, {details[1]}.\")\n",
        "            else:\n",
        "                print(\"There are no products. Please add products first.\")\n",
        "        elif choice=='4' or choice=='stop':\n",
        "            print(\"You have successfully logged out, thank you for using!\")\n",
        "            break\n",
        "        else:\n",
        "            print(\"Your input is invalid, please select again.\")\n",
        "main()"
      ]
    },
    {
      "cell_type": "code",
      "source": [
        "from google.colab import drive\n",
        "drive.mount('/content/drive')"
      ],
      "metadata": {
        "colab": {
          "base_uri": "https://localhost:8080/"
        },
        "id": "0jA8WX3CXkQn",
        "outputId": "ed18a3ea-1d28-48c4-a33e-f02fcc743c77"
      },
      "execution_count": 4,
      "outputs": [
        {
          "output_type": "stream",
          "name": "stdout",
          "text": [
            "Drive already mounted at /content/drive; to attempt to forcibly remount, call drive.mount(\"/content/drive\", force_remount=True).\n"
          ]
        }
      ]
    },
    {
      "cell_type": "code",
      "source": [],
      "metadata": {
        "id": "nhZIG-27XIeV"
      },
      "execution_count": null,
      "outputs": []
    }
  ]
}