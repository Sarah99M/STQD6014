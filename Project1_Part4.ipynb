{
  "nbformat": 4,
  "nbformat_minor": 0,
  "metadata": {
    "colab": {
      "provenance": [],
      "mount_file_id": "1lOZSzIojquaUFsc2lT2lykwcQKEwMOcr",
      "authorship_tag": "ABX9TyP+uCAIXr5RaLJHcgXMs5tn",
      "include_colab_link": true
    },
    "kernelspec": {
      "name": "python3",
      "display_name": "Python 3"
    },
    "language_info": {
      "name": "python"
    }
  },
  "cells": [
    {
      "cell_type": "markdown",
      "metadata": {
        "id": "view-in-github",
        "colab_type": "text"
      },
      "source": [
        "<a href=\"https://colab.research.google.com/github/Sarah99M/STQD6014/blob/main/Project1_Part4.ipynb\" target=\"_parent\"><img src=\"https://colab.research.google.com/assets/colab-badge.svg\" alt=\"Open In Colab\"/></a>"
      ]
    },
    {
      "cell_type": "code",
      "execution_count": 1,
      "metadata": {
        "id": "qq6MGucjcx4t"
      },
      "outputs": [],
      "source": [
        "def creat_file():\n",
        "    #Create two blank documents\n",
        "    movie_file=\"movie.txt\"\n",
        "    sport_file=\"sport.txt\"\n",
        "\n",
        "    #Enter five movies in the movie file\n",
        "    with open(movie_file,'w')as movie_file:\n",
        "        movie_file.write(\"Forrest Gump\\n\")\n",
        "        movie_file.write(\"Flipped\\n\")\n",
        "        movie_file.write(\"Green Book\\n\")\n",
        "        movie_file.write(\"Harry Potter\\n\")\n",
        "        movie_file.write(\"The Truman Show\\n\")\n",
        "\n",
        "        #creat sport file\n",
        "    with open(sport_file,'w')as sport_file:\n",
        "        sport_file.write(\"swim\\n\")\n",
        "        sport_file.write(\"table tennis\\n\")\n",
        "        sport_file.write(\"basketball\\n\")\n",
        "        sport_file.write(\"badminton\\n\")\n",
        "        sport_file.write(\"fencing\\n\")"
      ]
    },
    {
      "cell_type": "code",
      "source": [
        "def file_description():\n",
        "    try:\n",
        "        movie_file=\"movie.txt\"\n",
        "        sport_file=\"sport.txt\"\n",
        "        #add  movie description\n",
        "        with open(movie_file,'a')as amf:\n",
        "            amf.write(\"\\n\")\n",
        "            amf.write(\"Describe the following movie: \\n\")\n",
        "            amf.write(\"Forrest Gump: It depicts the simple and honest character and absurd and bizarre experiences of a mentally retarded person - Forrest Gump.\\n\")\n",
        "            amf.write(\"Flipped: A girl's growth story\\n\")\n",
        "            amf.write(\"Green Book: Movies of the Heart\\n\")\n",
        "            amf.write(\"Harry Potter: Fantasy magic story\\n\")\n",
        "            amf.write(\"The Truman Show: Truman is the protagonist of a popular soap opera. Everything around him is fake. His relatives and friends are all actors, but he knows nothing about it.\\n\")\n",
        "        #add sport description\n",
        "        with open(sport_file,'a')as asf:\n",
        "            asf.write(\"\\n\")\n",
        "            asf.write(\"Describe the following sport: \\n\")\n",
        "            asf.write(\"swim: Full body exercise, strengthen your body, relax your mind and body\\n\")\n",
        "            asf.write(\"table tennis: Small ball sports, flexible and educational\\n\")\n",
        "            asf.write(\"basketball: Team competition, passionate confrontation\\n\")\n",
        "            asf.write(\"badminton: Swing the racket and jump lightly\\n\")\n",
        "            asf.write(\"fencing: Sword fighting competition, agile attack and defense\\n\")\n",
        "    except FileNotFoundError as e:\n",
        "        print(f\"The file cannot be found, adding is invalid\")"
      ],
      "metadata": {
        "id": "Ojviqo8B_M4h"
      },
      "execution_count": 2,
      "outputs": []
    },
    {
      "cell_type": "code",
      "source": [
        "def read_file():\n",
        "    try:\n",
        "        movie_file=\"movie.txt\"\n",
        "        sport_file=\"sport.txt\"\n",
        "        with open(movie_file,'r')as mf:\n",
        "            print(\"The movie is as follows: \")\n",
        "            print(mf.read())\n",
        "\n",
        "        with open(sport_file,'r')as sf:\n",
        "            print(\"The exercise is as follows: \")\n",
        "            print(sf.read())\n",
        "\n",
        "    except FileNotFoundError as e:\n",
        "        print(f\"File not found!\")"
      ],
      "metadata": {
        "id": "p3XSLWh__POj"
      },
      "execution_count": 3,
      "outputs": []
    },
    {
      "cell_type": "code",
      "source": [
        "creat_file()\n",
        "file_description()\n",
        "read_file()"
      ],
      "metadata": {
        "colab": {
          "base_uri": "https://localhost:8080/"
        },
        "id": "NTBTR58w_SNb",
        "outputId": "135c1373-f0ce-4140-feef-0650aab19f15"
      },
      "execution_count": 4,
      "outputs": [
        {
          "output_type": "stream",
          "name": "stdout",
          "text": [
            "The movie is as follows: \n",
            "Forrest Gump\n",
            "Flipped\n",
            "Green Book\n",
            "Harry Potter\n",
            "The Truman Show\n",
            "\n",
            "Describe the following movie: \n",
            "Forrest Gump: It depicts the simple and honest character and absurd and bizarre experiences of a mentally retarded person - Forrest Gump.\n",
            "Flipped: A girl's growth story\n",
            "Green Book: Movies of the Heart\n",
            "Harry Potter: Fantasy magic story\n",
            "The Truman Show: Truman is the protagonist of a popular soap opera. Everything around him is fake. His relatives and friends are all actors, but he knows nothing about it.\n",
            "\n",
            "The exercise is as follows: \n",
            "swim\n",
            "table tennis\n",
            "basketball\n",
            "badminton\n",
            "fencing\n",
            "\n",
            "Describe the following sport: \n",
            "swim: Full body exercise, strengthen your body, relax your mind and body\n",
            "table tennis: Small ball sports, flexible and educational\n",
            "basketball: Team competition, passionate confrontation\n",
            "badminton: Swing the racket and jump lightly\n",
            "fencing: Sword fighting competition, agile attack and defense\n",
            "\n"
          ]
        }
      ]
    },
    {
      "cell_type": "code",
      "source": [
        "def file():\n",
        "    movie_file=\"movie.txt\"\n",
        "    sport_file=\"sport.txt\"\n",
        "    try:\n",
        "\n",
        "        #Enter five movies in the movie file\n",
        "        with open(movie_file,'w') as mf:\n",
        "            mf.write(\"Forrest Gump\\n\")\n",
        "            mf.write(\"Flipped\\n\")\n",
        "            mf.write(\"Green Book\\n\")\n",
        "            mf.write(\"Harry Potter\\n\")\n",
        "            mf.write(\"The Truman Show\\n\")\n",
        "\n",
        "        #creat sport file\n",
        "        with open(sport_file,'w') as sf:\n",
        "            sf.write(\"swim\\n\")\n",
        "            sf.write(\"table tennis\\n\")\n",
        "            sf.write(\"basketball\\n\")\n",
        "            sf.write(\"badminton\\n\")\n",
        "            sf.write(\"fencing\\n\")\n",
        "\n",
        "        #add  movie description\n",
        "        with open(movie_file,'a') as amf:\n",
        "            amf.write(\"\\n\")\n",
        "            amf.write(\"Describe the following movie: \\n\")\n",
        "            amf.write(\"Forrest Gump: It depicts the simple and honest character and absurd and bizarre experiences of a mentally retarded person - Forrest Gump.\\n\")\n",
        "            amf.write(\"Flipped: A girl's growth story\\n\")\n",
        "            amf.write(\"Green Book: Movies of the Heart\\n\")\n",
        "            amf.write(\"Harry Potter: Fantasy magic story\\n\")\n",
        "            amf.write(\"The Truman Show: Truman is the protagonist of a popular soap opera. Everything around him is fake. His relatives and friends are all actors, but he knows nothing about it.\\n\")\n",
        "        #add sport description\n",
        "        with open(sport_file,'a') as asf:\n",
        "            asf.write(\"\\n\")\n",
        "            asf.write(\"Describe the following sport: \\n\")\n",
        "            asf.write(\"swim: Full body exercise, strengthen your body, relax your mind and body\\n\")\n",
        "            asf.write(\"table tennis: Small ball sports, flexible and educational\\n\")\n",
        "            asf.write(\"basketball: Team competition, passionate confrontation\\n\")\n",
        "            asf.write(\"badminton: Swing the racket and jump lightly\\n\")\n",
        "            asf.write(\"fencing: Sword fighting competition, agile attack and defense\\n\")\n",
        "\n",
        "        with open(movie_file,'r') as mf:\n",
        "            print(\"The movie is as follows: \")\n",
        "            print(mf.read())\n",
        "\n",
        "        with open(sport_file,'r') as sf:\n",
        "            print(\"The exercise is as follows: \")\n",
        "            print(sf.read())\n",
        "    except FileNotFoundError as e:\n",
        "        print(f\"Error: {e}\")\n",
        "        print(\"One of the files is missing. Please check the file paths and try again.\")\n",
        "\n",
        "file()"
      ],
      "metadata": {
        "colab": {
          "base_uri": "https://localhost:8080/"
        },
        "id": "ibTCZ8KKCCPW",
        "outputId": "7bb11534-52ad-4daa-9bc5-3423bb86605d"
      },
      "execution_count": 11,
      "outputs": [
        {
          "output_type": "stream",
          "name": "stdout",
          "text": [
            "The movie is as follows: \n",
            "Forrest Gump\n",
            "Flipped\n",
            "Green Book\n",
            "Harry Potter\n",
            "The Truman Show\n",
            "\n",
            "Describe the following movie: \n",
            "Forrest Gump: It depicts the simple and honest character and absurd and bizarre experiences of a mentally retarded person - Forrest Gump.\n",
            "Flipped: A girl's growth story\n",
            "Green Book: Movies of the Heart\n",
            "Harry Potter: Fantasy magic story\n",
            "The Truman Show: Truman is the protagonist of a popular soap opera. Everything around him is fake. His relatives and friends are all actors, but he knows nothing about it.\n",
            "\n",
            "The exercise is as follows: \n",
            "swim\n",
            "table tennis\n",
            "basketball\n",
            "badminton\n",
            "fencing\n",
            "\n",
            "Describe the following sport: \n",
            "swim: Full body exercise, strengthen your body, relax your mind and body\n",
            "table tennis: Small ball sports, flexible and educational\n",
            "basketball: Team competition, passionate confrontation\n",
            "badminton: Swing the racket and jump lightly\n",
            "fencing: Sword fighting competition, agile attack and defense\n",
            "\n"
          ]
        }
      ]
    },
    {
      "cell_type": "code",
      "source": [],
      "metadata": {
        "id": "fgRbuDj-CF7t"
      },
      "execution_count": null,
      "outputs": []
    }
  ]
}