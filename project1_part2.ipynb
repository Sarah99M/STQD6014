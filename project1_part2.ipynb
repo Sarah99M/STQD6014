{
  "nbformat": 4,
  "nbformat_minor": 0,
  "metadata": {
    "colab": {
      "provenance": [],
      "mount_file_id": "1Rl4WulR1TOskqT2lxmvdGriaqetH8pTp",
      "authorship_tag": "ABX9TyMr1upTR+0nTL3+3dWK33Id",
      "include_colab_link": true
    },
    "kernelspec": {
      "name": "python3",
      "display_name": "Python 3"
    },
    "language_info": {
      "name": "python"
    }
  },
  "cells": [
    {
      "cell_type": "markdown",
      "metadata": {
        "id": "view-in-github",
        "colab_type": "text"
      },
      "source": [
        "<a href=\"https://colab.research.google.com/github/Sarah99M/STQD6014/blob/main/project1_part2.ipynb\" target=\"_parent\"><img src=\"https://colab.research.google.com/assets/colab-badge.svg\" alt=\"Open In Colab\"/></a>"
      ]
    },
    {
      "cell_type": "code",
      "execution_count": 18,
      "metadata": {
        "colab": {
          "base_uri": "https://localhost:8080/"
        },
        "id": "Fp-zCsdIW6D7",
        "outputId": "d2e7afae-bca0-43aa-9a3b-f971f6d8c56c"
      },
      "outputs": [
        {
          "output_type": "stream",
          "name": "stdout",
          "text": [
            "\n",
            "Please select your operation\n",
            "1.Add new product\n",
            "2.Update product prices and quantity\n",
            "3.View all products\n",
            "4.Stop the program\n",
            "please choice: 1, 2, 3, 4 or Stop: 1\n",
            "Please enter product name: a\n",
            "Please enter product price: 3\n",
            "Please enter product quantity: 4\n",
            "product 'a' added successfully.\n",
            "\n",
            "Please select your operation\n",
            "1.Add new product\n",
            "2.Update product prices and quantity\n",
            "3.View all products\n",
            "4.Stop the program\n",
            "please choice: 1, 2, 3, 4 or Stop: 2\n",
            "Please enter the name of the product to be updated: a\n",
            "1.Update price\n",
            "2.Update quantity\n",
            "Please select 1 or 2: 1\n",
            "Enter new price in 'a': 5\n",
            "product 'a' updated successfully.\n",
            "\n",
            "Please select your operation\n",
            "1.Add new product\n",
            "2.Update product prices and quantity\n",
            "3.View all products\n",
            "4.Stop the program\n",
            "please choice: 1, 2, 3, 4 or Stop: 3\n",
            "\n",
            "Product list: \n",
            "a: 5.0, 4.\n",
            "\n",
            "Please select your operation\n",
            "1.Add new product\n",
            "2.Update product prices and quantity\n",
            "3.View all products\n",
            "4.Stop the program\n",
            "please choice: 1, 2, 3, 4 or Stop: 4\n",
            "You have successfully logged out, thank you for using!\n"
          ]
        }
      ],
      "source": [
        "def main():\n",
        "    product={}\n",
        "\n",
        "    while True:\n",
        "        print(\"\\nPlease select your operation\")\n",
        "        print(\"1.Add new product\")\n",
        "        print(\"2.Update product prices and quantity\")\n",
        "        print(\"3.View all products\")\n",
        "        print(\"4.Stop the program\")\n",
        "        choice=input(\"please choice: 1, 2, 3, 4 or stop: \")\n",
        "        if choice=='1':\n",
        "            name=str(input(\"Please enter product name: \"))\n",
        "            price=float(input(\"Please enter product price: \"))\n",
        "            quantity=int(input(\"Please enter product quantity: \"))\n",
        "            product[name]=[price,quantity]\n",
        "            print(f\"product '{name}' added successfully.\")\n",
        "        elif choice=='2':\n",
        "            name=input(\"Please enter the name of the product to be updated: \")\n",
        "            print(\"1.Update price\")\n",
        "            print(\"2.Update quantity\")\n",
        "            choice=input(\"Please select 1 or 2: \")\n",
        "            if choice=='1':\n",
        "                price=float(input(f\"Enter new price in '{name}': \"))\n",
        "                product[name][0]=price\n",
        "                print(f\"product '{name}' updated successfully.\")\n",
        "            elif choice=='2':\n",
        "                quantity=int(input(f\"Enter new quantity in '{name}': \"))\n",
        "                product[name][1]=quantity\n",
        "                print(f\"product '{name}' updated successfully.\")\n",
        "            else:\n",
        "                print(\"Input error, please select again\")\n",
        "        elif choice=='3':\n",
        "            if product:\n",
        "                print(\"\\nProduct list: \")\n",
        "                for name,details in product.items():\n",
        "                    print(f\"{name}: {details[0]}, {details[1]}.\")\n",
        "            else:\n",
        "                print(\"There are no products. Please add products first.\")\n",
        "        elif choice=='4' or choice=='stop':\n",
        "            print(\"You have successfully logged out, thank you for using!\")\n",
        "            break\n",
        "        else:\n",
        "            print(\"Your input is invalid, please select again.\")\n",
        "main()"
      ]
    },
    {
      "cell_type": "code",
      "source": [
        ":from google.colab import drive\n",
        "drive.mount('/content/drive')"
      ],
      "metadata": {
        "colab": {
          "base_uri": "https://localhost:8080/"
        },
        "id": "0jA8WX3CXkQn",
        "outputId": "cd0e154a-720e-4ab3-9428-5903055033bb"
      },
      "execution_count": 1,
      "outputs": [
        {
          "output_type": "stream",
          "name": "stdout",
          "text": [
            "Drive already mounted at /content/drive; to attempt to forcibly remount, call drive.mount(\"/content/drive\", force_remount=True).\n"
          ]
        }
      ]
    },
    {
      "cell_type": "code",
      "source": [],
      "metadata": {
        "id": "nhZIG-27XIeV"
      },
      "execution_count": null,
      "outputs": []
    }
  ]
}