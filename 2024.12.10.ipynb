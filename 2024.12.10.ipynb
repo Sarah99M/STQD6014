{
 "cells": [
  {
   "cell_type": "code",
   "execution_count": 11,
   "id": "3d0beb7a-1a4c-482d-96b3-5c50ad8830e1",
   "metadata": {},
   "outputs": [],
   "source": [
    "import pandas as pd \n",
    "import numpy  as np \n",
    "import os"
   ]
  },
  {
   "cell_type": "code",
   "execution_count": 3,
   "id": "f4113a13-928f-4a76-8537-29ca0de5575b",
   "metadata": {},
   "outputs": [
    {
     "data": {
      "text/plain": [
       "'C:\\\\Users\\\\Dell\\\\Desktop\\\\python'"
      ]
     },
     "execution_count": 3,
     "metadata": {},
     "output_type": "execute_result"
    }
   ],
   "source": [
    "os.getcwd()"
   ]
  },
  {
   "cell_type": "markdown",
   "id": "da254e94-5868-401e-bb5a-30f9e0bd6f03",
   "metadata": {},
   "source": [
    "### HDF5"
   ]
  },
  {
   "cell_type": "code",
   "execution_count": 4,
   "id": "bed90fe5-ac23-4587-9bf4-ee52cbc0073e",
   "metadata": {},
   "outputs": [],
   "source": [
    "import h5py"
   ]
  },
  {
   "cell_type": "code",
   "execution_count": 8,
   "id": "75bfbf89-e266-4d95-84f2-dd042b69e47c",
   "metadata": {},
   "outputs": [],
   "source": [
    "#create an HDF5 file \n",
    "with h5py.File('example.h5','w')as hf: \n",
    "    #create a group\n",
    "    group=hf.create_group('group1')\n",
    "    #create datasets under group8\n",
    "    group.create_dataset('dataset1',data=np.arange(10))\n",
    "    group.create_dataset('dataset2',data=np.random.random(10))\n",
    "    #Add attribute to group 1 \n",
    "    group.attrs['detail']='This is group 1'"
   ]
  },
  {
   "cell_type": "code",
   "execution_count": 10,
   "id": "cb1141cc-cf76-4cf6-a694-afd8aefa26c4",
   "metadata": {},
   "outputs": [
    {
     "name": "stdout",
     "output_type": "stream",
     "text": [
      "Group Attribute: This is group 1\n",
      "Dataset1 [0 1 2 3 4 5 6 7 8 9]\n",
      "Dataset2 [0.27332859 0.31158017 0.89036173 0.76651694 0.99972333 0.25877024\n",
      " 0.13808219 0.80835749 0.91798874 0.2981409 ]\n"
     ]
    }
   ],
   "source": [
    "#Open an HDF5 file \n",
    "with h5py.File('example.h5','r')as hff:\n",
    "    #Access the group \n",
    "    group=hff['group1']\n",
    "    #Access the datasets \n",
    "    data1=group['dataset1'][:]\n",
    "    data2=group['dataset2'][:]\n",
    "    #Access the attribute \n",
    "    att=group.attrs['detail']\n",
    "    print('Group Attribute:',att)\n",
    "    print('Dataset1',data1)\n",
    "    print('Dataset2',data2)"
   ]
  },
  {
   "cell_type": "code",
   "execution_count": 18,
   "id": "8e71d79d-b674-4f3b-b7d1-792d9afa96e9",
   "metadata": {},
   "outputs": [
    {
     "name": "stdout",
     "output_type": "stream",
     "text": [
      "Key group:\n",
      "group1\n",
      "Group Attribute: {'detail': 'This is group 1'}\n",
      "Key dataset:\n",
      "['dataset1', 'dataset2']\n"
     ]
    }
   ],
   "source": [
    "#Extract the name of groups and datasets \n",
    "with h5py.File('example.h5','r')as hfff:\n",
    "    #Print key group \n",
    "    print('Key group:')\n",
    "    for key in hfff.keys():\n",
    "        print(key)\n",
    "        #Print key attribute \n",
    "        item=hfff[key]\n",
    "        print('Group Attribute:',dict(item.attrs))\n",
    "        #Print key dataset\n",
    "        print('Key dataset:')\n",
    "        item=hfff[key]\n",
    "        print(list(item.keys()))"
   ]
  },
  {
   "cell_type": "code",
   "execution_count": null,
   "id": "76e5ecd8-1fac-4e4c-8b67-90c5b2f1c226",
   "metadata": {},
   "outputs": [],
   "source": [
    "    #Print key dataset\n",
    "    print('Key dataset:')\n",
    "    item=hfff[key]\n",
    "    print(list(item.keys()))"
   ]
  },
  {
   "cell_type": "code",
   "execution_count": 20,
   "id": "d7844acd-277b-4035-8336-5afd6a8d18ef",
   "metadata": {},
   "outputs": [],
   "source": [
    "#Create HDF5 file using pandas\n",
    "df=pd.DataFrame({\n",
    "    'A':range(10),\n",
    "    'B':np.random.random(10)\n",
    "})\n",
    "\n",
    "#Stare as HDF5 file \n",
    "df.to_hdf('example2.h5',key='df',mode='w')"
   ]
  },
  {
   "cell_type": "code",
   "execution_count": 22,
   "id": "c0e079dc-1f7d-4bdb-bbe9-f51dad1cc5fe",
   "metadata": {},
   "outputs": [
    {
     "name": "stdout",
     "output_type": "stream",
     "text": [
      "   A         B\n",
      "0  0  0.636939\n",
      "1  1  0.469725\n",
      "2  2  0.520868\n",
      "3  3  0.222652\n",
      "4  4  0.828630\n",
      "5  5  0.227684\n",
      "6  6  0.503376\n",
      "7  7  0.254718\n",
      "8  8  0.965364\n",
      "9  9  0.209932\n"
     ]
    }
   ],
   "source": [
    "#Load data using pandas\n",
    "df2=pd.read_hdf('example2.h5',key='df')\n",
    "print(df2)"
   ]
  },
  {
   "cell_type": "code",
   "execution_count": 23,
   "id": "9095d99c-e905-44c9-b9c4-1c1ae804cf96",
   "metadata": {},
   "outputs": [],
   "source": [
    "os.chdir('C:\\\\Users\\\\Dell\\\\Desktop\\\\python')"
   ]
  },
  {
   "cell_type": "code",
   "execution_count": 36,
   "id": "d01bd32f-8f90-4311-b87b-f83ec7c4d752",
   "metadata": {},
   "outputs": [
    {
     "name": "stdout",
     "output_type": "stream",
     "text": [
      "Key group:\n",
      "experiment_001\n",
      "Group Attribute: {'date': '2024-11-25', 'description': 'Experiment 1: Temperature and Pressure Measurement'}\n",
      "Key dataset:\n",
      "['pressure', 'temperature']\n",
      "experiment_002\n",
      "Group Attribute: {'date': '2024-11-26', 'description': 'Experiment 2: Temperature and Pressure Measurement'}\n",
      "Key dataset:\n",
      "['pressure', 'temperature']\n"
     ]
    }
   ],
   "source": [
    "os.chdir('C://Users//Dell//Desktop//python/sample dataset/sample dataset')\n",
    "#Extract the name of groups and datasets\n",
    "with h5py.File('experiment.h5','r')as hfff:\n",
    "    #Print key group \n",
    "    print('Key group:')\n",
    "    for key in hfff.keys():\n",
    "        print(key)\n",
    "        #Print key attribute \n",
    "        item=hfff[key]\n",
    "        print('Group Attribute:',dict(item.attrs))\n",
    "        #Print key dataset\n",
    "        print('Key dataset:')\n",
    "        item=hfff[key]\n",
    "        print(list(item.keys()))"
   ]
  },
  {
   "cell_type": "code",
   "execution_count": 29,
   "id": "bbb9f0f7-c82a-4029-bdcf-9233357cf0f9",
   "metadata": {},
   "outputs": [
    {
     "name": "stdout",
     "output_type": "stream",
     "text": [
      "Group Attribute: This is group 1\n",
      "Dataset1 [8.96556011e-01 7.73790827e-01 3.82681557e-01 1.87586425e-02\n",
      " 1.24563362e-01 4.99072256e-02 4.36004982e-01 7.11262828e-01\n",
      " 1.11961856e-01 4.01480142e-02 2.89629544e-01 3.68382323e-02\n",
      " 3.41715693e-01 9.02426304e-01 1.96992331e-01 5.51560875e-01\n",
      " 5.84561144e-01 9.31944345e-01 9.43228876e-01 7.19905833e-01\n",
      " 5.37983974e-01 2.69201620e-01 7.98018127e-01 9.87396974e-01\n",
      " 5.43518362e-01 8.35444158e-01 5.25275717e-02 9.32290954e-01\n",
      " 2.72372059e-01 8.49956944e-01 8.06471741e-02 7.92704321e-01\n",
      " 3.94559423e-01 8.63374049e-01 6.77297039e-01 6.52007201e-02\n",
      " 1.96638509e-01 9.66192681e-01 6.71726083e-01 8.58490241e-01\n",
      " 4.03055586e-01 6.84026410e-01 2.33944159e-01 4.51877237e-01\n",
      " 8.38319508e-01 4.44737533e-02 9.55962407e-01 3.07192951e-04\n",
      " 7.16295648e-01 8.69301646e-02 5.16439981e-01 4.92363831e-01\n",
      " 5.30596688e-01 8.17417971e-01 5.88633192e-01 2.26820121e-01\n",
      " 7.29022888e-01 4.18271709e-01 2.46341056e-01 8.20366928e-01\n",
      " 2.27679405e-01 3.52633020e-01 2.47977471e-01 9.72013215e-01\n",
      " 2.00673727e-02 6.75153539e-01 4.48652766e-01 6.34295595e-01\n",
      " 9.91062395e-01 1.95122088e-01 4.81637962e-01 4.11268940e-01\n",
      " 7.27429094e-01 1.93897925e-01 4.82945801e-01 2.68959638e-01\n",
      " 5.60157802e-01 4.12048616e-01 3.18751900e-03 8.87686756e-01\n",
      " 1.00302814e-01 2.64939367e-01 2.25141947e-01 4.76115612e-01\n",
      " 3.92090650e-01 6.23306585e-01 7.18198715e-01 4.85462132e-01\n",
      " 5.75165926e-01 7.28769562e-01 3.49140005e-01 8.45751946e-01\n",
      " 5.68650675e-01 5.63473022e-01 4.57840984e-01 2.80785219e-01\n",
      " 5.84641745e-01 2.00608289e-01 1.63595515e-01 5.21290259e-03]\n",
      "Dataset2 [0.97425368 0.99152279 0.14452026 0.29170646 0.42595925 0.13358701\n",
      " 0.78844685 0.84888044 0.95448202 0.09136648 0.05991677 0.9129247\n",
      " 0.93412555 0.57289599 0.77884954 0.30165421 0.75446354 0.2790052\n",
      " 0.59465077 0.64025184 0.42280421 0.97760376 0.26453945 0.37523615\n",
      " 0.17824969 0.55168954 0.20663188 0.87492387 0.87825034 0.23814476\n",
      " 0.40642285 0.12754678 0.49602059 0.66886674 0.1037187  0.39848705\n",
      " 0.74278458 0.94126959 0.48536927 0.57451013 0.96870276 0.53723338\n",
      " 0.81254566 0.36086305 0.96479866 0.44157928 0.87262762 0.07042351\n",
      " 0.5496186  0.23210555 0.88972525 0.51178314 0.96882886 0.37235688\n",
      " 0.75550016 0.51477222 0.54808738 0.901447   0.19604896 0.5500287\n",
      " 0.27425631 0.95587672 0.43862944 0.82721583 0.20653221 0.16505149\n",
      " 0.40793232 0.93444767 0.12521605 0.3138126  0.88502239 0.2934064\n",
      " 0.0446528  0.48604687 0.86003072 0.50876254 0.63889429 0.79981437\n",
      " 0.74675635 0.81426812 0.33098741 0.88042653 0.69554393 0.59108537\n",
      " 0.00864079 0.67876592 0.29726868 0.63918316 0.2395777  0.97795739\n",
      " 0.76613464 0.30223159 0.13479864 0.14979262 0.49271423 0.308261\n",
      " 0.55690602 0.4670148  0.30145132 0.71981079]\n"
     ]
    }
   ],
   "source": [
    "with h5py.File('experiment.h5','r')as hff:\n",
    "    #Access the group \n",
    "    group1=hff['experiment_001']\n",
    "    #Access the datasets \n",
    "    pressure1=group1['pressure']['data'][:]\n",
    "    temp1=group1['temperature']['data'][:]\n",
    "    \n",
    "    #Access the attribute \n",
    "    #att=group.attrs['detail']\n",
    "    \n",
    "    print('Group Attribute:',att)\n",
    "    print('Dataset1',pressure1)\n",
    "    print('Dataset2',temp1)"
   ]
  },
  {
   "cell_type": "markdown",
   "id": "d0b44ac6-782d-4e68-80e4-74cc2df05350",
   "metadata": {},
   "source": [
    "# Cleaning gg"
   ]
  },
  {
   "cell_type": "code",
   "execution_count": 30,
   "id": "5b991399-f644-43aa-9b57-08042344c6a6",
   "metadata": {},
   "outputs": [],
   "source": [
    "import numpy as np \n",
    "import pandas as pd"
   ]
  },
  {
   "cell_type": "code",
   "execution_count": 31,
   "id": "6215ad18-20b8-4004-bb31-1efcfda59181",
   "metadata": {},
   "outputs": [
    {
     "name": "stdout",
     "output_type": "stream",
     "text": [
      "   Name  Age City\n",
      "0   Ali   25   KL\n",
      "1   Abu   36  SDB\n",
      "2  Siti   35  MLK\n",
      "3   Lee   38  PNG\n",
      "4   Ali   35   KL\n",
      "0    False\n",
      "1    False\n",
      "2    False\n",
      "3    False\n",
      "4    False\n",
      "dtype: bool\n"
     ]
    }
   ],
   "source": [
    "#Duplicates\n",
    "data={'Name':['Ali','Abu','Siti','Lee','Ali'], \n",
    "      'Age':[25,36,35,38,35], \n",
    "      'City':['KL','SDB','MLK','PNG','KL']}\n",
    "df=pd.DataFrame(data)\n",
    "print(df)\n",
    "duplicate=df.duplicated()\n",
    "print(duplicate)"
   ]
  },
  {
   "cell_type": "code",
   "execution_count": 32,
   "id": "ad0f771d-f087-4e54-b7d4-0d0cb137cb73",
   "metadata": {},
   "outputs": [
    {
     "name": "stdout",
     "output_type": "stream",
     "text": [
      "   Name  Age City\n",
      "0   Ali   25   KL\n",
      "1   Abu   36  SDB\n",
      "2  Siti   35  MLK\n",
      "3   Lee   38  PNG\n",
      "4   Ali   35   KL\n"
     ]
    }
   ],
   "source": [
    "df_no_dup=df.drop_duplicates()\n",
    "print(df_no_dup)"
   ]
  },
  {
   "cell_type": "code",
   "execution_count": 37,
   "id": "397c1fe5-34fa-48c2-976e-4d3f05bb8e84",
   "metadata": {},
   "outputs": [
    {
     "name": "stdout",
     "output_type": "stream",
     "text": [
      "0    False\n",
      "1    False\n",
      "2    False\n",
      "3    False\n",
      "4     True\n",
      "dtype: bool\n"
     ]
    }
   ],
   "source": [
    "dup_name=df.duplicated(subset='Name')\n",
    "print(dup_name)"
   ]
  },
  {
   "cell_type": "code",
   "execution_count": 38,
   "id": "b514bbd4-5663-4572-b73d-a6cd88d04d43",
   "metadata": {},
   "outputs": [
    {
     "name": "stdout",
     "output_type": "stream",
     "text": [
      "   Name  Age City\n",
      "1   Abu   36  SDB\n",
      "2  Siti   35  MLK\n",
      "3   Lee   38  PNG\n"
     ]
    }
   ],
   "source": [
    "df_no_dup_name=df.drop_duplicates(subset='Name',keep=False)\n",
    "print(df_no_dup_name)"
   ]
  },
  {
   "cell_type": "markdown",
   "id": "2ad9af08-5b85-40d6-ac39-4e435561a354",
   "metadata": {},
   "source": [
    "### Handing and MIssing"
   ]
  },
  {
   "cell_type": "code",
   "execution_count": 46,
   "id": "e69df91f-c9e7-47c2-a580-3a71b9d55bd3",
   "metadata": {},
   "outputs": [
    {
     "name": "stdout",
     "output_type": "stream",
     "text": [
      "     A    B        C\n",
      "0  1.0  NaN       na\n",
      "1  2.0  2.0    valid\n",
      "2  NaN  3.0     None\n",
      "3  4.0  4.0  missing\n",
      "       A      B     C\n",
      "0   True  False  True\n",
      "1   True   True  True\n",
      "2  False   True  True\n",
      "3   True   True  True\n"
     ]
    }
   ],
   "source": [
    "data={\n",
    "    'A':[1,2,None,4],\n",
    "    'B':[np.nan,2,3,4],\n",
    "    'C':['na','valid','None','missing']\n",
    "}\n",
    "df=pd.DataFrame(data)\n",
    "print(df)\n",
    "\n",
    "checkmiss=df.notna()\n",
    "print(checkmiss)"
   ]
  },
  {
   "cell_type": "code",
   "execution_count": 47,
   "id": "d3f27e98-fd47-4115-877b-09b6dd320639",
   "metadata": {},
   "outputs": [
    {
     "name": "stdout",
     "output_type": "stream",
     "text": [
      "         C\n",
      "0       na\n",
      "1    valid\n",
      "2     None\n",
      "3  missing\n"
     ]
    }
   ],
   "source": [
    "df_drop=df.dropna(axis=1)\n",
    "print(df_drop)"
   ]
  },
  {
   "cell_type": "code",
   "execution_count": 49,
   "id": "fc302755-d1d7-4583-a7d6-f21c77f93246",
   "metadata": {},
   "outputs": [
    {
     "name": "stdout",
     "output_type": "stream",
     "text": [
      "     A    B        C\n",
      "0  1.0  NaN       na\n",
      "1  2.0  2.0    valid\n",
      "3  4.0  4.0  missing\n"
     ]
    }
   ],
   "source": [
    "df_drop=df.dropna(subset=['A'],axis=0)\n",
    "print(df_drop)"
   ]
  },
  {
   "cell_type": "code",
   "execution_count": 50,
   "id": "832a0502-9a09-40cb-9d3b-8cf44a1f58ef",
   "metadata": {},
   "outputs": [
    {
     "name": "stdout",
     "output_type": "stream",
     "text": [
      "     A    B        C\n",
      "0  1.0  NaN       na\n",
      "1  2.0  2.0    valid\n",
      "2  NaN  3.0     None\n",
      "3  4.0  4.0  missing\n"
     ]
    }
   ],
   "source": [
    "print(df)"
   ]
  },
  {
   "cell_type": "code",
   "execution_count": 51,
   "id": "3c71bd88-4c46-4c91-8fd1-5c4c197d28b3",
   "metadata": {},
   "outputs": [
    {
     "name": "stdout",
     "output_type": "stream",
     "text": [
      "        A       B        C\n",
      "0     1.0  9999.0       na\n",
      "1     2.0     2.0    valid\n",
      "2  9999.0     3.0     None\n",
      "3     4.0     4.0  missing\n"
     ]
    }
   ],
   "source": [
    "df_fill=df.fillna(9999)\n",
    "print(df_fill)"
   ]
  },
  {
   "cell_type": "code",
   "execution_count": 52,
   "id": "c262dc8b-d6e5-4272-bea8-537a5c0501cb",
   "metadata": {},
   "outputs": [
    {
     "name": "stdout",
     "output_type": "stream",
     "text": [
      "     A    B        C\n",
      "0  1.0  NaN       na\n",
      "1  2.0  2.0    valid\n",
      "2  2.0  3.0     None\n",
      "3  4.0  4.0  missing\n"
     ]
    }
   ],
   "source": [
    "df_ffill=df.ffill()\n",
    "print(df_ffill)"
   ]
  },
  {
   "cell_type": "code",
   "execution_count": 53,
   "id": "6611a10c-9067-4a40-9f2e-825013345bd2",
   "metadata": {},
   "outputs": [
    {
     "name": "stdout",
     "output_type": "stream",
     "text": [
      "     A    B        C\n",
      "0  1.0  2.0       na\n",
      "1  2.0  2.0    valid\n",
      "2  4.0  3.0     None\n",
      "3  4.0  4.0  missing\n"
     ]
    }
   ],
   "source": [
    "df_bfill=df.bfill()\n",
    "print(df_bfill)"
   ]
  },
  {
   "cell_type": "code",
   "execution_count": 54,
   "id": "487e222e-46bf-4a02-be3b-5d5891bc7ea7",
   "metadata": {},
   "outputs": [
    {
     "name": "stdout",
     "output_type": "stream",
     "text": [
      "     A    B        C\n",
      "0  1.0  NaN       na\n",
      "1  2.0  2.0    valid\n",
      "2  3.0  3.0     None\n",
      "3  4.0  4.0  missing\n"
     ]
    },
    {
     "name": "stderr",
     "output_type": "stream",
     "text": [
      "C:\\Users\\Dell\\AppData\\Local\\Temp\\ipykernel_15904\\43332669.py:1: FutureWarning: DataFrame.interpolate with object dtype is deprecated and will raise in a future version. Call obj.infer_objects(copy=False) before interpolating instead.\n",
      "  df_linearfill=df.interpolate(method='linear')\n"
     ]
    }
   ],
   "source": [
    "df_linearfill=df.interpolate(method='linear')\n",
    "print(df_linearfill)"
   ]
  },
  {
   "cell_type": "code",
   "execution_count": 55,
   "id": "d0962633-cf76-494b-9297-56fc8e1b3565",
   "metadata": {},
   "outputs": [
    {
     "name": "stdout",
     "output_type": "stream",
     "text": [
      "     A    B        C\n",
      "0  1.0  NaN       na\n",
      "1  2.0  2.0    valid\n",
      "2  NaN  3.0     None\n",
      "3  4.0  4.0  missing\n"
     ]
    }
   ],
   "source": [
    "print(df)"
   ]
  },
  {
   "cell_type": "code",
   "execution_count": 65,
   "id": "fa4e8856-a3e6-4be5-b35f-f80ccdabd65d",
   "metadata": {},
   "outputs": [
    {
     "name": "stdout",
     "output_type": "stream",
     "text": [
      "     A    B        C\n",
      "0  2.0  NaN       na\n",
      "1  2.0  2.0    valid\n",
      "2  NaN  3.0     None\n",
      "3  4.0  4.0  missing\n"
     ]
    }
   ],
   "source": [
    "data={\n",
    "    'A':[2,2,None,4],\n",
    "    'B':[np.nan,2,3,4],\n",
    "    'C':['na','valid','None','missing']\n",
    "}\n",
    "df=pd.DataFrame(data)\n",
    "print(df)"
   ]
  },
  {
   "cell_type": "code",
   "execution_count": 66,
   "id": "5f0ebafb-956a-4d72-8b95-baa2371b1ec2",
   "metadata": {},
   "outputs": [
    {
     "data": {
      "text/plain": [
       "2.0"
      ]
     },
     "execution_count": 66,
     "metadata": {},
     "output_type": "execute_result"
    }
   ],
   "source": [
    "df['A'].median()"
   ]
  },
  {
   "cell_type": "code",
   "execution_count": 67,
   "id": "a786f47f-513c-48f3-b03d-87885dae80a3",
   "metadata": {},
   "outputs": [
    {
     "name": "stdout",
     "output_type": "stream",
     "text": [
      "     A    B        C\n",
      "0  2.0  NaN       na\n",
      "1  2.0  2.0    valid\n",
      "2  2.0  3.0     None\n",
      "3  4.0  4.0  missing\n"
     ]
    }
   ],
   "source": [
    "df['A']=df['A'].fillna(df['A'].mode()[0])\n",
    "print(df)"
   ]
  },
  {
   "cell_type": "code",
   "execution_count": 59,
   "id": "e03c1606-bf29-4a5f-9648-81932828e07d",
   "metadata": {},
   "outputs": [
    {
     "name": "stdout",
     "output_type": "stream",
     "text": [
      "     A    B        C\n",
      "0  3.0  3.0       na\n",
      "1  2.0  2.0    valid\n",
      "2  3.0  3.0     None\n",
      "3  4.0  4.0  missing\n"
     ]
    }
   ],
   "source": [
    "df['B']=df['B'].fillna(df['B'].median())\n",
    "print(df)"
   ]
  },
  {
   "cell_type": "markdown",
   "id": "7605ec5c-75eb-4446-898f-bf051a171ec3",
   "metadata": {},
   "source": [
    "### Replacing value"
   ]
  },
  {
   "cell_type": "code",
   "execution_count": 68,
   "id": "2cdd7c4c-52b2-4837-aecf-94ff1e3ac3cb",
   "metadata": {},
   "outputs": [
    {
     "name": "stdout",
     "output_type": "stream",
     "text": [
      "   A       B\n",
      "0  1   apple\n",
      "1  2  banana\n",
      "2  3  orange\n",
      "3  4    kiwi\n"
     ]
    }
   ],
   "source": [
    "df=pd.DataFrame({\n",
    "    'A':[1,2,3,4], \n",
    "    'B':['apple','banana','orange','kiwi']\n",
    "})\n",
    "print(df)"
   ]
  },
  {
   "cell_type": "code",
   "execution_count": 70,
   "id": "16e2d788-fa92-4b70-8e0e-d18f034f2301",
   "metadata": {},
   "outputs": [
    {
     "name": "stdout",
     "output_type": "stream",
     "text": [
      "   A       B\n",
      "0  1  orange\n",
      "1  2  banana\n",
      "2  3  orange\n",
      "3  4    kiwi\n"
     ]
    }
   ],
   "source": [
    "df['B']=df['B'].replace('apple','orange')\n",
    "print(df)"
   ]
  },
  {
   "cell_type": "code",
   "execution_count": 71,
   "id": "98c1d900-ea5b-49ca-b5e6-72fc0f5adbd1",
   "metadata": {},
   "outputs": [
    {
     "name": "stdout",
     "output_type": "stream",
     "text": [
      "   A      B\n",
      "0  1  fruit\n",
      "1  2  fruit\n",
      "2  3  fruit\n",
      "3  4   kiwi\n"
     ]
    }
   ],
   "source": [
    "df['B']=df['B'].replace(['banana','orange'],'fruit')\n",
    "print(df)"
   ]
  },
  {
   "cell_type": "code",
   "execution_count": 73,
   "id": "e8a78441-f7db-44c5-b914-5a4fbf802e4a",
   "metadata": {},
   "outputs": [
    {
     "name": "stdout",
     "output_type": "stream",
     "text": [
      "   A       B\n",
      "0  1   apple\n",
      "1  2  banana\n",
      "2  3  orange\n",
      "3  4    kiwi\n",
      "   A       B\n",
      "0  1   fruit\n",
      "1  2   fruit\n",
      "2  3  orange\n",
      "3  4    kiwi\n"
     ]
    }
   ],
   "source": [
    "df=pd.DataFrame({\n",
    "    'A':[1,2,3,4], \n",
    "    'B':['apple','banana','orange','kiwi']\n",
    "})\n",
    "print(df)\n",
    "df['B']=df['B'].replace({'apple':'fruit','banana':'fruit'})\n",
    "print(df)"
   ]
  },
  {
   "cell_type": "markdown",
   "id": "8b98f852-8be4-4511-ba0a-ec5ca3469c54",
   "metadata": {},
   "source": [
    "### Handing outlier"
   ]
  },
  {
   "cell_type": "code",
   "execution_count": 84,
   "id": "87e0ab02-b4a1-489e-8c54-7b67dfeaa20b",
   "metadata": {},
   "outputs": [
    {
     "data": {
      "text/html": [
       "<div>\n",
       "<style scoped>\n",
       "    .dataframe tbody tr th:only-of-type {\n",
       "        vertical-align: middle;\n",
       "    }\n",
       "\n",
       "    .dataframe tbody tr th {\n",
       "        vertical-align: top;\n",
       "    }\n",
       "\n",
       "    .dataframe thead th {\n",
       "        text-align: right;\n",
       "    }\n",
       "</style>\n",
       "<table border=\"1\" class=\"dataframe\">\n",
       "  <thead>\n",
       "    <tr style=\"text-align: right;\">\n",
       "      <th></th>\n",
       "      <th>Value</th>\n",
       "    </tr>\n",
       "  </thead>\n",
       "  <tbody>\n",
       "    <tr>\n",
       "      <th>10</th>\n",
       "      <td>5000</td>\n",
       "    </tr>\n",
       "  </tbody>\n",
       "</table>\n",
       "</div>"
      ],
      "text/plain": [
       "    Value\n",
       "10   5000"
      ]
     },
     "execution_count": 84,
     "metadata": {},
     "output_type": "execute_result"
    }
   ],
   "source": [
    "df=pd.DataFrame({'Value':[10,1,250,200,15,300,20,25,30,12,5000]})\n",
    "#compute mean an sd \n",
    "mean=df['Value'].mean() \n",
    "std=df['Value'].std()\n",
    "\n",
    "lower_bound=mean-3*std\n",
    "upper_boud=mean+3*std\n",
    "\n",
    "#extract outlier with 3 sd of mean\n",
    "df[(df['Value']<lower_bound)|(df['Value']>upper_boud)]\n",
    "\n",
    "thres=3*std\n",
    "df[abs(df['Value']-mean)>thres]"
   ]
  },
  {
   "cell_type": "code",
   "execution_count": 82,
   "id": "085fcc6b-3ef1-40fa-896a-daa6d96c73d4",
   "metadata": {},
   "outputs": [],
   "source": [
    "#replace outliers\n",
    "df.loc[abs(df['Value']-mean)>thres]=np.nan"
   ]
  },
  {
   "cell_type": "code",
   "execution_count": 83,
   "id": "de720359-eb09-497f-925e-b2585986ade0",
   "metadata": {},
   "outputs": [
    {
     "name": "stdout",
     "output_type": "stream",
     "text": [
      "    Value\n",
      "0    10.0\n",
      "1     1.0\n",
      "2   250.0\n",
      "3   200.0\n",
      "4    15.0\n",
      "5   300.0\n",
      "6    20.0\n",
      "7    25.0\n",
      "8    30.0\n",
      "9    12.0\n",
      "10    NaN\n"
     ]
    }
   ],
   "source": [
    "print(df)"
   ]
  },
  {
   "cell_type": "code",
   "execution_count": 86,
   "id": "148e8bcd-c067-42e8-aa04-327f198eae23",
   "metadata": {},
   "outputs": [
    {
     "name": "stdout",
     "output_type": "stream",
     "text": [
      "    Value\n",
      "0      10\n",
      "1       1\n",
      "2     250\n",
      "3     200\n",
      "4      15\n",
      "5     300\n",
      "6      20\n",
      "7      25\n",
      "8      30\n",
      "9      12\n",
      "10   9999\n"
     ]
    }
   ],
   "source": [
    "df['Value']=np.where(abs(df['Value']-mean)>thres,9999,df['Value'])\n",
    "print(df)"
   ]
  },
  {
   "cell_type": "code",
   "execution_count": 90,
   "id": "d6b84287-586e-49f1-a3e7-63a75a64d460",
   "metadata": {},
   "outputs": [
    {
     "name": "stdout",
     "output_type": "stream",
     "text": [
      "    Value\n",
      "0    10.0\n",
      "1     1.0\n",
      "2   250.0\n",
      "3   200.0\n",
      "4    15.0\n",
      "5   300.0\n",
      "6    20.0\n",
      "7    25.0\n",
      "8    30.0\n",
      "9    12.0\n",
      "10    NaN\n"
     ]
    }
   ],
   "source": [
    "df=pd.DataFrame({'Value':[10,1,250,200,15,300,20,25,30,12,5000]})\n",
    "\n",
    "thres=3*std\n",
    "mean=df['Value'].mean()\n",
    "\n",
    "def replace_outlier(val): \n",
    "    if abs(val-mean)>thres:\n",
    "        return(np.nan)\n",
    "    return(val)\n",
    "\n",
    "df['Value']=df['Value'].apply(replace_outlier)\n",
    "print(df)"
   ]
  },
  {
   "cell_type": "code",
   "execution_count": 92,
   "id": "5b607819-a20a-48d5-8e91-f4ab842996fc",
   "metadata": {},
   "outputs": [],
   "source": [
    "df=pd.DataFrame({\n",
    "    'Name':['Ali','Abu','Siti','Ahmad'], \n",
    "    'Weight':[60,85,72,95], \n",
    "    'Height':[1.65,1.78,1.75,1.80]\n",
    "})"
   ]
  },
  {
   "cell_type": "code",
   "execution_count": 94,
   "id": "ab7d65e5-3861-4274-922e-f8315fabb372",
   "metadata": {},
   "outputs": [
    {
     "name": "stdout",
     "output_type": "stream",
     "text": [
      "    Name  Weight  Height        BMI\n",
      "0    Ali      60    1.65  22.038567\n",
      "1    Abu      85    1.78  26.827421\n",
      "2   Siti      72    1.75  23.510204\n",
      "3  Ahmad      95    1.80  29.320988\n"
     ]
    }
   ],
   "source": [
    "df['BMI']=df['Weight']/(df['Height']**2)\n",
    "print(df)"
   ]
  },
  {
   "cell_type": "code",
   "execution_count": 96,
   "id": "9ded5adf-6dc7-485f-84f8-92b395452dad",
   "metadata": {},
   "outputs": [
    {
     "name": "stdout",
     "output_type": "stream",
     "text": [
      "    Name  Weight  Height        BMI\n",
      "0    Ali      60    1.65  22.038567\n",
      "1    Abu      85    1.78  26.827421\n",
      "2   Siti      72    1.75  23.510204\n",
      "3  Ahmad      95    1.80  29.320988\n"
     ]
    }
   ],
   "source": [
    "df=pd.DataFrame({\n",
    "    'Name':['Ali','Abu','Siti','Ahmad'], \n",
    "    'Weight':[60,85,72,95], \n",
    "    'Height':[1.65,1.78,1.75,1.80]\n",
    "})\n",
    "\n",
    "def calculate_BMI(row): \n",
    "    return row['Weight']/(row['Height']**2)\n",
    "\n",
    "df['BMI']=df.apply(calculate_BMI,axis=1)\n",
    "print(df)"
   ]
  },
  {
   "cell_type": "code",
   "execution_count": 97,
   "id": "ffaebf87-0600-42f0-b65a-a4f406263489",
   "metadata": {},
   "outputs": [
    {
     "name": "stdout",
     "output_type": "stream",
     "text": [
      "    Name  Weight  Height weight_category\n",
      "0    Ali      60    1.65          Normal\n",
      "1    Abu      85    1.78      Overweight\n",
      "2   Siti      72    1.75      Overweight\n",
      "3  Ahmad      95    1.80      Overweight\n"
     ]
    }
   ],
   "source": [
    "df=pd.DataFrame({\n",
    "    'Name':['Ali','Abu','Siti','Ahmad'], \n",
    "    'Weight':[60,85,72,95], \n",
    "    'Height':[1.65,1.78,1.75,1.80]\n",
    "})\n",
    "\n",
    "def weight_category(row): \n",
    "    if row['Weight']<65: \n",
    "        return 'Normal'\n",
    "    else: \n",
    "        return 'Overweight'\n",
    "        \n",
    "df['weight_category']=df.apply(weight_category,axis=1)\n",
    "\n",
    "print(df)"
   ]
  },
  {
   "cell_type": "code",
   "execution_count": 100,
   "id": "796983d1-e1fa-4fd1-b55a-c595ef79f7a6",
   "metadata": {},
   "outputs": [
    {
     "name": "stdout",
     "output_type": "stream",
     "text": [
      "  Category   Fruit\n",
      "0        A   Apple\n",
      "1        B  Banana\n",
      "2        A   Apple\n",
      "3        C  Cherry\n",
      "4        B  Banana\n",
      "5        C  Cherry\n",
      "6        A   Apple\n"
     ]
    }
   ],
   "source": [
    "df=pd.DataFrame({\n",
    "    'Category':['A','B','A','C','B','C','A']\n",
    "})\n",
    "\n",
    "#Use Map to map category using the following dictionary\n",
    "dict={\n",
    "    'A':'Apple', \n",
    "    'B':'Banana', \n",
    "    'C':'Cherry'\n",
    "}\n",
    "\n",
    "#create a new column called Fruit\n",
    "df['Fruit']=df['Category'].map(dict)\n",
    "print(df)"
   ]
  },
  {
   "cell_type": "markdown",
   "id": "71364f94-9636-45bd-b887-19ba67228bda",
   "metadata": {},
   "source": [
    "### Discretization"
   ]
  },
  {
   "cell_type": "code",
   "execution_count": 104,
   "id": "b1cf65cb-93ee-482d-aa1c-68a34e1cf13c",
   "metadata": {},
   "outputs": [
    {
     "name": "stdout",
     "output_type": "stream",
     "text": [
      "   Mark          Mark_Bin\n",
      "0    12  (11.917, 39.667]\n",
      "1    20  (11.917, 39.667]\n",
      "2    35  (11.917, 39.667]\n",
      "3    50  (39.667, 67.333]\n",
      "4    65  (39.667, 67.333]\n",
      "5    75    (67.333, 95.0]\n",
      "6    88    (67.333, 95.0]\n",
      "7    95    (67.333, 95.0]\n"
     ]
    }
   ],
   "source": [
    "df=pd.DataFrame({'Mark':[12,20,35,50,65,75,88,95]})\n",
    "df['Mark_Bin']=pd.cut(df['Mark'],bins=3)\n",
    "print(df)"
   ]
  },
  {
   "cell_type": "code",
   "execution_count": 106,
   "id": "da76498d-30fe-4370-a352-215d83767072",
   "metadata": {},
   "outputs": [
    {
     "name": "stdout",
     "output_type": "stream",
     "text": [
      "   Mark Mark_Bin\n",
      "0    12        C\n",
      "1    20        C\n",
      "2    35        C\n",
      "3    50        B\n",
      "4    65        B\n",
      "5    75        A\n",
      "6    88        A\n",
      "7    95        A\n"
     ]
    }
   ],
   "source": [
    "df=pd.DataFrame({'Mark':[12,20,35,50,65,75,88,95]})\n",
    "df['Mark_Bin']=pd.cut(df['Mark'],labels=['C','B','A'],bins=3)\n",
    "print(df)"
   ]
  },
  {
   "cell_type": "code",
   "execution_count": 108,
   "id": "bf723b4a-d1ae-4a04-9a71-0c186aef53b0",
   "metadata": {},
   "outputs": [
    {
     "name": "stdout",
     "output_type": "stream",
     "text": [
      "   Mark       Mark_Bin\n",
      "0    12    (0.7, 80.0]\n",
      "1    20    (0.7, 80.0]\n",
      "2    35    (0.7, 80.0]\n",
      "3    50    (0.7, 80.0]\n",
      "4    65    (0.7, 80.0]\n",
      "5    75    (0.7, 80.0]\n",
      "6    88  (80.0, 100.0]\n",
      "7    95  (80.0, 100.0]\n"
     ]
    }
   ],
   "source": [
    "df=pd.DataFrame({'Mark':[12,20,35,50,65,75,88,95]})\n",
    "bins=[0.70,80,100]\n",
    "labels=['c','B','A']\n",
    "df['Mark_Bin']=pd.cut(df['Mark'],bins=bins,right=True)\n",
    "print(df)"
   ]
  },
  {
   "cell_type": "code",
   "execution_count": 110,
   "id": "2145018b-575e-4e9a-9a8c-f5164b5b7a5d",
   "metadata": {},
   "outputs": [
    {
     "name": "stdout",
     "output_type": "stream",
     "text": [
      "   Mark         Mark_Bin\n",
      "0    12  (11.999, 31.25]\n",
      "1    20  (11.999, 31.25]\n",
      "2    35    (31.25, 57.5]\n",
      "3    50    (31.25, 57.5]\n",
      "4    65    (57.5, 78.25]\n",
      "5    75    (57.5, 78.25]\n",
      "6    88    (78.25, 95.0]\n",
      "7    95    (78.25, 95.0]\n"
     ]
    }
   ],
   "source": [
    "df=pd.DataFrame({'Mark':[12,20,35,50,65,75,88,95]})\n",
    "df['Mark_Bin']=pd.qcut(df['Mark'],q=4)\n",
    "print(df)"
   ]
  },
  {
   "cell_type": "code",
   "execution_count": 111,
   "id": "d4723b0f-5399-4272-852e-5ca768d23a44",
   "metadata": {},
   "outputs": [
    {
     "name": "stdout",
     "output_type": "stream",
     "text": [
      "oringnal arr [1 2 3 4 5]\n",
      "sample with replacement: [1 1 4]\n",
      "sample with repalcement: [5 2 1]\n"
     ]
    }
   ],
   "source": [
    "arr=np.array([1,2,3,4,5])\n",
    "\n",
    "np.random.seed(2)\n",
    "arr_rep=np.random.choice(arr,size=3,replace=True)\n",
    "arr_wrep=np.random.choice(arr,size=3,replace=False)\n",
    "\n",
    "print('oringnal arr',arr)\n",
    "print('sample with replacement:',arr_rep)\n",
    "print('sample with repalcement:',arr_wrep)"
   ]
  },
  {
   "cell_type": "code",
   "execution_count": 112,
   "id": "de700b88-0596-4030-826b-c0150074156a",
   "metadata": {},
   "outputs": [
    {
     "name": "stdout",
     "output_type": "stream",
     "text": [
      "oringnal df [1 2 3 4 5]\n",
      "sample with replacement:    A  B\n",
      "0  1  a\n",
      "0  1  a\n",
      "3  4  d\n",
      "sample with repalcement:    A  B\n",
      "4  5  e\n",
      "1  2  b\n",
      "0  1  a\n"
     ]
    }
   ],
   "source": [
    "df=pd.DataFrame({\n",
    "    'A':[1,2,3,4,5], \n",
    "    'B':['a','b','c','d','e']\n",
    "})\n",
    "\n",
    "np.random.seed(2)\n",
    "df_rep=df.sample(n=3,replace=True)\n",
    "df_wrep=df.sample(n=3,replace=False)\n",
    "\n",
    "print('oringnal df',arr)\n",
    "print('sample with replacement:',df_rep)\n",
    "print('sample with repalcement:',df_wrep)"
   ]
  },
  {
   "cell_type": "markdown",
   "id": "9a2320c5-5803-4cc9-82fe-f21c4035abc2",
   "metadata": {},
   "source": [
    "### Dummy Variables"
   ]
  },
  {
   "cell_type": "code",
   "execution_count": 115,
   "id": "fecb0d74-eade-4995-9867-c29ffda4239b",
   "metadata": {},
   "outputs": [
    {
     "data": {
      "text/html": [
       "<div>\n",
       "<style scoped>\n",
       "    .dataframe tbody tr th:only-of-type {\n",
       "        vertical-align: middle;\n",
       "    }\n",
       "\n",
       "    .dataframe tbody tr th {\n",
       "        vertical-align: top;\n",
       "    }\n",
       "\n",
       "    .dataframe thead th {\n",
       "        text-align: right;\n",
       "    }\n",
       "</style>\n",
       "<table border=\"1\" class=\"dataframe\">\n",
       "  <thead>\n",
       "    <tr style=\"text-align: right;\">\n",
       "      <th></th>\n",
       "      <th>City</th>\n",
       "      <th>Category</th>\n",
       "    </tr>\n",
       "  </thead>\n",
       "  <tbody>\n",
       "    <tr>\n",
       "      <th>0</th>\n",
       "      <td>KL</td>\n",
       "      <td>A</td>\n",
       "    </tr>\n",
       "    <tr>\n",
       "      <th>1</th>\n",
       "      <td>SGR</td>\n",
       "      <td>B</td>\n",
       "    </tr>\n",
       "    <tr>\n",
       "      <th>2</th>\n",
       "      <td>TRG</td>\n",
       "      <td>C</td>\n",
       "    </tr>\n",
       "    <tr>\n",
       "      <th>3</th>\n",
       "      <td>PHG</td>\n",
       "      <td>A</td>\n",
       "    </tr>\n",
       "  </tbody>\n",
       "</table>\n",
       "</div>"
      ],
      "text/plain": [
       "  City Category\n",
       "0   KL        A\n",
       "1  SGR        B\n",
       "2  TRG        C\n",
       "3  PHG        A"
      ]
     },
     "execution_count": 115,
     "metadata": {},
     "output_type": "execute_result"
    }
   ],
   "source": [
    "df=pd.DataFrame({'City':['KL','SGR','TRG','PHG'], \n",
    "                'Category':['A','B','C','A']})\n",
    "df"
   ]
  },
  {
   "cell_type": "code",
   "execution_count": 116,
   "id": "8c7bb209-dca2-446f-8ef4-33924eda83c3",
   "metadata": {},
   "outputs": [
    {
     "name": "stdout",
     "output_type": "stream",
     "text": [
      "  Category  City_KL  City_PHG  City_SGR  City_TRG\n",
      "0        A     True     False     False     False\n",
      "1        B    False     False      True     False\n",
      "2        C    False     False     False      True\n",
      "3        A    False      True     False     False\n"
     ]
    }
   ],
   "source": [
    "df_dummy=pd.get_dummies(df,columns=['City'],drop_first=False)\n",
    "print(df_dummy)"
   ]
  },
  {
   "cell_type": "markdown",
   "id": "215c907f-1c8b-4d03-a767-4aa691d98dd6",
   "metadata": {},
   "source": [
    "### String Manipulation"
   ]
  },
  {
   "cell_type": "code",
   "execution_count": 118,
   "id": "133db5e2-d574-453e-995a-219021af329c",
   "metadata": {},
   "outputs": [
    {
     "name": "stdout",
     "output_type": "stream",
     "text": [
      "Python Is Fun!\n"
     ]
    }
   ],
   "source": [
    "text='Python is FUN!'\n",
    "#convert to lowercase \n",
    "print(text.title())"
   ]
  },
  {
   "cell_type": "code",
   "execution_count": 119,
   "id": "9ba04c1d-0fb9-4a98-a7a6-0a54c99453f7",
   "metadata": {},
   "outputs": [
    {
     "name": "stdout",
     "output_type": "stream",
     "text": [
      "False\n"
     ]
    }
   ],
   "source": [
    "#String validation\n",
    "text='12345'\n",
    "\n",
    "print(text.isalpha())"
   ]
  },
  {
   "cell_type": "code",
   "execution_count": 125,
   "id": "524cd372-8cd5-42af-83ac-8ec888205faf",
   "metadata": {},
   "outputs": [
    {
     "name": "stdout",
     "output_type": "stream",
     "text": [
      "Hello World   !\n"
     ]
    }
   ],
   "source": [
    "text='       Hello World   !        '\n",
    "print(text.strip())"
   ]
  },
  {
   "cell_type": "code",
   "execution_count": 126,
   "id": "d64ac730-5933-4850-b23a-ffabed5cac10",
   "metadata": {},
   "outputs": [
    {
     "name": "stdout",
     "output_type": "stream",
     "text": [
      "13\n"
     ]
    }
   ],
   "source": [
    "text='       Hello Python   !        '\n",
    "print(text.find('Python'))"
   ]
  },
  {
   "cell_type": "code",
   "execution_count": 128,
   "id": "11d1eeb4-e4d9-4e51-a771-8769df16c235",
   "metadata": {},
   "outputs": [
    {
     "name": "stdout",
     "output_type": "stream",
     "text": [
      "True\n"
     ]
    }
   ],
   "source": [
    "text='Hello Python!'\n",
    "print(text.endswith('!'))"
   ]
  },
  {
   "cell_type": "code",
   "execution_count": 131,
   "id": "239f740f-ff6c-4f0c-bff2-f2c6a17664d5",
   "metadata": {},
   "outputs": [
    {
     "name": "stdout",
     "output_type": "stream",
     "text": [
      "I love R\n"
     ]
    }
   ],
   "source": [
    "text='I love python'\n",
    "print(text.replace('python','R'))"
   ]
  },
  {
   "cell_type": "code",
   "execution_count": 132,
   "id": "287d77aa-acf8-4e99-85be-c3f7b475681e",
   "metadata": {},
   "outputs": [
    {
     "name": "stdout",
     "output_type": "stream",
     "text": [
      "['', 'pple,b', 'n', 'n', ',cherry']\n"
     ]
    }
   ],
   "source": [
    "text='apple,banana,cherry'\n",
    "fruit=text.split('a')\n",
    "print(fruit)"
   ]
  },
  {
   "cell_type": "code",
   "execution_count": 136,
   "id": "1ab960bf-cb6a-4123-836a-77b82fff3032",
   "metadata": {},
   "outputs": [
    {
     "name": "stdout",
     "output_type": "stream",
     "text": [
      "['apple', 'banana', 'cherry']\n",
      "apple&banana&cherry\n"
     ]
    }
   ],
   "source": [
    "text='apple,banana,cherry'\n",
    "fruit=text.split(',')\n",
    "print(fruit)\n",
    "#join a list into a string \n",
    "print('&'.join(fruit))"
   ]
  },
  {
   "cell_type": "code",
   "execution_count": 144,
   "id": "588f0c32-cfe9-44f5-8bb0-78d0e76d655a",
   "metadata": {},
   "outputs": [
    {
     "data": {
      "text/html": [
       "<div>\n",
       "<style scoped>\n",
       "    .dataframe tbody tr th:only-of-type {\n",
       "        vertical-align: middle;\n",
       "    }\n",
       "\n",
       "    .dataframe tbody tr th {\n",
       "        vertical-align: top;\n",
       "    }\n",
       "\n",
       "    .dataframe thead th {\n",
       "        text-align: right;\n",
       "    }\n",
       "</style>\n",
       "<table border=\"1\" class=\"dataframe\">\n",
       "  <thead>\n",
       "    <tr style=\"text-align: right;\">\n",
       "      <th></th>\n",
       "      <th>Name</th>\n",
       "      <th>Comment</th>\n",
       "    </tr>\n",
       "  </thead>\n",
       "  <tbody>\n",
       "    <tr>\n",
       "      <th>0</th>\n",
       "      <td>Ali</td>\n",
       "      <td>I hate Python</td>\n",
       "    </tr>\n",
       "    <tr>\n",
       "      <th>1</th>\n",
       "      <td>Abu</td>\n",
       "      <td>Python IS boring</td>\n",
       "    </tr>\n",
       "    <tr>\n",
       "      <th>2</th>\n",
       "      <td>Siti</td>\n",
       "      <td>I find R is easier</td>\n",
       "    </tr>\n",
       "    <tr>\n",
       "      <th>3</th>\n",
       "      <td>AHMAD</td>\n",
       "      <td>I just HATE both</td>\n",
       "    </tr>\n",
       "  </tbody>\n",
       "</table>\n",
       "</div>"
      ],
      "text/plain": [
       "    Name             Comment\n",
       "0    Ali       I hate Python\n",
       "1    Abu    Python IS boring\n",
       "2   Siti  I find R is easier\n",
       "3  AHMAD    I just HATE both"
      ]
     },
     "execution_count": 144,
     "metadata": {},
     "output_type": "execute_result"
    }
   ],
   "source": [
    "df=pd.DataFrame({\n",
    "    'Name':['Ali','Abu','Siti','AHMAD'], \n",
    "    'Comment':['I hate Python','Python IS boring','I find R is easier','I just HATE both']\n",
    "})\n",
    "df"
   ]
  },
  {
   "cell_type": "code",
   "execution_count": 139,
   "id": "5559db8b-a8d2-4062-a76b-8ececbee5fab",
   "metadata": {},
   "outputs": [
    {
     "data": {
      "text/html": [
       "<div>\n",
       "<style scoped>\n",
       "    .dataframe tbody tr th:only-of-type {\n",
       "        vertical-align: middle;\n",
       "    }\n",
       "\n",
       "    .dataframe tbody tr th {\n",
       "        vertical-align: top;\n",
       "    }\n",
       "\n",
       "    .dataframe thead th {\n",
       "        text-align: right;\n",
       "    }\n",
       "</style>\n",
       "<table border=\"1\" class=\"dataframe\">\n",
       "  <thead>\n",
       "    <tr style=\"text-align: right;\">\n",
       "      <th></th>\n",
       "      <th>Name</th>\n",
       "      <th>Comment</th>\n",
       "    </tr>\n",
       "  </thead>\n",
       "  <tbody>\n",
       "    <tr>\n",
       "      <th>0</th>\n",
       "      <td>Ali</td>\n",
       "      <td>i hate python</td>\n",
       "    </tr>\n",
       "    <tr>\n",
       "      <th>1</th>\n",
       "      <td>Abu</td>\n",
       "      <td>python is boring</td>\n",
       "    </tr>\n",
       "    <tr>\n",
       "      <th>2</th>\n",
       "      <td>Siti</td>\n",
       "      <td>i find r is easier</td>\n",
       "    </tr>\n",
       "    <tr>\n",
       "      <th>3</th>\n",
       "      <td>AHMAD</td>\n",
       "      <td>i just hate both</td>\n",
       "    </tr>\n",
       "  </tbody>\n",
       "</table>\n",
       "</div>"
      ],
      "text/plain": [
       "    Name             Comment\n",
       "0    Ali       i hate python\n",
       "1    Abu    python is boring\n",
       "2   Siti  i find r is easier\n",
       "3  AHMAD    i just hate both"
      ]
     },
     "execution_count": 139,
     "metadata": {},
     "output_type": "execute_result"
    }
   ],
   "source": [
    "df['Comment']=df['Comment'].str.lower()\n",
    "df"
   ]
  },
  {
   "cell_type": "code",
   "execution_count": 145,
   "id": "bc9e6501-8f07-4149-bb13-21533c5d5728",
   "metadata": {},
   "outputs": [
    {
     "data": {
      "text/plain": [
       "0    False\n",
       "1    False\n",
       "2    False\n",
       "3    False\n",
       "Name: Comment, dtype: bool"
      ]
     },
     "execution_count": 145,
     "metadata": {},
     "output_type": "execute_result"
    }
   ],
   "source": [
    "df['Comment'].str.isdigit()"
   ]
  },
  {
   "cell_type": "code",
   "execution_count": 147,
   "id": "d8e2aa65-ca9e-4ea7-be0e-d909e57e417b",
   "metadata": {},
   "outputs": [
    {
     "name": "stdout",
     "output_type": "stream",
     "text": [
      "    Name             Comment\n",
      "0    Ali       I hate Python\n",
      "1    Abu    Python IS boring\n",
      "2   Siti  I find R is easier\n",
      "3  AHMAD    I just HATE both\n",
      "    Name             Comment\n",
      "0    Ali       I hate Python\n",
      "1    Abu    Python IS boring\n",
      "2   Siti  I find R is easier\n",
      "3  AHMAD    I just HATE both\n"
     ]
    }
   ],
   "source": [
    "df=pd.DataFrame({\n",
    "    'Name':['Ali','Abu','Siti','AHMAD'], \n",
    "    'Comment':['I hate Python','Python IS boring','I find R is easier','I just HATE both']\n",
    "})\n",
    "print(df)\n",
    "df['Comment']=df['Comment'].str.strip()\n",
    "print(df)"
   ]
  },
  {
   "cell_type": "code",
   "execution_count": 151,
   "id": "077904e2-a84b-421d-aae3-b9717585bc69",
   "metadata": {},
   "outputs": [
    {
     "name": "stdout",
     "output_type": "stream",
     "text": [
      "['John:25']\n"
     ]
    }
   ],
   "source": [
    "text=\"John:25,Alice-30,Bob-35\"\n",
    "\n",
    "import re\n",
    "outfind=re.findall(r'\\w+:\\d+',text)\n",
    "print(outfind)"
   ]
  },
  {
   "cell_type": "code",
   "execution_count": 152,
   "id": "3cccbce6-ed83-44ee-be08-6e4708b2a5e8",
   "metadata": {},
   "outputs": [
    {
     "name": "stdout",
     "output_type": "stream",
     "text": [
      "['C++', 'C#']\n"
     ]
    }
   ],
   "source": [
    "text=\"Do you like C++ or C#\"\n",
    "\n",
    "import re\n",
    "outfind=re.findall(r'C\\+\\+|C\\#',text)\n",
    "print(outfind)"
   ]
  },
  {
   "cell_type": "code",
   "execution_count": 153,
   "id": "0496e2da-1da4-4092-b508-79991427033a",
   "metadata": {},
   "outputs": [
    {
     "name": "stdout",
     "output_type": "stream",
     "text": [
      "['100', '50']\n"
     ]
    }
   ],
   "source": [
    "text=\"There are 100 apples and 50 mangoes in this basket\"\n",
    "\n",
    "import re\n",
    "outfind=re.findall(r'\\d+',text)\n",
    "print(outfind)"
   ]
  },
  {
   "cell_type": "code",
   "execution_count": 7,
   "id": "63896471-212c-4b76-b006-05823e38ad72",
   "metadata": {},
   "outputs": [
    {
     "data": {
      "text/plain": [
       "'C:\\\\Users\\\\Dell\\\\Desktop\\\\python'"
      ]
     },
     "execution_count": 7,
     "metadata": {},
     "output_type": "execute_result"
    }
   ],
   "source": [
    "import os \n",
    "import pandas as pd\n",
    "os.getcwd()"
   ]
  },
  {
   "cell_type": "code",
   "execution_count": 12,
   "id": "891e4945-de95-437b-babf-dc89efb15479",
   "metadata": {},
   "outputs": [
    {
     "data": {
      "text/html": [
       "<div>\n",
       "<style scoped>\n",
       "    .dataframe tbody tr th:only-of-type {\n",
       "        vertical-align: middle;\n",
       "    }\n",
       "\n",
       "    .dataframe tbody tr th {\n",
       "        vertical-align: top;\n",
       "    }\n",
       "\n",
       "    .dataframe thead th {\n",
       "        text-align: right;\n",
       "    }\n",
       "</style>\n",
       "<table border=\"1\" class=\"dataframe\">\n",
       "  <thead>\n",
       "    <tr style=\"text-align: right;\">\n",
       "      <th></th>\n",
       "      <th>No</th>\n",
       "      <th>Name</th>\n",
       "      <th>sink Table</th>\n",
       "      <th>dishwasher</th>\n",
       "      <th>no Of mugs/plates</th>\n",
       "      <th>Note</th>\n",
       "    </tr>\n",
       "  </thead>\n",
       "  <tbody>\n",
       "    <tr>\n",
       "      <th>0</th>\n",
       "      <td>1</td>\n",
       "      <td>Ali</td>\n",
       "      <td>sink only</td>\n",
       "      <td>no</td>\n",
       "      <td>9</td>\n",
       "      <td>NaN</td>\n",
       "    </tr>\n",
       "    <tr>\n",
       "      <th>1</th>\n",
       "      <td>2</td>\n",
       "      <td>Johan</td>\n",
       "      <td>sink and table</td>\n",
       "      <td>YES!</td>\n",
       "      <td>2-3</td>\n",
       "      <td>all looking GOOD!</td>\n",
       "    </tr>\n",
       "    <tr>\n",
       "      <th>2</th>\n",
       "      <td>3</td>\n",
       "      <td>Daus</td>\n",
       "      <td>sink,table</td>\n",
       "      <td>Yes</td>\n",
       "      <td>8</td>\n",
       "      <td>NaN</td>\n",
       "    </tr>\n",
       "    <tr>\n",
       "      <th>3</th>\n",
       "      <td>4</td>\n",
       "      <td>George</td>\n",
       "      <td>NaN</td>\n",
       "      <td>NaN</td>\n",
       "      <td>0</td>\n",
       "      <td>All of us at workshop</td>\n",
       "    </tr>\n",
       "    <tr>\n",
       "      <th>4</th>\n",
       "      <td>5</td>\n",
       "      <td>Amelia</td>\n",
       "      <td>just the table</td>\n",
       "      <td>yes</td>\n",
       "      <td>around 10</td>\n",
       "      <td>NaN</td>\n",
       "    </tr>\n",
       "    <tr>\n",
       "      <th>5</th>\n",
       "      <td>6</td>\n",
       "      <td>Ahmad</td>\n",
       "      <td>both</td>\n",
       "      <td>NO</td>\n",
       "      <td>6</td>\n",
       "      <td>NaN</td>\n",
       "    </tr>\n",
       "    <tr>\n",
       "      <th>6</th>\n",
       "      <td>6</td>\n",
       "      <td>Ahmad</td>\n",
       "      <td>both</td>\n",
       "      <td>NO</td>\n",
       "      <td>6</td>\n",
       "      <td>NaN</td>\n",
       "    </tr>\n",
       "    <tr>\n",
       "      <th>7</th>\n",
       "      <td>7</td>\n",
       "      <td>Ava</td>\n",
       "      <td>didn't need doing</td>\n",
       "      <td>no.</td>\n",
       "      <td>4</td>\n",
       "      <td>not messy</td>\n",
       "    </tr>\n",
       "    <tr>\n",
       "      <th>8</th>\n",
       "      <td>8</td>\n",
       "      <td>Harry</td>\n",
       "      <td>just the sink</td>\n",
       "      <td>no</td>\n",
       "      <td>3</td>\n",
       "      <td>NaN</td>\n",
       "    </tr>\n",
       "    <tr>\n",
       "      <th>9</th>\n",
       "      <td>9</td>\n",
       "      <td>Cindy</td>\n",
       "      <td>sink &amp; table</td>\n",
       "      <td>YES</td>\n",
       "      <td>6-9</td>\n",
       "      <td>can't remember them</td>\n",
       "    </tr>\n",
       "    <tr>\n",
       "      <th>10</th>\n",
       "      <td>10</td>\n",
       "      <td>Ariel</td>\n",
       "      <td>table only</td>\n",
       "      <td>no</td>\n",
       "      <td>2</td>\n",
       "      <td>NaN</td>\n",
       "    </tr>\n",
       "  </tbody>\n",
       "</table>\n",
       "</div>"
      ],
      "text/plain": [
       "    No     Name         sink Table dishwasher no Of mugs/plates  \\\n",
       "0    1      Ali          sink only         no                 9   \n",
       "1    2    Johan     sink and table       YES!               2-3   \n",
       "2    3     Daus         sink,table        Yes                 8   \n",
       "3    4   George                NaN        NaN                 0   \n",
       "4    5  Amelia      just the table        yes         around 10   \n",
       "5    6    Ahmad               both         NO                 6   \n",
       "6    6    Ahmad               both         NO                 6   \n",
       "7    7      Ava  didn't need doing        no.                 4   \n",
       "8    8    Harry      just the sink         no                 3   \n",
       "9    9    Cindy       sink & table        YES               6-9   \n",
       "10  10    Ariel         table only         no                 2   \n",
       "\n",
       "                     Note  \n",
       "0                     NaN  \n",
       "1       all looking GOOD!  \n",
       "2                     NaN  \n",
       "3   All of us at workshop  \n",
       "4                     NaN  \n",
       "5                     NaN  \n",
       "6                     NaN  \n",
       "7               not messy  \n",
       "8                     NaN  \n",
       "9     can't remember them  \n",
       "10                    NaN  "
      ]
     },
     "execution_count": 12,
     "metadata": {},
     "output_type": "execute_result"
    }
   ],
   "source": [
    "df=pd.read_csv('sample_data_cleaning.csv',skiprows=4,na_values=['-','NaN'])\n",
    "df"
   ]
  },
  {
   "cell_type": "code",
   "execution_count": 10,
   "id": "4e7127b0-732f-4a8b-890d-3c27300cc69d",
   "metadata": {},
   "outputs": [
    {
     "data": {
      "text/plain": [
       "0       no\n",
       "1      YES\n",
       "2      Yes\n",
       "3      NaN\n",
       "4      yes\n",
       "5       NO\n",
       "6       NO\n",
       "7       no\n",
       "8       no\n",
       "9      YES\n",
       "10      no\n",
       "Name: dishwasher, dtype: object"
      ]
     },
     "execution_count": 10,
     "metadata": {},
     "output_type": "execute_result"
    }
   ],
   "source": [
    "df['dishwasher'].str.replace(r'[^\\w\\s]','',regex=True)"
   ]
  },
  {
   "cell_type": "code",
   "execution_count": null,
   "id": "479a3d5a-a1d0-45df-b48b-9ffb7b3f9dbc",
   "metadata": {},
   "outputs": [],
   "source": []
  }
 ],
 "metadata": {
  "kernelspec": {
   "display_name": "Python 3 (ipykernel)",
   "language": "python",
   "name": "python3"
  },
  "language_info": {
   "codemirror_mode": {
    "name": "ipython",
    "version": 3
   },
   "file_extension": ".py",
   "mimetype": "text/x-python",
   "name": "python",
   "nbconvert_exporter": "python",
   "pygments_lexer": "ipython3",
   "version": "3.11.7"
  }
 },
 "nbformat": 4,
 "nbformat_minor": 5
}
