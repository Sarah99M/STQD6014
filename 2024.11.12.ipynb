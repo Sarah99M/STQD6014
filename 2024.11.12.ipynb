{
 "cells": [
  {
   "cell_type": "markdown",
   "id": "28b6849b-c25b-48eb-9a0e-10e4a2d73c42",
   "metadata": {},
   "source": [
    "## Numpy"
   ]
  },
  {
   "cell_type": "code",
   "execution_count": 2,
   "id": "bc515180-18fb-4115-a108-56f1bbd4bd04",
   "metadata": {},
   "outputs": [],
   "source": [
    "import numpy as np"
   ]
  },
  {
   "cell_type": "code",
   "execution_count": 8,
   "id": "6596adbe-2bfa-4527-a4c8-27bd3a9b3607",
   "metadata": {},
   "outputs": [
    {
     "data": {
      "text/plain": [
       "array([1.5, 2. , 3. ])"
      ]
     },
     "execution_count": 8,
     "metadata": {},
     "output_type": "execute_result"
    }
   ],
   "source": [
    "#from list \n",
    "list=[1.5,2,3]\n",
    "x=np.array(list)\n",
    "x"
   ]
  },
  {
   "cell_type": "code",
   "execution_count": 9,
   "id": "266a89b2-f699-4e31-a445-aa83d28508b5",
   "metadata": {},
   "outputs": [
    {
     "data": {
      "text/plain": [
       "(3,)"
      ]
     },
     "execution_count": 9,
     "metadata": {},
     "output_type": "execute_result"
    }
   ],
   "source": [
    "x.shape #元组中的 3 表示 x 的第一个维度（长度）有 3 个元素。(3,) 中的逗号表示这是一个一维数组"
   ]
  },
  {
   "cell_type": "code",
   "execution_count": 10,
   "id": "1c4be85c-09d7-41d7-bf3b-fcc2f44c8dcb",
   "metadata": {},
   "outputs": [
    {
     "data": {
      "text/plain": [
       "3"
      ]
     },
     "execution_count": 10,
     "metadata": {},
     "output_type": "execute_result"
    }
   ],
   "source": [
    "x.size #size等于数组所有维度大小的乘积"
   ]
  },
  {
   "cell_type": "code",
   "execution_count": 11,
   "id": "da1bbefb-d1ae-4fe6-b9e7-088f9fa30fe0",
   "metadata": {},
   "outputs": [
    {
     "data": {
      "text/plain": [
       "dtype('float64')"
      ]
     },
     "execution_count": 11,
     "metadata": {},
     "output_type": "execute_result"
    }
   ],
   "source": [
    "x.dtype #x.dtype 返回 NumPy 数组的元素数据类型。\n",
    "#可以通过 dtype 属性了解数组中元素的数据类型，确保数据类型在运算中的准确性。\n",
    "#dtype 是一个 NumPy 的数据类型对象（如 int64, float32, str 等）。"
   ]
  },
  {
   "cell_type": "code",
   "execution_count": 12,
   "id": "0c44d251-49a8-4d3b-8873-0d3cae46ca2a",
   "metadata": {},
   "outputs": [
    {
     "data": {
      "text/plain": [
       "array([[1, 2, 3],\n",
       "       [4, 5, 6]])"
      ]
     },
     "execution_count": 12,
     "metadata": {},
     "output_type": "execute_result"
    }
   ],
   "source": [
    "#create 20 arrays from list of lists\n",
    "list2=[[1,2,3],[4,5,6,]]\n",
    "b=np.array(list2)\n",
    "b"
   ]
  },
  {
   "cell_type": "code",
   "execution_count": 13,
   "id": "4865f003-cc7e-4050-a282-7ef607565ccd",
   "metadata": {},
   "outputs": [
    {
     "data": {
      "text/plain": [
       "(2, 3)"
      ]
     },
     "execution_count": 13,
     "metadata": {},
     "output_type": "execute_result"
    }
   ],
   "source": [
    "b.shape"
   ]
  },
  {
   "cell_type": "code",
   "execution_count": 16,
   "id": "0fe7924b-0587-4579-9c93-944f45e34e09",
   "metadata": {},
   "outputs": [
    {
     "data": {
      "text/plain": [
       "array([[1, 2],\n",
       "       [3, 4],\n",
       "       [5, 6]])"
      ]
     },
     "execution_count": 16,
     "metadata": {},
     "output_type": "execute_result"
    }
   ],
   "source": [
    "c=np.array([[1,2],[3,4],[5,6]])\n",
    "c"
   ]
  },
  {
   "cell_type": "code",
   "execution_count": 17,
   "id": "dabbe110-c25d-44d4-8799-9294a5ec2ddc",
   "metadata": {},
   "outputs": [
    {
     "data": {
      "text/plain": [
       "(3, 2)"
      ]
     },
     "execution_count": 17,
     "metadata": {},
     "output_type": "execute_result"
    }
   ],
   "source": [
    "c.shape"
   ]
  },
  {
   "cell_type": "code",
   "execution_count": 19,
   "id": "a178022a-b52a-405f-8b83-79131e617acb",
   "metadata": {},
   "outputs": [
    {
     "data": {
      "text/plain": [
       "array([[[ 1,  2,  3],\n",
       "        [ 4,  5,  6]],\n",
       "\n",
       "       [[ 7,  8,  9],\n",
       "        [10, 11, 12]]])"
      ]
     },
     "execution_count": 19,
     "metadata": {},
     "output_type": "execute_result"
    }
   ],
   "source": [
    "#create 30 arrays (2,2,3)\n",
    "list3=[[[1,2,3],[4,5,6]],[[7,8,9],[10,11,12]]]\n",
    "d=np.array(list3)\n",
    "d"
   ]
  },
  {
   "cell_type": "code",
   "execution_count": 20,
   "id": "09559a7d-1d94-46d1-8bec-00603178bb70",
   "metadata": {},
   "outputs": [
    {
     "data": {
      "text/plain": [
       "(2, 2, 3)"
      ]
     },
     "execution_count": 20,
     "metadata": {},
     "output_type": "execute_result"
    }
   ],
   "source": [
    "d.shape"
   ]
  },
  {
   "cell_type": "code",
   "execution_count": 24,
   "id": "52c7a51f-ee2e-4ca5-905d-c4c8ea537e61",
   "metadata": {},
   "outputs": [
    {
     "data": {
      "text/plain": [
       "array([[1., 1., 1.],\n",
       "       [1., 1., 1.]])"
      ]
     },
     "execution_count": 24,
     "metadata": {},
     "output_type": "execute_result"
    }
   ],
   "source": [
    "np.ones((2,3))"
   ]
  },
  {
   "cell_type": "code",
   "execution_count": 25,
   "id": "63d079ae-b982-4387-8023-6812f7032f26",
   "metadata": {},
   "outputs": [
    {
     "data": {
      "text/plain": [
       "array([[[1., 1., 1.],\n",
       "        [1., 1., 1.]],\n",
       "\n",
       "       [[1., 1., 1.],\n",
       "        [1., 1., 1.]]])"
      ]
     },
     "execution_count": 25,
     "metadata": {},
     "output_type": "execute_result"
    }
   ],
   "source": [
    "np.ones((2,2,3))"
   ]
  },
  {
   "cell_type": "code",
   "execution_count": 26,
   "id": "387ba5e1-ced1-49c6-adc5-c1d1223047b3",
   "metadata": {},
   "outputs": [
    {
     "data": {
      "text/plain": [
       "array([0, 2, 4, 6, 8])"
      ]
     },
     "execution_count": 26,
     "metadata": {},
     "output_type": "execute_result"
    }
   ],
   "source": [
    "#arange function, we pass in a start, a stap, and a step size\n",
    "#return evenly spaced\n",
    "np.arange(0,10,2) #将生成一个数组，从 0 开始，以步长为 2，直到小于 10 为止"
   ]
  },
  {
   "cell_type": "code",
   "execution_count": 28,
   "id": "42d93dcc-d1ad-4095-ae80-477e76c5ac4f",
   "metadata": {},
   "outputs": [
    {
     "data": {
      "text/plain": [
       "array([ 0.        ,  0.52631579,  1.05263158,  1.57894737,  2.10526316,\n",
       "        2.63157895,  3.15789474,  3.68421053,  4.21052632,  4.73684211,\n",
       "        5.26315789,  5.78947368,  6.31578947,  6.84210526,  7.36842105,\n",
       "        7.89473684,  8.42105263,  8.94736842,  9.47368421, 10.        ])"
      ]
     },
     "execution_count": 28,
     "metadata": {},
     "output_type": "execute_result"
    }
   ],
   "source": [
    "#linspace, returns a specofied number of evenly spaced value\n",
    "np.linspace(0,10,20)"
   ]
  },
  {
   "cell_type": "code",
   "execution_count": 32,
   "id": "ab7fa224-e07c-4907-90a7-06451df0036c",
   "metadata": {},
   "outputs": [
    {
     "data": {
      "text/plain": [
       "array([[ 0.,  2.,  4.],\n",
       "       [ 6.,  8., 10.]])"
      ]
     },
     "execution_count": 32,
     "metadata": {},
     "output_type": "execute_result"
    }
   ],
   "source": [
    "d1arr=np.linspace(0,10,6)\n",
    "d2arr=d1arr.reshape(2,3)\n",
    "d1arr\n",
    "d2arr"
   ]
  },
  {
   "cell_type": "code",
   "execution_count": 33,
   "id": "cbc18e07-e0b1-477c-a18b-dc0b2ebece05",
   "metadata": {},
   "outputs": [
    {
     "name": "stdout",
     "output_type": "stream",
     "text": [
      "[ 0.          0.90909091  1.81818182  2.72727273  3.63636364  4.54545455\n",
      "  5.45454545  6.36363636  7.27272727  8.18181818  9.09090909 10.        ]\n",
      "[[[ 0.          0.90909091  1.81818182]\n",
      "  [ 2.72727273  3.63636364  4.54545455]]\n",
      "\n",
      " [[ 5.45454545  6.36363636  7.27272727]\n",
      "  [ 8.18181818  9.09090909 10.        ]]]\n"
     ]
    }
   ],
   "source": [
    "d1arr=np.linspace(0,10,12)\n",
    "d3arr=d1arr.reshape(2,2,3)\n",
    "print(d1arr)\n",
    "print(d3arr)"
   ]
  },
  {
   "cell_type": "markdown",
   "id": "35a7ae44-e977-4bc8-a494-60ceb3500312",
   "metadata": {},
   "source": [
    "### Indexing & slicing"
   ]
  },
  {
   "cell_type": "code",
   "execution_count": 45,
   "id": "78f7eef4-a8d8-43e6-a2c4-611844e97db6",
   "metadata": {},
   "outputs": [
    {
     "data": {
      "text/plain": [
       "30"
      ]
     },
     "execution_count": 45,
     "metadata": {},
     "output_type": "execute_result"
    }
   ],
   "source": [
    "arr_1D=np.array([10,20,30,40,50])\n",
    "arr_1D[2]"
   ]
  },
  {
   "cell_type": "code",
   "execution_count": 35,
   "id": "b2998725-4329-41c0-8e84-ecdbca454da4",
   "metadata": {},
   "outputs": [
    {
     "data": {
      "text/plain": [
       "5"
      ]
     },
     "execution_count": 35,
     "metadata": {},
     "output_type": "execute_result"
    }
   ],
   "source": [
    "#2D array of 3x3\n",
    "arr_2D=np.array([[1,2,3],[4,5,6],[7,8,9]])\n",
    "arr_2D[1,1]"
   ]
  },
  {
   "cell_type": "code",
   "execution_count": 36,
   "id": "0c2f43f0-3c29-4882-bf12-3d982dec8462",
   "metadata": {},
   "outputs": [
    {
     "data": {
      "text/plain": [
       "array([2, 5, 8])"
      ]
     },
     "execution_count": 36,
     "metadata": {},
     "output_type": "execute_result"
    }
   ],
   "source": [
    "arr_2D=np.array([[1,2,3],[4,5,6],[7,8,9]])\n",
    "arr_2D[:,1]"
   ]
  },
  {
   "cell_type": "code",
   "execution_count": 43,
   "id": "7c82f63e-e510-4b39-a358-d2777e8a7690",
   "metadata": {},
   "outputs": [
    {
     "name": "stdout",
     "output_type": "stream",
     "text": [
      "[[[ 1  2  3]\n",
      "  [ 4  5  6]\n",
      "  [ 7  8  9]]\n",
      "\n",
      " [[10 11 12]\n",
      "  [13 14 15]\n",
      "  [16 17 18]]]\n",
      "6\n"
     ]
    }
   ],
   "source": [
    "#3D array of 2x3x3\n",
    "arr_3D=np.array([[[1,2,3],\n",
    "                 [4,5,6],\n",
    "                 [7,8,9]],\n",
    "                [[10,11,12],\n",
    "                 [13,14,15],\n",
    "                 [16,17,18]]]\n",
    "               )\n",
    "print(arr_3D)\n",
    "print(arr_3D[0,1,2])"
   ]
  },
  {
   "cell_type": "code",
   "execution_count": 44,
   "id": "d60a5847-075c-41f9-984f-681cb3d8bef1",
   "metadata": {},
   "outputs": [
    {
     "name": "stdout",
     "output_type": "stream",
     "text": [
      "13\n",
      "[[ 1  2  3]\n",
      " [10 11 12]]\n"
     ]
    }
   ],
   "source": [
    "arr_3D=np.array([[[1,2,3],\n",
    "                 [4,5,6],\n",
    "                 [7,8,9]],\n",
    "                [[10,11,12],\n",
    "                 [13,14,15],\n",
    "                 [16,17,18]]]\n",
    "               )\n",
    "print(arr_3D[1,1,0])\n",
    "print(arr_3D[:,0,:])"
   ]
  },
  {
   "cell_type": "code",
   "execution_count": 47,
   "id": "5a8aa7f0-2c17-42d9-ba53-dafef4ac57ad",
   "metadata": {},
   "outputs": [
    {
     "data": {
      "text/plain": [
       "array([30, 40])"
      ]
     },
     "execution_count": 47,
     "metadata": {},
     "output_type": "execute_result"
    }
   ],
   "source": [
    "#fancy indexing\n",
    "arr_1D=np.array([10,20,30,40,50])\n",
    "arr_1D[[2,3]]"
   ]
  },
  {
   "cell_type": "code",
   "execution_count": 48,
   "id": "511f37e3-a317-4d46-9959-875b9ab6b88e",
   "metadata": {},
   "outputs": [
    {
     "name": "stdout",
     "output_type": "stream",
     "text": [
      "[[1 2 3]\n",
      " [7 8 9]]\n"
     ]
    },
    {
     "data": {
      "text/plain": [
       "array([2, 9])"
      ]
     },
     "execution_count": 48,
     "metadata": {},
     "output_type": "execute_result"
    }
   ],
   "source": [
    "#2D array of 3x3\n",
    "arr_2D=np.array([[1,2,3],[4,5,6],[7,8,9]])\n",
    "rows=[0,2]\n",
    "cols=[1,2]\n",
    "print(arr_2D[rows,:])\n",
    "arr_2D[rows,cols]"
   ]
  },
  {
   "cell_type": "code",
   "execution_count": 50,
   "id": "bed914a7-4a78-47d0-b444-412145673599",
   "metadata": {},
   "outputs": [
    {
     "name": "stdout",
     "output_type": "stream",
     "text": [
      "[[[ 1  2  3]\n",
      "  [ 4  5  6]\n",
      "  [ 7  8  9]]\n",
      "\n",
      " [[10 11 12]\n",
      "  [13 14 15]\n",
      "  [16 17 18]]]\n"
     ]
    },
    {
     "data": {
      "text/plain": [
       "array([ 2, 15])"
      ]
     },
     "execution_count": 50,
     "metadata": {},
     "output_type": "execute_result"
    }
   ],
   "source": [
    "#3D array of 2x3x3\n",
    "arr_3D=np.array([[[1,2,3],\n",
    "                 [4,5,6],\n",
    "                 [7,8,9]],\n",
    "                [[10,11,12],\n",
    "                 [13,14,15],\n",
    "                 [16,17,18]]]\n",
    "               )\n",
    "depth_ind=[0,1]\n",
    "row_ind=[0,1]\n",
    "col_ind=[1,2]\n",
    "print(arr_3D[depth_ind,:,:])\n",
    "arr_3D[depth_ind,row_ind,col_ind]\n",
    "#return two elements based on the combination of corresponating indices"
   ]
  },
  {
   "cell_type": "code",
   "execution_count": 51,
   "id": "e0913304-e550-4f59-8e69-63f3f75a3267",
   "metadata": {},
   "outputs": [
    {
     "data": {
      "text/plain": [
       "array([40, 50])"
      ]
     },
     "execution_count": 51,
     "metadata": {},
     "output_type": "execute_result"
    }
   ],
   "source": [
    "arr=np.array([10,20,30,40,50])\n",
    "#create a boolean indexing  by applying a condition\n",
    "cond=arr>30\n",
    "arr[cond]"
   ]
  },
  {
   "cell_type": "code",
   "execution_count": 54,
   "id": "56167720-a5d9-45b9-b082-9c7d3beb8d95",
   "metadata": {},
   "outputs": [
    {
     "data": {
      "text/plain": [
       "array([30, 40])"
      ]
     },
     "execution_count": 54,
     "metadata": {},
     "output_type": "execute_result"
    }
   ],
   "source": [
    "#select element greater than 20 and less than 50\n",
    "cond=(arr>20)&(arr<50)\n",
    "arr[cond]"
   ]
  },
  {
   "cell_type": "code",
   "execution_count": 56,
   "id": "4c93cbdb-4833-4276-8cf1-63983dcefcbe",
   "metadata": {},
   "outputs": [
    {
     "data": {
      "text/plain": [
       "array([6, 7, 8, 9])"
      ]
     },
     "execution_count": 56,
     "metadata": {},
     "output_type": "execute_result"
    }
   ],
   "source": [
    "#2D array of 3x3\n",
    "arr_2D=np.array([[1,2,3],[4,5,6],[7,8,9]])\n",
    "arr_2D[arr_2D>5]"
   ]
  },
  {
   "cell_type": "code",
   "execution_count": 57,
   "id": "d7aa6283-e947-4b9c-a224-e0f8c23a2815",
   "metadata": {},
   "outputs": [
    {
     "name": "stdout",
     "output_type": "stream",
     "text": [
      "[11 12 13 14 15 16 17 18]\n"
     ]
    }
   ],
   "source": [
    "#3D array of 2x3x3\n",
    "arr_3D=np.array([[[1,2,3],\n",
    "                 [4,5,6],\n",
    "                 [7,8,9]],\n",
    "                [[10,11,12],\n",
    "                 [13,14,15],\n",
    "                 [16,17,18]]]\n",
    "               )\n",
    "#print(arr_3D)\n",
    "print(arr_3D[arr_3D>10])"
   ]
  },
  {
   "cell_type": "markdown",
   "id": "8b58382d-5337-4570-8179-4ad82d4b6317",
   "metadata": {},
   "source": [
    "### slicing"
   ]
  },
  {
   "cell_type": "code",
   "execution_count": 63,
   "id": "e6074ba2-9f28-4a41-a222-961583e0eacf",
   "metadata": {},
   "outputs": [
    {
     "name": "stdout",
     "output_type": "stream",
     "text": [
      "[2 3 4 5]\n",
      "[0 1 2 3 4]\n",
      "[3 4 5 6 7 8 9]\n",
      "[0 2 4 6 8]\n",
      "[7 8 9]\n"
     ]
    }
   ],
   "source": [
    "arr=np.array([0,1,2,3,4,5,6,7,8,9])\n",
    "#slice from index 2 to 6 (exclusive)\n",
    "print(arr[2:6])\n",
    "#slice from start to 5 (exclusive)\n",
    "print(arr[:5])\n",
    "#slice from index 3(inclusive) to end \n",
    "print(arr[3:])\n",
    "#slice with step 2 \n",
    "print(arr[0:9:2])\n",
    "#slice the last 3 elements\n",
    "print(arr[-3:])"
   ]
  },
  {
   "cell_type": "code",
   "execution_count": 65,
   "id": "c2bfd7c1-ddd8-49ad-b0f4-ba8d7ebfb5dd",
   "metadata": {},
   "outputs": [
    {
     "name": "stdout",
     "output_type": "stream",
     "text": [
      "[[1 2]\n",
      " [4 5]]\n",
      "[[5 6]\n",
      " [8 9]]\n"
     ]
    }
   ],
   "source": [
    "arr_2D=np.array([[1,2,3],[4,5,6],[7,8,9]])\n",
    "#slice the first two rows and first two colums\n",
    "print(arr_2D[:2,:2])\n",
    "#slice the first two rows and first two colums\n",
    "print(arr_2D[-2:,-2:])"
   ]
  },
  {
   "cell_type": "code",
   "execution_count": null,
   "id": "04e286e2-6295-4bf2-a38e-5e1f02fe0858",
   "metadata": {},
   "outputs": [],
   "source": []
  },
  {
   "cell_type": "code",
   "execution_count": 66,
   "id": "42d03667-9d32-413f-bce6-90f747310a84",
   "metadata": {},
   "outputs": [
    {
     "name": "stdout",
     "output_type": "stream",
     "text": [
      "[[[15]\n",
      "  [18]]]\n",
      "[[2 3]\n",
      " [5 6]\n",
      " [8 9]]\n"
     ]
    }
   ],
   "source": [
    "#3D array of 2x3x3\n",
    "arr_3D=np.array([[[1,2,3],\n",
    "                 [4,5,6],\n",
    "                 [7,8,9]],\n",
    "                [[10,11,12],\n",
    "                 [13,14,15],\n",
    "                 [16,17,18]]]\n",
    "               )\n",
    "#slice last depth, row 1 to 2, and last column\n",
    "print(arr_3D[-1:,1:3,-1:])\n",
    "#slice first depth, all row, and column from index 1\n",
    "print(arr_3D[0,:,1:])"
   ]
  },
  {
   "cell_type": "markdown",
   "id": "9047b8e3-3f14-441d-9a76-2b951893086c",
   "metadata": {},
   "source": [
    "### Array manipulation"
   ]
  },
  {
   "cell_type": "code",
   "execution_count": 71,
   "id": "c1061871-1137-424a-8faf-03db6f614463",
   "metadata": {},
   "outputs": [
    {
     "name": "stdout",
     "output_type": "stream",
     "text": [
      "[1 2 3 4 5 6]\n",
      "[[1 2 5 6]\n",
      " [3 4 7 8]]\n",
      "[[1 2]\n",
      " [3 4]\n",
      " [5 6]\n",
      " [7 8]]\n"
     ]
    }
   ],
   "source": [
    "#1D array\n",
    "arr1=np.array([1,2,3])\n",
    "arr2=np.array([4,5,6])\n",
    "#concatenate along the first axis\n",
    "con_1D=np.concatenate((arr1,arr2))\n",
    "print(con_1D)\n",
    "\n",
    "#2D array\n",
    "arr3=np.array([[1,2],[3,4]])\n",
    "arr4=np.array([[5,6],[7,8]])\n",
    "#concatenate along the column (first axis)\n",
    "con_2D=np.concatenate((arr3,arr4),axis=1)\n",
    "print(con_2D)\n",
    "#concatenate along the column (axis 0)\n",
    "con_2D_2=np.concatenate((arr3,arr4),axis=0)\n",
    "print(con_2D_2)\n",
    "\n"
   ]
  },
  {
   "cell_type": "code",
   "execution_count": 79,
   "id": "a6ebdd24-106d-4499-a2f5-770db8068f0d",
   "metadata": {},
   "outputs": [
    {
     "name": "stdout",
     "output_type": "stream",
     "text": [
      "[1 2 3 4 5 6]\n",
      "[[1 2 5 6]\n",
      " [3 4 7 8]]\n",
      "[[1 2]\n",
      " [3 4]\n",
      " [5 6]\n",
      " [7 8]]\n",
      "(4, 3, 3)\n"
     ]
    }
   ],
   "source": [
    "#1D array\n",
    "arr1=np.array([1,2,3])\n",
    "arr2=np.array([4,5,6])\n",
    "#concatenate along the first axis\n",
    "con_1D=np.concatenate((arr1,arr2))\n",
    "print(con_1D)\n",
    "\n",
    "#2D array\n",
    "arr3=np.array([[1,2],[3,4]])\n",
    "arr4=np.array([[5,6],[7,8]])\n",
    "#concatenate along the column (first axis)\n",
    "con_2D=np.concatenate((arr3,arr4),axis=1)\n",
    "print(con_2D)\n",
    "#concatenate along the column (axis 0)\n",
    "con_2D_2=np.concatenate((arr3,arr4),axis=0)\n",
    "print(con_2D_2)\n",
    "\n",
    "#3D array \n",
    "arr1=np.arange(18).reshape(2,3,3)\n",
    "arr2=np.arange(18,36).reshape(2,3,3)\n",
    "#concatenate along axis 0(depth)\n",
    "c_0=np.concatenate((arr1,arr2),axis=0)\n",
    "print(c_0.shape)\n",
    "#concatenate along axis 1(drow)\n",
    "c_1=np.concatenate((arr1,arr2),axis=1)\n",
    "#concatenate along axis 2(drow)\n",
    "c_2=np.concatenate((arr1,arr2),axis=2)"
   ]
  },
  {
   "cell_type": "code",
   "execution_count": 81,
   "id": "6c79c4a3-353f-405e-8e95-a22d6e8a1fa1",
   "metadata": {},
   "outputs": [
    {
     "name": "stdout",
     "output_type": "stream",
     "text": [
      "[0 1 2 3 4 5 6 7 8 9]\n",
      "[array([0, 1, 2, 3, 4]), array([5, 6, 7, 8, 9])]\n",
      "[array([0, 1, 2]), array([3, 4, 5, 6]), array([7, 8, 9])]\n",
      "[0 1 2]\n",
      "[3 4 5 6]\n",
      "[7 8 9]\n"
     ]
    }
   ],
   "source": [
    "#np.split split your array into multiple sub-arrays \n",
    "arr=np.arange(10)\n",
    "print(arr)\n",
    "#split 2 equal parts\n",
    "split_arr=np.split(arr,2)\n",
    "print(split_arr)\n",
    "#split based on indince\n",
    "split_ind=np.split(arr,[3,7])\n",
    "print(split_ind)\n",
    "for part in split_ind:\n",
    "    print(part)"
   ]
  },
  {
   "cell_type": "code",
   "execution_count": 82,
   "id": "1d5dc12d-0263-4bea-a6ed-bda7145e2a00",
   "metadata": {},
   "outputs": [
    {
     "name": "stdout",
     "output_type": "stream",
     "text": [
      "[[ 0  1  2  3]\n",
      " [ 4  5  6  7]\n",
      " [ 8  9 10 11]\n",
      " [12 13 14 15]\n",
      " [16 17 18 19]\n",
      " [20 21 22 23]]\n"
     ]
    }
   ],
   "source": [
    "#2D array \n",
    "arr=np.arange(24).reshape(6,4)\n",
    "print(arr)"
   ]
  },
  {
   "cell_type": "code",
   "execution_count": 90,
   "id": "1f7051e7-eca2-4451-853d-43d622715cd2",
   "metadata": {},
   "outputs": [
    {
     "name": "stdout",
     "output_type": "stream",
     "text": [
      "[array([[[ 0,  1],\n",
      "        [ 2,  3],\n",
      "        [ 4,  5]],\n",
      "\n",
      "       [[ 6,  7],\n",
      "        [ 8,  9],\n",
      "        [10, 11]]]), array([], shape=(0, 3, 2), dtype=int32), array([], shape=(0, 3, 2), dtype=int32)]\n",
      "[array([[[0, 1]],\n",
      "\n",
      "       [[6, 7]]]), array([[[2, 3]],\n",
      "\n",
      "       [[8, 9]]]), array([[[ 4,  5]],\n",
      "\n",
      "       [[10, 11]]])]\n",
      "[array([[[ 0,  1,  2]],\n",
      "\n",
      "       [[ 9, 10, 11]]]), array([[[ 3,  4,  5]],\n",
      "\n",
      "       [[12, 13, 14]]]), array([[[ 6,  7,  8]],\n",
      "\n",
      "       [[15, 16, 17]]])]\n"
     ]
    }
   ],
   "source": [
    "#split the array at specific indices along the rows\n",
    "split_arr=np.split(arr,[2,4],axis=0)\n",
    "print(split_arr)\n",
    "\n",
    "split_arr1=np.split(arr,[1,2],axis=1)\n",
    "print(split_arr1)\n",
    "\n",
    "split_arr2=np.split(arr1,[1,2],axis=1)\n",
    "print(split_arr2)"
   ]
  },
  {
   "cell_type": "code",
   "execution_count": 93,
   "id": "3902f190-394f-4079-bd45-505eb964aa6c",
   "metadata": {},
   "outputs": [
    {
     "name": "stdout",
     "output_type": "stream",
     "text": [
      "[array([[[0, 1],\n",
      "        [2, 3],\n",
      "        [4, 5]]]), array([[[ 6,  7],\n",
      "        [ 8,  9],\n",
      "        [10, 11]]])]\n",
      "[array([[[0, 1]],\n",
      "\n",
      "       [[6, 7]]]), array([[[2, 3]],\n",
      "\n",
      "       [[8, 9]]]), array([[[ 4,  5]],\n",
      "\n",
      "       [[10, 11]]])]\n",
      "[array([[[ 0],\n",
      "        [ 2],\n",
      "        [ 4]],\n",
      "\n",
      "       [[ 6],\n",
      "        [ 8],\n",
      "        [10]]]), array([[[ 1],\n",
      "        [ 3],\n",
      "        [ 5]],\n",
      "\n",
      "       [[ 7],\n",
      "        [ 9],\n",
      "        [11]]])]\n"
     ]
    }
   ],
   "source": [
    "#3D\n",
    "arr=np.arange(12).reshape(2,3,2)\n",
    "\n",
    "split0=np.split(arr,2,axis=0)\n",
    "print(split0)\n",
    "\n",
    "split1=np.split(arr,3,axis=1)\n",
    "print(split1)\n",
    "\n",
    "split2=np.split(arr,2,axis=2)\n",
    "print(split2)"
   ]
  },
  {
   "cell_type": "code",
   "execution_count": 86,
   "id": "ea7daf86-5d54-4238-8a96-0bf01118ff25",
   "metadata": {},
   "outputs": [
    {
     "data": {
      "text/plain": [
       "array([[[ 0,  1],\n",
       "        [ 2,  3],\n",
       "        [ 4,  5]],\n",
       "\n",
       "       [[ 6,  7],\n",
       "        [ 8,  9],\n",
       "        [10, 11]]])"
      ]
     },
     "execution_count": 86,
     "metadata": {},
     "output_type": "execute_result"
    }
   ],
   "source": [
    "arr"
   ]
  },
  {
   "cell_type": "code",
   "execution_count": null,
   "id": "58dd8eb4-faef-45b4-8f19-1e2fa2c45c6e",
   "metadata": {},
   "outputs": [],
   "source": []
  }
 ],
 "metadata": {
  "kernelspec": {
   "display_name": "Python 3 (ipykernel)",
   "language": "python",
   "name": "python3"
  },
  "language_info": {
   "codemirror_mode": {
    "name": "ipython",
    "version": 3
   },
   "file_extension": ".py",
   "mimetype": "text/x-python",
   "name": "python",
   "nbconvert_exporter": "python",
   "pygments_lexer": "ipython3",
   "version": "3.11.7"
  }
 },
 "nbformat": 4,
 "nbformat_minor": 5
}
