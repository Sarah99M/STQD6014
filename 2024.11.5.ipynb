{
 "cells": [
  {
   "cell_type": "code",
   "execution_count": 2,
   "id": "84a1928b-80a1-46e2-8264-58f5210ab786",
   "metadata": {},
   "outputs": [],
   "source": [
    "class Person:\n",
    "    \"\"\"Create a class named Person to assign value for name and age\"\"\"\n",
    "    def __init__(self,name,age):\n",
    "        self.name=name\n",
    "        self.age=age"
   ]
  },
  {
   "cell_type": "code",
   "execution_count": 3,
   "id": "35d13188-2441-49d5-b105-4567a5dadbdc",
   "metadata": {},
   "outputs": [
    {
     "name": "stdout",
     "output_type": "stream",
     "text": [
      "John\n",
      "36\n"
     ]
    }
   ],
   "source": [
    "p1 =  Person(\"John\",36)\n",
    "\n",
    "print(p1.name)\n",
    "print(p1.age)"
   ]
  },
  {
   "cell_type": "code",
   "execution_count": 4,
   "id": "e6633761-e471-47a5-a12c-486e1421e692",
   "metadata": {},
   "outputs": [
    {
     "name": "stdout",
     "output_type": "stream",
     "text": [
      "HEllo my name is John\n"
     ]
    }
   ],
   "source": [
    "class Person:\n",
    "    \"\"\"Create a class named Person to assign value for name and age\"\"\"\n",
    "    def __init__(self,name,age):\n",
    "        self.name=name\n",
    "        self.age=age\n",
    "    def myfunc(self):\n",
    "        print(\"HEllo my name is \"+self.name)\n",
    "\n",
    "p1=Person(\"John\",36)\n",
    "p1.myfunc()"
   ]
  },
  {
   "cell_type": "code",
   "execution_count": 5,
   "id": "c275cc21-278a-487a-9f0f-098059c5cace",
   "metadata": {},
   "outputs": [],
   "source": [
    "class Dog():\n",
    "    def __init__(self,name,age):\n",
    "        self.name=name\n",
    "        self.age=age\n",
    "    def sit(self):\n",
    "        print(self.name.title()+\" is now sitting.\")\n",
    "    def roll_over(self):\n",
    "        print(self.name.title()+\" rolled over!\")"
   ]
  },
  {
   "cell_type": "code",
   "execution_count": 6,
   "id": "8f4c3431-f2d9-40a8-9ae5-82c7782c09dd",
   "metadata": {},
   "outputs": [
    {
     "name": "stdout",
     "output_type": "stream",
     "text": [
      "Willie is now sitting.\n",
      "Willie rolled over!\n"
     ]
    }
   ],
   "source": [
    "dog1 = Dog('willie',6)\n",
    "dog1.sit()\n",
    "dog1.roll_over()"
   ]
  },
  {
   "cell_type": "code",
   "execution_count": 7,
   "id": "8b99f79b-7aaa-4362-9116-2ff0b82b6608",
   "metadata": {},
   "outputs": [
    {
     "name": "stdout",
     "output_type": "stream",
     "text": [
      "Mickey is now sitting.\n",
      "Mickey rolled over!\n"
     ]
    }
   ],
   "source": [
    "dog2 = Dog('mickey',10)\n",
    "dog2.sit()\n",
    "dog2.roll_over()"
   ]
  },
  {
   "cell_type": "code",
   "execution_count": 13,
   "id": "703452ec-e8d7-4233-a11c-856660457d73",
   "metadata": {},
   "outputs": [],
   "source": [
    "class Restaurant():\n",
    "    def __init__(self,retaurant_name,cuisine_type):\n",
    "        self.retaurant_name=retaurant_name\n",
    "        self.cuisine_type=cuisine_type\n",
    "    def describe_retaurant(self):\n",
    "        print(\"retaurant name is \"+self.retaurant_name)\n",
    "        print(\"retaurant type is \"+self.cuisine_type)\n",
    "    def open_retaurant(self):\n",
    "        print(self.retaurant_name+\" is open!\")"
   ]
  },
  {
   "cell_type": "code",
   "execution_count": 14,
   "id": "0a93c0dc-2d96-4c84-aa9a-c76b8f11d982",
   "metadata": {},
   "outputs": [
    {
     "name": "stdout",
     "output_type": "stream",
     "text": [
      "retaurant name is Delicious\n",
      "retaurant type is Chinese food\n",
      "Delicious is open!\n"
     ]
    }
   ],
   "source": [
    "re=Restaurant(\"Delicious\",\"Chinese food\")\n",
    "re.describe_retaurant()\n",
    "re.open_retaurant()      "
   ]
  },
  {
   "cell_type": "code",
   "execution_count": 23,
   "id": "3c95bad9-2794-41f9-a3e4-62dd1b979d04",
   "metadata": {},
   "outputs": [],
   "source": [
    "class User():\n",
    "    def __init__(self,first_name,last_name,gender,age):\n",
    "        self.first_name=first_name\n",
    "        self.last_name=last_name\n",
    "        self.gender=gender\n",
    "        self.age=age\n",
    "    def describe_user(self):\n",
    "        print(self.first_name.title()+' '+self.last_name.title()+\" age is \"+self.age+\" and is a \"+self.gender+\"\\n\")\n",
    "    def greet_user(self):\n",
    "        print(\"Welcome \"+self.first_name.title()+' '+self.last_name.title())"
   ]
  },
  {
   "cell_type": "code",
   "execution_count": 24,
   "id": "5d79dc41-a98a-4e76-8c26-e25b687481e0",
   "metadata": {},
   "outputs": [
    {
     "name": "stdout",
     "output_type": "stream",
     "text": [
      "Sarah Mao age is 22 and is a female\n",
      "\n",
      "Welcome Sarah Mao\n"
     ]
    }
   ],
   "source": [
    "myuser=User(\"Sarah\",\"Mao\",\"female\",\"22\")\n",
    "myuser.describe_user()\n",
    "myuser.greet_user()"
   ]
  },
  {
   "cell_type": "code",
   "execution_count": 27,
   "id": "c0494d28-7b5f-440a-95f8-cc6626fd95f7",
   "metadata": {},
   "outputs": [
    {
     "name": "stdout",
     "output_type": "stream",
     "text": [
      "2016 Audi A4\n"
     ]
    }
   ],
   "source": [
    "class Car():\n",
    "    def __init__(self,make,model,year):\n",
    "        self.make=make\n",
    "        self.model=model\n",
    "        self.year=year\n",
    "    def get_descriptive_name(self):\n",
    "        long_name=str(self.year)+' '+self.make+' '+self.model\n",
    "        return long_name.title()\n",
    "\n",
    "my_new_car=Car('audi','a4',2016)\n",
    "print(my_new_car.get_descriptive_name())"
   ]
  },
  {
   "cell_type": "code",
   "execution_count": 47,
   "id": "d83e421e-0a19-4e02-98f3-cee9eec937b3",
   "metadata": {},
   "outputs": [
    {
     "name": "stdout",
     "output_type": "stream",
     "text": [
      "2016 Audi A4\n",
      "This car has 23 miles on it.\n"
     ]
    }
   ],
   "source": [
    "class Car():\n",
    "    def __init__(self,make,model,year):\n",
    "        self.make=make\n",
    "        self.model=model\n",
    "        self.year=year\n",
    "        self.odometer_reading=0\n",
    "\n",
    "    def get_descriptive_name(self):\n",
    "        long_name=str(self.year)+' '+self.make+' '+self.model\n",
    "        return long_name.title()\n",
    "    def read_odometer(self):\n",
    "        print(\"This car has \"+str(self.odometer_reading)+\" miles on it.\")\n",
    "    def update_odometer(self,mileage):\n",
    "        self.odometer_reading=mileage\n",
    "    def increment_odometer(self,miles):\n",
    "        self.odometer_reading+=miles\n",
    "\n",
    "my_new_car=Car('audi','a4',2016)\n",
    "print(my_new_car.get_descriptive_name())\n",
    "my_new_car.odometer_reading=23\n",
    "my_new_car.read_odometer()"
   ]
  },
  {
   "cell_type": "code",
   "execution_count": 32,
   "id": "330f184d-6d5c-491d-bfae-a7c22fc8280f",
   "metadata": {},
   "outputs": [
    {
     "name": "stdout",
     "output_type": "stream",
     "text": [
      "This car has 23 miles on it.\n"
     ]
    }
   ],
   "source": [
    "my_new_car.odometer_reading=23\n",
    "my_new_car.read_odometer()"
   ]
  },
  {
   "cell_type": "code",
   "execution_count": 39,
   "id": "54f0b686-3175-4833-9ebf-7a23352b774d",
   "metadata": {},
   "outputs": [
    {
     "name": "stdout",
     "output_type": "stream",
     "text": [
      "2016 Audi A4\n",
      "This car has 23 miles on it.\n"
     ]
    }
   ],
   "source": [
    "my_new_car=Car('audi','a4',2016)\n",
    "print(my_new_car.get_descriptive_name())\n",
    "my_new_car.update_odometer(23)\n",
    "my_new_car.read_odometer()"
   ]
  },
  {
   "cell_type": "code",
   "execution_count": 51,
   "id": "7e9796e0-a42b-41ba-8288-24c6175f5248",
   "metadata": {},
   "outputs": [
    {
     "name": "stdout",
     "output_type": "stream",
     "text": [
      "2013 Subaru Outback\n"
     ]
    }
   ],
   "source": [
    "my_used_car=Car('subaru','outback',2013)\n",
    "print(my_used_car.get_descriptive_name())"
   ]
  },
  {
   "cell_type": "code",
   "execution_count": 52,
   "id": "3619561b-eec1-4d70-910d-a69377136217",
   "metadata": {},
   "outputs": [],
   "source": [
    "class Car():\n",
    "    def __init__(self,make,model,year):\n",
    "        self.make=make\n",
    "        self.model=model\n",
    "        self.year=year\n",
    "        self.odometer_reading=0\n",
    "\n",
    "    def get_descriptive_name(self):\n",
    "        long_name=str(self.year)+' '+self.make+' '+self.model\n",
    "        return long_name.title()\n",
    "    def read_odometer(self):\n",
    "        print(\"This car has \"+str(self.odometer_reading)+\" miles on it.\")\n",
    "    def update_odometer(self,mileage):\n",
    "        self.odometer_reading=mileage\n",
    "    def increment_odometer(self,miles):\n",
    "        self.odometer_reading+=miles"
   ]
  },
  {
   "cell_type": "code",
   "execution_count": 54,
   "id": "9f923e26-d084-49a4-87af-5813cb79f1e4",
   "metadata": {},
   "outputs": [
    {
     "name": "stdout",
     "output_type": "stream",
     "text": [
      "This car has 23500 miles on it.\n"
     ]
    }
   ],
   "source": [
    "my_used_car.update_odometer(23500)\n",
    "my_used_car.read_odometer()"
   ]
  },
  {
   "cell_type": "code",
   "execution_count": 55,
   "id": "266e205d-2232-4a6e-9959-9cc16e4f3525",
   "metadata": {},
   "outputs": [
    {
     "name": "stdout",
     "output_type": "stream",
     "text": [
      "This car has 23600 miles on it.\n"
     ]
    }
   ],
   "source": [
    "my_used_car.increment_odometer(100)\n",
    "my_used_car.read_odometer()"
   ]
  },
  {
   "cell_type": "code",
   "execution_count": 60,
   "id": "55dd1993-8853-47f4-9724-8a01b3d53034",
   "metadata": {},
   "outputs": [],
   "source": [
    "class ElectricCar(Car):\n",
    "    def __init__(self,make,model,year):\n",
    "        super().__init__(make,model,year)\n",
    "        self.battery_size=70\n",
    "\n",
    "    def describe_battery(self):\n",
    "        print(\"This car has a \"+str(self.battery_size)+\"-kWh battery.\")"
   ]
  },
  {
   "cell_type": "code",
   "execution_count": 59,
   "id": "66a8cd30-51c9-450e-99bc-5d6927b04ce2",
   "metadata": {},
   "outputs": [
    {
     "name": "stdout",
     "output_type": "stream",
     "text": [
      "2016 Tesla Model S\n"
     ]
    }
   ],
   "source": [
    "my_tesla=ElectricCar('tesla','model s',2016)\n",
    "print(my_tesla.get_descriptive_name())"
   ]
  },
  {
   "cell_type": "code",
   "execution_count": 61,
   "id": "4d8c049a-f9b5-4047-aeef-bbc90d3cae13",
   "metadata": {},
   "outputs": [
    {
     "name": "stdout",
     "output_type": "stream",
     "text": [
      "2016 Tesla Model S\n",
      "This car has a 70-kWh battery.\n"
     ]
    }
   ],
   "source": [
    "my_tesla=ElectricCar('tesla','model s',2016)\n",
    "print(my_tesla.get_descriptive_name())\n",
    "my_tesla.describe_battery()"
   ]
  },
  {
   "cell_type": "code",
   "execution_count": 72,
   "id": "150ae886-fa96-473d-9e6e-fe29454c1c49",
   "metadata": {},
   "outputs": [
    {
     "name": "stdout",
     "output_type": "stream",
     "text": [
      "2016 Volkswagen Beetle\n",
      "2016 Tesla Roadster\n"
     ]
    }
   ],
   "source": [
    "import car\n",
    "\n",
    "my_beetle=car.Car('volkswagen','beetle',2016)\n",
    "print(my_beetle.get_descriptive_name())\n",
    "\n",
    "my_tesla=car.ElectricCar('tesla','roadster',2016)\n",
    "print(my_tesla.get_descriptive_name())"
   ]
  },
  {
   "cell_type": "code",
   "execution_count": 68,
   "id": "a24f593a-076b-420a-941b-c9df8baa499a",
   "metadata": {},
   "outputs": [
    {
     "name": "stdout",
     "output_type": "stream",
     "text": [
      "2016 Audi A4\n",
      "This car has 23 miles on it.\n"
     ]
    }
   ],
   "source": [
    "from car import Car\n",
    "my_new_car=Car('audi','a4',2016)\n",
    "print(my_new_car.get_descriptive_name())\n",
    "\n",
    "my_new_car.odometer_reading=23\n",
    "my_new_car.read_odometer()"
   ]
  },
  {
   "cell_type": "code",
   "execution_count": 69,
   "id": "ae517091-f2cc-4a6d-952c-1114d6dc3db6",
   "metadata": {},
   "outputs": [
    {
     "name": "stdout",
     "output_type": "stream",
     "text": [
      "2016 Tesla Model S\n",
      "This car has a 70-kWh battery.\n"
     ]
    }
   ],
   "source": [
    "from car import ElectricCar\n",
    "\n",
    "my_tesla=ElectricCar('tesla','model s',2016)\n",
    "print(my_tesla.get_descriptive_name())\n",
    "my_tesla.describe_battery()"
   ]
  },
  {
   "cell_type": "code",
   "execution_count": 71,
   "id": "ea9a4505-1c07-409c-8264-1225c7837839",
   "metadata": {},
   "outputs": [
    {
     "name": "stdout",
     "output_type": "stream",
     "text": [
      "2016 Volkswagen Beetle\n",
      "2016 Tesla Roadster\n"
     ]
    }
   ],
   "source": [
    "from car import Car,ElectricCar\n",
    "my_beetle=Car('volkswagen','beetle',2016)\n",
    "print(my_beetle.get_descriptive_name())\n",
    "\n",
    "my_tesla=ElectricCar('tesla','roadster',2016)\n",
    "print(my_tesla.get_descriptive_name())"
   ]
  },
  {
   "cell_type": "markdown",
   "id": "a3feca87-5c53-43f0-b9ec-5c2b86502e21",
   "metadata": {},
   "source": [
    "# file"
   ]
  },
  {
   "cell_type": "code",
   "execution_count": 73,
   "id": "cf90b561-d8d6-4b52-b508-d924fdffbf52",
   "metadata": {},
   "outputs": [
    {
     "name": "stdout",
     "output_type": "stream",
     "text": [
      "3.1415926535 \n",
      " 8979323846 \n",
      " 2643383279\n"
     ]
    }
   ],
   "source": [
    "with open('pi_digits.txt')as file_object:\n",
    "    contents=file_object.read()\n",
    "    print(contents)"
   ]
  },
  {
   "cell_type": "code",
   "execution_count": 75,
   "id": "04b8fb1c-d378-453f-9e71-19807279218c",
   "metadata": {},
   "outputs": [
    {
     "name": "stdout",
     "output_type": "stream",
     "text": [
      "3.1415926535 \n",
      "\n",
      "3.1415926535\n",
      " 8979323846 \n",
      "\n",
      " 8979323846\n",
      " 2643383279\n",
      " 2643383279\n"
     ]
    }
   ],
   "source": [
    "filename='pi_digits.txt'\n",
    "\n",
    "with open(filename)as file_object:\n",
    "    for line in file_object:\n",
    "        print(line)\n",
    "        print(line.rstrip())"
   ]
  },
  {
   "cell_type": "code",
   "execution_count": 81,
   "id": "a2907435-e1c7-4fd7-8495-ed3957f71ccb",
   "metadata": {},
   "outputs": [],
   "source": [
    "filename='programming.txt'\n",
    "\n",
    "with open(filename,'w') as file_object:\n",
    "    file_object.write(\"I love programming.\")"
   ]
  },
  {
   "cell_type": "code",
   "execution_count": null,
   "id": "d026a57c-e35e-42a6-8e69-38154c8c93f9",
   "metadata": {},
   "outputs": [],
   "source": []
  }
 ],
 "metadata": {
  "kernelspec": {
   "display_name": "Python 3 (ipykernel)",
   "language": "python",
   "name": "python3"
  },
  "language_info": {
   "codemirror_mode": {
    "name": "ipython",
    "version": 3
   },
   "file_extension": ".py",
   "mimetype": "text/x-python",
   "name": "python",
   "nbconvert_exporter": "python",
   "pygments_lexer": "ipython3",
   "version": "3.11.7"
  }
 },
 "nbformat": 4,
 "nbformat_minor": 5
}
