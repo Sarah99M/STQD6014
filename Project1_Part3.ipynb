{
  "nbformat": 4,
  "nbformat_minor": 0,
  "metadata": {
    "colab": {
      "provenance": [],
      "mount_file_id": "1EdFi8JASOm8iCgDgYk8LiKLdxiz6-sf_",
      "authorship_tag": "ABX9TyM1cLoSnr+USoRO4R2kSdio",
      "include_colab_link": true
    },
    "kernelspec": {
      "name": "python3",
      "display_name": "Python 3"
    },
    "language_info": {
      "name": "python"
    }
  },
  "cells": [
    {
      "cell_type": "markdown",
      "metadata": {
        "id": "view-in-github",
        "colab_type": "text"
      },
      "source": [
        "<a href=\"https://colab.research.google.com/github/Sarah99M/STQD6014/blob/main/Project1_Part3.ipynb\" target=\"_parent\"><img src=\"https://colab.research.google.com/assets/colab-badge.svg\" alt=\"Open In Colab\"/></a>"
      ]
    },
    {
      "cell_type": "code",
      "source": [],
      "metadata": {
        "id": "pNfgYvDobdQB"
      },
      "execution_count": null,
      "outputs": []
    },
    {
      "cell_type": "markdown",
      "source": [
        "For this task, you have to use class and save it as a module. Create a scenario involving\n",
        "function, class and inheritance.\n",
        "1. Write the introduction of your scenario.\n",
        "2. Write a program using python class, function and inheritance for the chosen scenario\n",
        "above.\n",
        "3. Test your program by creating five instances of each parent and child class and print\n",
        "the info related."
      ],
      "metadata": {
        "id": "jUgTs4mHbbRj"
      }
    },
    {
      "cell_type": "code",
      "execution_count": 2,
      "metadata": {
        "id": "yKzb1gRTUxV1"
      },
      "outputs": [],
      "source": [
        "# Project1_Part3.py module\n",
        "class shop:\n",
        "    def __init__(self,name,type):\n",
        "        self.name=name\n",
        "        self.type=type\n",
        "    def info(self):\n",
        "        print(f\"Name:{self.name},Type:{self.type}\")\n",
        "\n",
        "class clothingstore(shop):\n",
        "    def __init__(self,name,type,item_name,size,price):\n",
        "        super().__init__(name,type)\n",
        "        self.item_name=item_name\n",
        "        self.size=size\n",
        "        self.price=price\n",
        "    def info(self):\n",
        "        return (\n",
        "            f\"{super().info()}, Item: {self.item_name}, \"\n",
        "            f\"Size: {self.size}, Price: ${self.price}\"\n",
        "        )\n",
        "\n",
        "class Fruit(shop):\n",
        "    def __init__(self,name,type,fruit_name,price,quantity):\n",
        "        super().__init__(name,type)\n",
        "        self.fruit_name=fruit_name\n",
        "        self.price=price\n",
        "        self.quantity=quantity\n",
        "    def info(self):\n",
        "        return (\n",
        "            f\"{super().info()}, Fruit: {self.fruit_name}, \"\n",
        "            f\"Price: ${self.price}, Quantity: {self.quantity}\"\n",
        "        );"
      ]
    },
    {
      "cell_type": "code",
      "source": [
        "from Project1_Part3 import shop, clothing_store, fruit\n",
        "clothing_stores=[\n",
        "clothingstore(\"Clothing store1\",\"clothing store\",\"Tshirt\",\"s\",35),\n",
        "clothingstore(\"Clothing store2\",\"clothing store\",\"Pants\",\"m\",41),\n",
        "clothingstore(\"Clothing store3\",\"clothing store\",\"Skirt\",\"l\",37),\n",
        "clothingstore(\"Clothing store4\",\"clothing store\",\"Jeans\",\"s\",55),\n",
        "clothingstore(\"Clothing store5\",\"clothing store\",\"Vest\",\"l\",25)]\n",
        "\n",
        "fruits=[\n",
        "Fruit(\"FruitStore1\", \"Fruit Store\", \"Apple\", 3.4, 14),\n",
        "Fruit(\"FruitStore2\", \"Fruit Store\", \"Banana\", 2.1, 15),\n",
        "Fruit(\"FruitStore3\", \"Fruit Store\", \"Cherry\", 28.9, 5),\n",
        "Fruit(\"FruitStore4\", \"Fruit Store\", \"Blueberry\", 8.9, 10),\n",
        "Fruit(\"FruitStore5\", \"Fruit Store\", \"Orange\", 6.2, 20)]\n",
        "\n",
        "print(\"Clothing Store: \")\n",
        "for store in clothing_stores:\n",
        "    print(store.info())\n",
        "\n",
        "print(\"\\nFruit Store: \")\n",
        "for fruit in fruits:\n",
        "    print(fruit.info())"
      ],
      "metadata": {
        "colab": {
          "base_uri": "https://localhost:8080/",
          "height": 332
        },
        "id": "JDTHhOJEVLHY",
        "outputId": "0b48e364-1d38-4922-e6c7-a54ace1ffd89"
      },
      "execution_count": null,
      "outputs": [
        {
          "output_type": "error",
          "ename": "ImportError",
          "evalue": "cannot import name 'shop' from 'Project1_Part3' (/content/Project1_Part3.py)",
          "traceback": [
            "\u001b[0;31m---------------------------------------------------------------------------\u001b[0m",
            "\u001b[0;31mImportError\u001b[0m                               Traceback (most recent call last)",
            "\u001b[0;32m<ipython-input-14-ddc9cdd54fb0>\u001b[0m in \u001b[0;36m<cell line: 1>\u001b[0;34m()\u001b[0m\n\u001b[0;32m----> 1\u001b[0;31m \u001b[0;32mfrom\u001b[0m \u001b[0mProject1_Part3\u001b[0m \u001b[0;32mimport\u001b[0m \u001b[0mshop\u001b[0m\u001b[0;34m,\u001b[0m\u001b[0mclothing_store\u001b[0m\u001b[0;34m,\u001b[0m\u001b[0mfruit\u001b[0m\u001b[0;34m\u001b[0m\u001b[0;34m\u001b[0m\u001b[0m\n\u001b[0m",
            "\u001b[0;31mImportError\u001b[0m: cannot import name 'shop' from 'Project1_Part3' (/content/Project1_Part3.py)",
            "",
            "\u001b[0;31m---------------------------------------------------------------------------\u001b[0;32m\nNOTE: If your import is failing due to a missing package, you can\nmanually install dependencies using either !pip or !apt.\n\nTo view examples of installing some common dependencies, click the\n\"Open Examples\" button below.\n\u001b[0;31m---------------------------------------------------------------------------\u001b[0m\n"
          ],
          "errorDetails": {
            "actions": [
              {
                "action": "open_url",
                "actionText": "Open Examples",
                "url": "/notebooks/snippets/importing_libraries.ipynb"
              }
            ]
          }
        }
      ]
    },
    {
      "cell_type": "code",
      "source": [],
      "metadata": {
        "id": "jo8cdqGVVaPL"
      },
      "execution_count": null,
      "outputs": []
    }
  ]
}