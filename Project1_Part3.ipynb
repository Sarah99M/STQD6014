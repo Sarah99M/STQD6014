{
  "nbformat": 4,
  "nbformat_minor": 0,
  "metadata": {
    "colab": {
      "provenance": [],
      "mount_file_id": "1EdFi8JASOm8iCgDgYk8LiKLdxiz6-sf_",
      "authorship_tag": "ABX9TyOriBkC9jOm6olBN2R6lZwA",
      "include_colab_link": true
    },
    "kernelspec": {
      "name": "python3",
      "display_name": "Python 3"
    },
    "language_info": {
      "name": "python"
    }
  },
  "cells": [
    {
      "cell_type": "markdown",
      "metadata": {
        "id": "view-in-github",
        "colab_type": "text"
      },
      "source": [
        "<a href=\"https://colab.research.google.com/github/Sarah99M/STQD6014/blob/main/Project1_Part3.ipynb\" target=\"_parent\"><img src=\"https://colab.research.google.com/assets/colab-badge.svg\" alt=\"Open In Colab\"/></a>"
      ]
    },
    {
      "cell_type": "markdown",
      "source": [
        "For this task, you have to use class and save it as a module. Create a scenario involving\n",
        "function, class and inheritance.\n",
        "1. Write the introduction of your scenario.\n",
        "2. Write a program using python class, function and inheritance for the chosen scenario\n",
        "above.\n",
        "3. Test your program by creating five instances of each parent and child class and print\n",
        "the info related."
      ],
      "metadata": {
        "id": "jUgTs4mHbbRj"
      }
    },
    {
      "cell_type": "code",
      "execution_count": null,
      "metadata": {
        "id": "yKzb1gRTUxV1"
      },
      "outputs": [],
      "source": [
        "# Project1_Part3.py module\n",
        "class shop:\n",
        "    def __init__(self,name,type):\n",
        "        self.name=name\n",
        "        self.type=type\n",
        "    def info(self):\n",
        "        print(f\"Name:{self.name},Type:{self.type}\")\n",
        "\n",
        "class clothingstore(shop):\n",
        "    def __init__(self,name,type,item_name,size,color):\n",
        "        super().__init__(name,type)\n",
        "        self.item_name=item_name\n",
        "        self.size=size\n",
        "        self.color=color\n",
        "    def info(self):\n",
        "        return (\n",
        "            f\"{super().info()}, Item: {self.item_name}, \"\n",
        "            f\"Size: {self.size}, Color: {self.color}\"\n",
        "        )\n",
        "\n",
        "class Fruit(shop):\n",
        "    def __init__(self,name,type,fruit_name,price,quantity):\n",
        "        super().__init__(name,type)\n",
        "        self.fruit_name=fruit_name\n",
        "        self.price=price\n",
        "        self.quantity=quantity\n",
        "    def info(self):\n",
        "        return (\n",
        "            f\"{super().info()}, Fruit: {self.fruit_name}, \"\n",
        "            f\"Price: ${self.price}, Quantity: {self.quantity}\"\n",
        "        );"
      ]
    },
    {
      "cell_type": "code",
      "source": [
        "from Project1_Part3 import shop, clothingstore, Fruit\n",
        "clothing_stores=[\n",
        "clothingstore(\"Clothing store1\",\"clothing store\",\"Tshirt\",\"s\",\"white\"),\n",
        "clothingstore(\"Clothing store2\",\"clothing store\",\"Pants\",\"m\",\"yellow\"),\n",
        "clothingstore(\"Clothing store3\",\"clothing store\",\"Skirt\",\"l\",\"pink\"),\n",
        "clothingstore(\"Clothing store4\",\"clothing store\",\"Jeans\",\"s\",\"blue\"),\n",
        "clothingstore(\"Clothing store5\",\"clothing store\",\"Vest\",\"l\",\"purple\")]\n",
        "\n",
        "fruits=[\n",
        "Fruit(\"FruitStore1\", \"Fruit Store\", \"Apple\", 3.4, 14),\n",
        "Fruit(\"FruitStore2\", \"Fruit Store\", \"Banana\", 2.1, 15),\n",
        "Fruit(\"FruitStore3\", \"Fruit Store\", \"Cherry\", 28.9, 5),\n",
        "Fruit(\"FruitStore4\", \"Fruit Store\", \"Blueberry\", 8.9, 10),\n",
        "Fruit(\"FruitStore5\", \"Fruit Store\", \"Orange\", 6.2, 20)]\n",
        "\n",
        "print(\"Clothing Store: \")\n",
        "for store in clothing_stores:\n",
        "    print(store.info())\n",
        "\n",
        "print(\"\\nFruit Store: \")\n",
        "for fruit in fruits:\n",
        "    print(fruit.info())"
      ],
      "metadata": {
        "id": "JDTHhOJEVLHY"
      },
      "execution_count": null,
      "outputs": []
    },
    {
      "cell_type": "code",
      "source": [],
      "metadata": {
        "id": "jo8cdqGVVaPL"
      },
      "execution_count": null,
      "outputs": []
    }
  ]
}