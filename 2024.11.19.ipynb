{
 "cells": [
  {
   "cell_type": "code",
   "execution_count": 2,
   "id": "e5d13770-6e55-4b23-92f1-fb914814572b",
   "metadata": {},
   "outputs": [],
   "source": [
    "import numpy as np"
   ]
  },
  {
   "cell_type": "code",
   "execution_count": 11,
   "id": "dd38e2e5-ccad-4ee1-898c-5b357d80aeb4",
   "metadata": {},
   "outputs": [
    {
     "name": "stdout",
     "output_type": "stream",
     "text": [
      "[[[ 0  1  2]\n",
      "  [ 3  4  5]]\n",
      "\n",
      " [[ 6  7  8]\n",
      "  [ 9 10 11]]\n",
      "\n",
      " [[12 13 14]\n",
      "  [15 16 17]]\n",
      "\n",
      " [[18 19 20]\n",
      "  [21 22 23]]]\n",
      "[array([[[ 0,  1,  2],\n",
      "        [ 3,  4,  5]],\n",
      "\n",
      "       [[ 6,  7,  8],\n",
      "        [ 9, 10, 11]]]), array([[[12, 13, 14],\n",
      "        [15, 16, 17]]]), array([[[18, 19, 20],\n",
      "        [21, 22, 23]]])]\n",
      "[array([[[ 0],\n",
      "        [ 3]],\n",
      "\n",
      "       [[ 6],\n",
      "        [ 9]],\n",
      "\n",
      "       [[12],\n",
      "        [15]],\n",
      "\n",
      "       [[18],\n",
      "        [21]]]), array([[[ 1,  2],\n",
      "        [ 4,  5]],\n",
      "\n",
      "       [[ 7,  8],\n",
      "        [10, 11]],\n",
      "\n",
      "       [[13, 14],\n",
      "        [16, 17]],\n",
      "\n",
      "       [[19, 20],\n",
      "        [22, 23]]])]\n"
     ]
    }
   ],
   "source": [
    "#creat \n",
    "arr=np.arange(24).reshape(4,2,3)#四个切片 每个切片两行，每行三个元素\n",
    "print(arr)\n",
    "#split along the depth (axis=0)\n",
    "split_arr_depth=np.split(arr,[2,3],axis=0)\n",
    "print(split_arr_depth)\n",
    "\n",
    "#split\n",
    "split_arr_col=np.split(arr,[1],axis=2)\n",
    "print(split_arr_col)\n",
    "\n"
   ]
  },
  {
   "cell_type": "code",
   "execution_count": 13,
   "id": "c2e18f56-2ad9-4968-9d10-783e082c7fc9",
   "metadata": {},
   "outputs": [
    {
     "name": "stdout",
     "output_type": "stream",
     "text": [
      "(4, 2, 1)\n",
      "(4, 2, 2)\n"
     ]
    }
   ],
   "source": [
    "for part in split_arr_col:\n",
    "    print(part.shape)"
   ]
  },
  {
   "cell_type": "code",
   "execution_count": 17,
   "id": "8501fa27-e6cc-41a3-ac95-ec8e8f149dd1",
   "metadata": {},
   "outputs": [
    {
     "name": "stdout",
     "output_type": "stream",
     "text": [
      "[array([[1, 2, 3, 4],\n",
      "       [5, 6, 7, 8]]), array([[ 9, 10, 11, 12],\n",
      "       [13, 14, 15, 16]])]\n",
      "[array([[1, 2, 3, 4],\n",
      "       [5, 6, 7, 8]]), array([[ 9, 10, 11, 12],\n",
      "       [13, 14, 15, 16]])]\n",
      "[array([[ 1,  2],\n",
      "       [ 5,  6],\n",
      "       [ 9, 10],\n",
      "       [13, 14]]), array([[ 3,  4],\n",
      "       [ 7,  8],\n",
      "       [11, 12],\n",
      "       [15, 16]])]\n",
      "[array([[ 1,  2],\n",
      "       [ 5,  6],\n",
      "       [ 9, 10],\n",
      "       [13, 14]]), array([[ 3,  4],\n",
      "       [ 7,  8],\n",
      "       [11, 12],\n",
      "       [15, 16]])]\n"
     ]
    }
   ],
   "source": [
    "#create a 2D array(4x4)\n",
    "arr2=np.array([[1,2,3,4],[5,6,7,8],[9,10,11,12],[13,14,15,16]])\n",
    "\n",
    "arr_v=np.vsplit(arr2,2)\n",
    "print(arr_v)\n",
    "\n",
    "arr_sv=np.split(arr2,[2],axis=0)\n",
    "print(arr_sv)\n",
    "\n",
    "arr_h=np.hsplit(arr2,2)\n",
    "print(arr_h)\n",
    "\n",
    "arr_sh=np.split(arr2,[2],axis=1)\n",
    "print(arr_sh)"
   ]
  },
  {
   "cell_type": "markdown",
   "id": "784ff0cc-965d-4f11-9acd-ba027c91d9f2",
   "metadata": {},
   "source": [
    "### Ufunc & arithmetic"
   ]
  },
  {
   "cell_type": "code",
   "execution_count": 27,
   "id": "65b43fe8-3b1e-402a-9d42-442a9cdc21ff",
   "metadata": {},
   "outputs": [
    {
     "name": "stdout",
     "output_type": "stream",
     "text": [
      "[ 6  8 10 12]\n",
      "[-4 -4 -4 -4]\n",
      "[ 5 12 21 32]\n",
      "[0.2        0.33333333 0.42857143 0.5       ]\n",
      "[    1    64  2187 65536]\n",
      "[ True  True  True False]\n"
     ]
    }
   ],
   "source": [
    "#Define two arrays\n",
    "a=np.array([1,2,3,4])\n",
    "b=np.array([5,6,7,8])\n",
    "\n",
    "add_r=a+b\n",
    "print(add_r)\n",
    "\n",
    "sub_r=a-b\n",
    "print(sub_r)\n",
    "\n",
    "mult_r=a*b\n",
    "print(mult_r)\n",
    "\n",
    "div_r=a/b\n",
    "print(div_r)\n",
    "\n",
    "pow_r=a**b\n",
    "print(pow_r)\n",
    "\n",
    "less_r=a<4\n",
    "print(less_r)"
   ]
  },
  {
   "cell_type": "code",
   "execution_count": 24,
   "id": "52551381-56a2-48ab-882e-866413c88681",
   "metadata": {},
   "outputs": [
    {
     "data": {
      "text/plain": [
       "15"
      ]
     },
     "execution_count": 24,
     "metadata": {},
     "output_type": "execute_result"
    }
   ],
   "source": [
    "#unary ufunc \n",
    "arr=np.array([1,2,3,4,5])\n",
    "\n",
    "np.mean(arr)\n",
    "np.median(arr)\n",
    "np.std(arr)\n",
    "np.sum(arr)"
   ]
  },
  {
   "cell_type": "code",
   "execution_count": 28,
   "id": "01b9fa4c-ec80-41ce-9277-22801f458d23",
   "metadata": {},
   "outputs": [
    {
     "name": "stdout",
     "output_type": "stream",
     "text": [
      "[ 6  8 10 12]\n",
      "[-4 -4 -4 -4]\n",
      "[ 5 12 21 32]\n",
      "[0.2        0.33333333 0.42857143 0.5       ]\n",
      "[    1    64  2187 65536]\n",
      "[ True  True  True  True]\n"
     ]
    }
   ],
   "source": [
    "#binary ufunc\n",
    "a=np.array([1,2,3,4])\n",
    "b=np.array([5,6,7,8])\n",
    "\n",
    "add_r=np.add(a,b)\n",
    "print(add_r)\n",
    "\n",
    "sub_r=np.subtract(a,b)\n",
    "print(sub_r)\n",
    "\n",
    "mult_r=np.multiply(a,b)\n",
    "print(mult_r)\n",
    "\n",
    "div_r=np.divide(a,b)\n",
    "print(div_r)\n",
    "\n",
    "pow_r=np.power(a,b)\n",
    "print(pow_r)\n",
    "\n",
    "less_r=np.less(a,b)\n",
    "print(less_r)"
   ]
  },
  {
   "cell_type": "code",
   "execution_count": 36,
   "id": "ad8bb064-9895-4a3f-b388-3a348834bb0f",
   "metadata": {},
   "outputs": [
    {
     "name": "stdout",
     "output_type": "stream",
     "text": [
      "Time using x<5: 0.04686474800109863\n",
      "Time using np.less: 0.062488555908203125\n"
     ]
    }
   ],
   "source": [
    "import time \n",
    "#create a large array \n",
    "x=np.random.rand(100000000)\n",
    "\n",
    "start=time.time()\n",
    "result_operator=x<5\n",
    "print(\"Time using x<5:\",time.time()-start)\n",
    "\n",
    "start=time.time()\n",
    "result_operator=np.less(x,5)\n",
    "print(\"Time using np.less:\",time.time()-start)"
   ]
  },
  {
   "cell_type": "code",
   "execution_count": 38,
   "id": "1ad0c0cd-dadd-44ec-b625-6464d9753a7a",
   "metadata": {},
   "outputs": [
    {
     "name": "stdout",
     "output_type": "stream",
     "text": [
      "[[ 6  8]\n",
      " [10 12]]\n",
      "[[ 5 12]\n",
      " [21 32]]\n",
      "[[1 3]\n",
      " [2 4]]\n"
     ]
    }
   ],
   "source": [
    "##Matrix\n",
    "A=np.array([[1,2],[3,4]])\n",
    "B=np.array([[5,6],[7,8]])\n",
    "\n",
    "mat_add=A+B\n",
    "\n",
    "mat_mul=A*B\n",
    "\n",
    "mat_tran=A.T\n",
    "\n",
    "print(mat_add)\n",
    "print(mat_mul)\n",
    "print(mat_tran)"
   ]
  },
  {
   "cell_type": "markdown",
   "id": "fa4d822c-b071-45a7-90b6-70fce0b86abb",
   "metadata": {},
   "source": [
    "### View & Coppy"
   ]
  },
  {
   "cell_type": "code",
   "execution_count": 47,
   "id": "f5331a2e-5506-4812-b054-ebf0b472593e",
   "metadata": {},
   "outputs": [
    {
     "name": "stdout",
     "output_type": "stream",
     "text": [
      "[[1 2 3]\n",
      " [4 5 6]]\n",
      "modified array with copy:\n",
      "[[99  2  3]\n",
      " [ 4  5  6]]\n",
      "\n",
      "oringinal array:\n",
      "[[1 2 3]\n",
      " [4 5 6]\n",
      " [7 8 9]]\n"
     ]
    }
   ],
   "source": [
    "arr=np.array([[1,2,3],[4,5,6],[7,8,9]])\n",
    "\n",
    "#slice the first two rows\n",
    "view_arr=arr[0:2,:].copy() \n",
    "print(view_arr)\n",
    "\n",
    "#modify an element of view_arr\n",
    "view_arr[0,0]=99\n",
    "print(\"modified array with copy:\")\n",
    "print(view_arr)\n",
    "\n",
    "print(\"\\noringinal array:\")\n",
    "print(arr)"
   ]
  },
  {
   "cell_type": "code",
   "execution_count": 48,
   "id": "994195b7-81f3-41f1-b8d1-d8a8b02d3bf8",
   "metadata": {},
   "outputs": [
    {
     "name": "stdout",
     "output_type": "stream",
     "text": [
      "modified array : [99 40]\n",
      "oringinal array : [10 20 30 40]\n"
     ]
    }
   ],
   "source": [
    "arr=np.array([10,20,30,40])\n",
    "\n",
    "#fancy index\n",
    "fancy_view=arr[[1,3]].copy()\n",
    "\n",
    "#modify fancy_view\n",
    "fancy_view[0]=99\n",
    "print(\"modified array :\",fancy_view)\n",
    "print(\"oringinal array :\",arr)"
   ]
  },
  {
   "cell_type": "code",
   "execution_count": null,
   "id": "0d66592d-63f0-43bf-9b0e-cc7c1f468167",
   "metadata": {},
   "outputs": [],
   "source": []
  },
  {
   "cell_type": "code",
   "execution_count": 55,
   "id": "87218a4d-547a-4bec-9193-d3b0c2067f3c",
   "metadata": {},
   "outputs": [],
   "source": [
    "#build a function to normalize a specifix column in 20 array \n",
    "def norm_col_2D(arr,col_index):\n",
    "    norm_arr = arr.copy()\n",
    "\n",
    "    col_arr=norm_arr[:,col_index]\n",
    "\n",
    "    mean=np.mean(col_arr)\n",
    "    std_dev=np.std(col_arr)\n",
    "\n",
    "    norm_arr[:,col_index]=(col_arr-mean)/std_dev\n",
    "\n",
    "    return norm_arr,arr\n",
    "    "
   ]
  },
  {
   "cell_type": "code",
   "execution_count": 57,
   "id": "991e3c74-ca58-45c1-adc6-8f0224594138",
   "metadata": {},
   "outputs": [
    {
     "name": "stdout",
     "output_type": "stream",
     "text": [
      "output: [[ 60  -1  80]\n",
      " [ 90   0 110]\n",
      " [120   0 140]\n",
      " [150   0 170]\n",
      " [180   1 200]]\n",
      "input: [[ 60  70  80]\n",
      " [ 90 100 110]\n",
      " [120 130 140]\n",
      " [150 160 170]\n",
      " [180 190 200]]\n"
     ]
    }
   ],
   "source": [
    "ori_arr=np.array([[60,70,80],\n",
    "                [90,100,110],\n",
    "                  [120,130,140],\n",
    "                 [150,160,170],\n",
    "                 [180,190,200]])\n",
    "modified_arr,original_arr=norm_col_2D(ori_arr,1)\n",
    "print(\"output:\",modified_arr)\n",
    "print(\"input:\",original_arr)"
   ]
  },
  {
   "cell_type": "markdown",
   "id": "a50a5b77-a691-4ac1-a7c2-5333c77a954d",
   "metadata": {},
   "source": [
    "### Pandas"
   ]
  },
  {
   "cell_type": "code",
   "execution_count": 58,
   "id": "99936300-648f-4849-9457-82198f2775f0",
   "metadata": {},
   "outputs": [],
   "source": [
    "import pandas as pd"
   ]
  },
  {
   "cell_type": "markdown",
   "id": "8bbd2cb5-afde-4e73-ae74-80838df6a1b3",
   "metadata": {},
   "source": [
    "#### Bi"
   ]
  },
  {
   "cell_type": "code",
   "execution_count": 59,
   "id": "d675f69b-a308-4028-9ec0-b4c7d7cbf9e3",
   "metadata": {},
   "outputs": [
    {
     "name": "stdout",
     "output_type": "stream",
     "text": [
      "0    10\n",
      "1    20\n",
      "2    30\n",
      "3    40\n",
      "4    50\n",
      "dtype: int64\n"
     ]
    }
   ],
   "source": [
    "#create from list\n",
    "data=[10,20,30,40,50]\n",
    "s1=pd.Series(data)\n",
    "print(s1)"
   ]
  },
  {
   "cell_type": "code",
   "execution_count": 62,
   "id": "7c74bf59-7df4-461b-9d4b-84d4b7aa8761",
   "metadata": {},
   "outputs": [
    {
     "name": "stdout",
     "output_type": "stream",
     "text": [
      "a    10\n",
      "b    20\n",
      "c    30\n",
      "d    40\n",
      "e    50\n",
      "dtype: int64\n"
     ]
    }
   ],
   "source": [
    "custom_index=['a','b','c','d','e']\n",
    "s1_customind=pd.Series(data,index=['a','b','c','d','e'])\n",
    "print(s1_customind)"
   ]
  },
  {
   "cell_type": "code",
   "execution_count": 69,
   "id": "8b8b74c3-767b-4c23-b86d-e655689cf120",
   "metadata": {},
   "outputs": [
    {
     "name": "stdout",
     "output_type": "stream",
     "text": [
      "A    10\n",
      "B    20\n",
      "D    40\n",
      "E    50\n",
      "dtype: int32\n"
     ]
    }
   ],
   "source": [
    "new_series=s_numpy.drop('C')\n",
    "print(new_series)"
   ]
  },
  {
   "cell_type": "code",
   "execution_count": 61,
   "id": "592afc17-3c1e-485b-bd56-13dbfdb67a6d",
   "metadata": {},
   "outputs": [
    {
     "name": "stdout",
     "output_type": "stream",
     "text": [
      "A    10\n",
      "B    20\n",
      "C    30\n",
      "D    40\n",
      "E    50\n",
      "dtype: int32\n"
     ]
    }
   ],
   "source": [
    "#create from Numpy array \n",
    "narr=np.array([10,20,30,40,50])\n",
    "\n",
    "s_numpy=pd.Series(narr,index=['A','B','C','D','E'])\n",
    "\n",
    "print(s_numpy)"
   ]
  },
  {
   "cell_type": "code",
   "execution_count": 63,
   "id": "1341aeba-4f00-41f2-a692-8c77870ea1f2",
   "metadata": {},
   "outputs": [
    {
     "name": "stdout",
     "output_type": "stream",
     "text": [
      "a    10\n",
      "b    20\n",
      "c    30\n",
      "d    40\n",
      "e    50\n",
      "dtype: int64\n"
     ]
    }
   ],
   "source": [
    "#create from dictionary\n",
    "dict={'a':10,'b':20,'c':30,'d':40,'e':50}\n",
    "s_dict=pd.Series(dict)\n",
    "print(s_dict)"
   ]
  },
  {
   "cell_type": "code",
   "execution_count": 64,
   "id": "8b40c065-f069-4e23-addb-39c668162d44",
   "metadata": {},
   "outputs": [
    {
     "name": "stdout",
     "output_type": "stream",
     "text": [
      "    A  B   C\n",
      "r1  1  5   6\n",
      "r2  2  6  10\n",
      "r3  3  7  11\n"
     ]
    }
   ],
   "source": [
    "#from list of lists \n",
    "data_list=[[1,5,6],[2,6,10],[3,7,11]]\n",
    "df_from_list=pd.DataFrame(data_list,columns=['A','B','C'],index=['r1','r2','r3'])\n",
    "print(df_from_list)"
   ]
  },
  {
   "cell_type": "code",
   "execution_count": 65,
   "id": "fa24b88d-cc22-4af0-8656-7534564b2be2",
   "metadata": {},
   "outputs": [
    {
     "name": "stdout",
     "output_type": "stream",
     "text": [
      "    A  B   C\n",
      "r1  1  5   6\n",
      "r2  2  6  10\n",
      "r3  3  7  11\n"
     ]
    }
   ],
   "source": [
    "#from 2D Numpy\n",
    "data_numpy=np.array([[1,5,6],[2,6,10],[3,7,11]])\n",
    "df_from_numpy=pd.DataFrame(data_numpy,columns=['A','B','C'],index=['r1','r2','r3'])\n",
    "print(df_from_numpy)"
   ]
  },
  {
   "cell_type": "code",
   "execution_count": 67,
   "id": "b0a48942-819d-43df-92e0-aec982a5e7b4",
   "metadata": {},
   "outputs": [
    {
     "name": "stdout",
     "output_type": "stream",
     "text": [
      "    A  B   C\n",
      "r1  1  5   6\n",
      "r2  2  6  10\n",
      "r3  3  7  11\n"
     ]
    }
   ],
   "source": [
    "#from dictionary\n",
    "data_dict={\n",
    "    'A':[1,2,3],\n",
    "    'B':[5,6,7],\n",
    "    'C':[6,10,11]\n",
    "}\n",
    "df=pd.DataFrame(data_dict,index=['r1','r2','r3'])\n",
    "print(df)"
   ]
  },
  {
   "cell_type": "code",
   "execution_count": 68,
   "id": "73799b6f-0731-47c3-84de-d5dab9bca278",
   "metadata": {},
   "outputs": [
    {
     "name": "stdout",
     "output_type": "stream",
     "text": [
      "    Name  Age     Sex\n",
      "0  Ahmad   30    male\n",
      "1    Ali   25    male\n",
      "2    Ain   23  female\n"
     ]
    }
   ],
   "source": [
    "df2=pd.DataFrame(\n",
    "    {\n",
    "        \"Name\":[\"Ahmad\",\"Ali\",\"Ain\"],\n",
    "        \"Age\":[30,25,23], \n",
    "         \"Sex\":[\"male\",\"male\",\"female\"]\n",
    "    }\n",
    ")\n",
    "print(df2)"
   ]
  },
  {
   "cell_type": "code",
   "execution_count": 71,
   "id": "372322af-4be3-4c97-a7e1-7370f773e0bc",
   "metadata": {},
   "outputs": [
    {
     "data": {
      "text/html": [
       "<div>\n",
       "<style scoped>\n",
       "    .dataframe tbody tr th:only-of-type {\n",
       "        vertical-align: middle;\n",
       "    }\n",
       "\n",
       "    .dataframe tbody tr th {\n",
       "        vertical-align: top;\n",
       "    }\n",
       "\n",
       "    .dataframe thead th {\n",
       "        text-align: right;\n",
       "    }\n",
       "</style>\n",
       "<table border=\"1\" class=\"dataframe\">\n",
       "  <thead>\n",
       "    <tr style=\"text-align: right;\">\n",
       "      <th></th>\n",
       "      <th>Name</th>\n",
       "      <th>Sex</th>\n",
       "    </tr>\n",
       "  </thead>\n",
       "  <tbody>\n",
       "    <tr>\n",
       "      <th>0</th>\n",
       "      <td>Ahmad</td>\n",
       "      <td>male</td>\n",
       "    </tr>\n",
       "    <tr>\n",
       "      <th>1</th>\n",
       "      <td>Ali</td>\n",
       "      <td>male</td>\n",
       "    </tr>\n",
       "    <tr>\n",
       "      <th>2</th>\n",
       "      <td>Ain</td>\n",
       "      <td>female</td>\n",
       "    </tr>\n",
       "  </tbody>\n",
       "</table>\n",
       "</div>"
      ],
      "text/plain": [
       "    Name     Sex\n",
       "0  Ahmad    male\n",
       "1    Ali    male\n",
       "2    Ain  female"
      ]
     },
     "execution_count": 71,
     "metadata": {},
     "output_type": "execute_result"
    }
   ],
   "source": [
    "df2.drop(\"Age\",axis=1)"
   ]
  },
  {
   "cell_type": "code",
   "execution_count": 72,
   "id": "3b43b267-3e60-463f-9233-bdc08eb455f5",
   "metadata": {},
   "outputs": [
    {
     "data": {
      "text/html": [
       "<div>\n",
       "<style scoped>\n",
       "    .dataframe tbody tr th:only-of-type {\n",
       "        vertical-align: middle;\n",
       "    }\n",
       "\n",
       "    .dataframe tbody tr th {\n",
       "        vertical-align: top;\n",
       "    }\n",
       "\n",
       "    .dataframe thead th {\n",
       "        text-align: right;\n",
       "    }\n",
       "</style>\n",
       "<table border=\"1\" class=\"dataframe\">\n",
       "  <thead>\n",
       "    <tr style=\"text-align: right;\">\n",
       "      <th></th>\n",
       "      <th>Name</th>\n",
       "      <th>Age</th>\n",
       "      <th>Sex</th>\n",
       "    </tr>\n",
       "  </thead>\n",
       "  <tbody>\n",
       "    <tr>\n",
       "      <th>1</th>\n",
       "      <td>Ali</td>\n",
       "      <td>25</td>\n",
       "      <td>male</td>\n",
       "    </tr>\n",
       "    <tr>\n",
       "      <th>2</th>\n",
       "      <td>Ain</td>\n",
       "      <td>23</td>\n",
       "      <td>female</td>\n",
       "    </tr>\n",
       "  </tbody>\n",
       "</table>\n",
       "</div>"
      ],
      "text/plain": [
       "  Name  Age     Sex\n",
       "1  Ali   25    male\n",
       "2  Ain   23  female"
      ]
     },
     "execution_count": 72,
     "metadata": {},
     "output_type": "execute_result"
    }
   ],
   "source": [
    "df2.drop(0)"
   ]
  },
  {
   "cell_type": "code",
   "execution_count": 73,
   "id": "093a7b87-94bb-4ca6-9776-0989047c943c",
   "metadata": {},
   "outputs": [
    {
     "data": {
      "text/html": [
       "<div>\n",
       "<style scoped>\n",
       "    .dataframe tbody tr th:only-of-type {\n",
       "        vertical-align: middle;\n",
       "    }\n",
       "\n",
       "    .dataframe tbody tr th {\n",
       "        vertical-align: top;\n",
       "    }\n",
       "\n",
       "    .dataframe thead th {\n",
       "        text-align: right;\n",
       "    }\n",
       "</style>\n",
       "<table border=\"1\" class=\"dataframe\">\n",
       "  <thead>\n",
       "    <tr style=\"text-align: right;\">\n",
       "      <th></th>\n",
       "      <th>Name</th>\n",
       "      <th>Age</th>\n",
       "      <th>Sex</th>\n",
       "    </tr>\n",
       "  </thead>\n",
       "  <tbody>\n",
       "    <tr>\n",
       "      <th>1</th>\n",
       "      <td>Ali</td>\n",
       "      <td>25</td>\n",
       "      <td>male</td>\n",
       "    </tr>\n",
       "  </tbody>\n",
       "</table>\n",
       "</div>"
      ],
      "text/plain": [
       "  Name  Age   Sex\n",
       "1  Ali   25  male"
      ]
     },
     "execution_count": 73,
     "metadata": {},
     "output_type": "execute_result"
    }
   ],
   "source": [
    "df2.drop([0,2])"
   ]
  },
  {
   "cell_type": "code",
   "execution_count": 74,
   "id": "3e119e8a-bb67-4b5a-a4e5-e37be34645a0",
   "metadata": {},
   "outputs": [
    {
     "data": {
      "text/html": [
       "<div>\n",
       "<style scoped>\n",
       "    .dataframe tbody tr th:only-of-type {\n",
       "        vertical-align: middle;\n",
       "    }\n",
       "\n",
       "    .dataframe tbody tr th {\n",
       "        vertical-align: top;\n",
       "    }\n",
       "\n",
       "    .dataframe thead th {\n",
       "        text-align: right;\n",
       "    }\n",
       "</style>\n",
       "<table border=\"1\" class=\"dataframe\">\n",
       "  <thead>\n",
       "    <tr style=\"text-align: right;\">\n",
       "      <th></th>\n",
       "      <th>Sex</th>\n",
       "    </tr>\n",
       "  </thead>\n",
       "  <tbody>\n",
       "    <tr>\n",
       "      <th>0</th>\n",
       "      <td>male</td>\n",
       "    </tr>\n",
       "    <tr>\n",
       "      <th>1</th>\n",
       "      <td>male</td>\n",
       "    </tr>\n",
       "    <tr>\n",
       "      <th>2</th>\n",
       "      <td>female</td>\n",
       "    </tr>\n",
       "  </tbody>\n",
       "</table>\n",
       "</div>"
      ],
      "text/plain": [
       "      Sex\n",
       "0    male\n",
       "1    male\n",
       "2  female"
      ]
     },
     "execution_count": 74,
     "metadata": {},
     "output_type": "execute_result"
    }
   ],
   "source": [
    "df2.drop(['Name','Age'],axis=1)"
   ]
  },
  {
   "cell_type": "code",
   "execution_count": 75,
   "id": "ee590713-4a9b-4c42-9c2b-88ca2a2560a6",
   "metadata": {},
   "outputs": [
    {
     "name": "stdout",
     "output_type": "stream",
     "text": [
      "<class 'pandas.core.frame.DataFrame'>\n",
      "RangeIndex: 3 entries, 0 to 2\n",
      "Data columns (total 3 columns):\n",
      " #   Column  Non-Null Count  Dtype \n",
      "---  ------  --------------  ----- \n",
      " 0   Name    3 non-null      object\n",
      " 1   Age     3 non-null      int64 \n",
      " 2   Sex     3 non-null      object\n",
      "dtypes: int64(1), object(2)\n",
      "memory usage: 204.0+ bytes\n"
     ]
    }
   ],
   "source": [
    "df2.info()"
   ]
  },
  {
   "cell_type": "code",
   "execution_count": 76,
   "id": "56c9c7af-c905-4aeb-a002-df5f44108cc6",
   "metadata": {},
   "outputs": [
    {
     "data": {
      "text/plain": [
       "20"
      ]
     },
     "execution_count": 76,
     "metadata": {},
     "output_type": "execute_result"
    }
   ],
   "source": [
    "s_dict['b']"
   ]
  },
  {
   "cell_type": "code",
   "execution_count": 77,
   "id": "e05fba51-7031-4498-aff8-35e9e4b6ac5e",
   "metadata": {},
   "outputs": [
    {
     "name": "stderr",
     "output_type": "stream",
     "text": [
      "C:\\Users\\Dell\\AppData\\Local\\Temp\\ipykernel_14496\\2883873927.py:1: FutureWarning: Series.__getitem__ treating keys as positions is deprecated. In a future version, integer keys will always be treated as labels (consistent with DataFrame behavior). To access a value by position, use `ser.iloc[pos]`\n",
      "  s_dict[1]\n"
     ]
    },
    {
     "data": {
      "text/plain": [
       "20"
      ]
     },
     "execution_count": 77,
     "metadata": {},
     "output_type": "execute_result"
    }
   ],
   "source": [
    "s_dict[1]"
   ]
  },
  {
   "cell_type": "code",
   "execution_count": 78,
   "id": "8fa6324a-1f51-43b2-91da-1726d6bcf979",
   "metadata": {},
   "outputs": [
    {
     "data": {
      "text/plain": [
       "20"
      ]
     },
     "execution_count": 78,
     "metadata": {},
     "output_type": "execute_result"
    }
   ],
   "source": [
    "s_dict.iloc[1]"
   ]
  },
  {
   "cell_type": "code",
   "execution_count": 79,
   "id": "bfdaffca-7279-47c5-824a-6d88766647f4",
   "metadata": {},
   "outputs": [
    {
     "name": "stderr",
     "output_type": "stream",
     "text": [
      "C:\\Users\\Dell\\AppData\\Local\\Temp\\ipykernel_14496\\1216125954.py:1: FutureWarning: Series.__getitem__ treating keys as positions is deprecated. In a future version, integer keys will always be treated as labels (consistent with DataFrame behavior). To access a value by position, use `ser.iloc[pos]`\n",
      "  s_dict[[1,2,3]]\n"
     ]
    },
    {
     "data": {
      "text/plain": [
       "b    20\n",
       "c    30\n",
       "d    40\n",
       "dtype: int64"
      ]
     },
     "execution_count": 79,
     "metadata": {},
     "output_type": "execute_result"
    }
   ],
   "source": [
    "s_dict[[1,2,3]]"
   ]
  },
  {
   "cell_type": "code",
   "execution_count": 82,
   "id": "461ce526-d375-4d1d-aabd-fc00b471c5ed",
   "metadata": {},
   "outputs": [
    {
     "data": {
      "text/plain": [
       "c    30\n",
       "d    40\n",
       "e    50\n",
       "dtype: int64"
      ]
     },
     "execution_count": 82,
     "metadata": {},
     "output_type": "execute_result"
    }
   ],
   "source": [
    "s_dict[s_dict>20]"
   ]
  },
  {
   "cell_type": "code",
   "execution_count": 93,
   "id": "7801e398-ab9d-4e94-9fb8-9fb87627f477",
   "metadata": {},
   "outputs": [
    {
     "name": "stdout",
     "output_type": "stream",
     "text": [
      "    A  B   C\n",
      "r1  1  5   6\n",
      "r2  2  6  10\n",
      "r3  3  7  11\n"
     ]
    }
   ],
   "source": [
    "#from dictionary\n",
    "data_dict={\n",
    "    'A':[1,2,3],\n",
    "    'B':[5,6,7],\n",
    "    'C':[6,10,11]\n",
    "}\n",
    "df=pd.DataFrame(data_dict,index=['r1','r2','r3'])\n",
    "print(df)"
   ]
  },
  {
   "cell_type": "code",
   "execution_count": 84,
   "id": "fb3f75c9-8107-4207-93e9-6a9dfa114ffc",
   "metadata": {},
   "outputs": [
    {
     "data": {
      "text/html": [
       "<div>\n",
       "<style scoped>\n",
       "    .dataframe tbody tr th:only-of-type {\n",
       "        vertical-align: middle;\n",
       "    }\n",
       "\n",
       "    .dataframe tbody tr th {\n",
       "        vertical-align: top;\n",
       "    }\n",
       "\n",
       "    .dataframe thead th {\n",
       "        text-align: right;\n",
       "    }\n",
       "</style>\n",
       "<table border=\"1\" class=\"dataframe\">\n",
       "  <thead>\n",
       "    <tr style=\"text-align: right;\">\n",
       "      <th></th>\n",
       "      <th>A</th>\n",
       "      <th>B</th>\n",
       "    </tr>\n",
       "  </thead>\n",
       "  <tbody>\n",
       "    <tr>\n",
       "      <th>r1</th>\n",
       "      <td>1</td>\n",
       "      <td>5</td>\n",
       "    </tr>\n",
       "    <tr>\n",
       "      <th>r2</th>\n",
       "      <td>2</td>\n",
       "      <td>6</td>\n",
       "    </tr>\n",
       "    <tr>\n",
       "      <th>r3</th>\n",
       "      <td>3</td>\n",
       "      <td>7</td>\n",
       "    </tr>\n",
       "  </tbody>\n",
       "</table>\n",
       "</div>"
      ],
      "text/plain": [
       "    A  B\n",
       "r1  1  5\n",
       "r2  2  6\n",
       "r3  3  7"
      ]
     },
     "execution_count": 84,
     "metadata": {},
     "output_type": "execute_result"
    }
   ],
   "source": [
    "df[['A','B']]"
   ]
  },
  {
   "cell_type": "code",
   "execution_count": 85,
   "id": "d4344361-a4d4-47ac-b270-e88520580409",
   "metadata": {},
   "outputs": [
    {
     "data": {
      "text/plain": [
       "A    1\n",
       "B    5\n",
       "C    6\n",
       "Name: r1, dtype: int64"
      ]
     },
     "execution_count": 85,
     "metadata": {},
     "output_type": "execute_result"
    }
   ],
   "source": [
    "df.loc['r1']"
   ]
  },
  {
   "cell_type": "code",
   "execution_count": 89,
   "id": "fc1949dd-ffc3-42c2-9942-09ab2580b1b5",
   "metadata": {},
   "outputs": [
    {
     "data": {
      "text/plain": [
       "C    11\n",
       "Name: r3, dtype: int64"
      ]
     },
     "execution_count": 89,
     "metadata": {},
     "output_type": "execute_result"
    }
   ],
   "source": [
    "df.iloc[-1,-1:]"
   ]
  },
  {
   "cell_type": "code",
   "execution_count": 92,
   "id": "8934fd5d-f122-42ed-bf06-b3c5ee3195fa",
   "metadata": {},
   "outputs": [
    {
     "data": {
      "text/plain": [
       "Series([], Name: r3, dtype: int64)"
      ]
     },
     "execution_count": 92,
     "metadata": {},
     "output_type": "execute_result"
    }
   ],
   "source": [
    "df.iloc[-1,-1:2]"
   ]
  },
  {
   "cell_type": "code",
   "execution_count": 94,
   "id": "8665b5ab-f2ee-4b1a-81a8-6a14074f8b3e",
   "metadata": {},
   "outputs": [
    {
     "data": {
      "text/plain": [
       "C    11\n",
       "Name: r3, dtype: int64"
      ]
     },
     "execution_count": 94,
     "metadata": {},
     "output_type": "execute_result"
    }
   ],
   "source": [
    "df.iloc[-1,-1:]"
   ]
  },
  {
   "cell_type": "code",
   "execution_count": 95,
   "id": "411a22bf-a03c-474e-8c65-58b356cc2fce",
   "metadata": {},
   "outputs": [
    {
     "name": "stdout",
     "output_type": "stream",
     "text": [
      "0    11\n",
      "1    22\n",
      "2    33\n",
      "3    44\n",
      "dtype: int64\n"
     ]
    }
   ],
   "source": [
    "s1=pd.Series([1,2,3,4])\n",
    "s2=pd.Series([10,20,30,40])\n",
    "\n",
    "add_r=s1+s2\n",
    "print(add_r)"
   ]
  },
  {
   "cell_type": "code",
   "execution_count": 96,
   "id": "d46c0205-479c-4097-9b41-020d430e08a4",
   "metadata": {},
   "outputs": [
    {
     "name": "stdout",
     "output_type": "stream",
     "text": [
      "    A   B\n",
      "0  11  33\n",
      "1  22  44\n"
     ]
    }
   ],
   "source": [
    "df1=pd.DataFrame({'A':[1,2],'B':[3,4]})\n",
    "df2=pd.DataFrame({'A':[10,20],'B':[30,40]})\n",
    "add_r=df1+df2\n",
    "print(add_r)"
   ]
  },
  {
   "cell_type": "code",
   "execution_count": 97,
   "id": "f8cc4e07-998b-4e26-8fbc-f35493cf7824",
   "metadata": {},
   "outputs": [
    {
     "name": "stdout",
     "output_type": "stream",
     "text": [
      "       A     B\n",
      "r1   NaN   NaN\n",
      "r2  12.0  34.0\n",
      "r3   NaN   NaN\n"
     ]
    }
   ],
   "source": [
    "df1=pd.DataFrame({'A':[1,2],'B':[3,4]},index=['r1','r2'])\n",
    "df2=pd.DataFrame({'A':[10,20],'B':[30,40]},index=['r2','r3'])\n",
    "add_r=df1+df2\n",
    "print(add_r)"
   ]
  },
  {
   "cell_type": "code",
   "execution_count": 100,
   "id": "1d5dd2c8-f5f6-45eb-8e3c-6ba3d7256c76",
   "metadata": {},
   "outputs": [
    {
     "name": "stdout",
     "output_type": "stream",
     "text": [
      "     A   B   C   0   1\n",
      "r1 NaN NaN NaN NaN NaN\n",
      "r2 NaN NaN NaN NaN NaN\n",
      "r3 NaN NaN NaN NaN NaN\n"
     ]
    }
   ],
   "source": [
    "df1=pd.DataFrame({'A':[1,2]})\n",
    "s=pd.Series([1,2])\n",
    "\n",
    "mult_r=s*df\n",
    "print(mult_r)"
   ]
  },
  {
   "cell_type": "code",
   "execution_count": 101,
   "id": "3c5e32c2-6427-496b-b7da-bb9d8cd26081",
   "metadata": {},
   "outputs": [
    {
     "data": {
      "text/html": [
       "<div>\n",
       "<style scoped>\n",
       "    .dataframe tbody tr th:only-of-type {\n",
       "        vertical-align: middle;\n",
       "    }\n",
       "\n",
       "    .dataframe tbody tr th {\n",
       "        vertical-align: top;\n",
       "    }\n",
       "\n",
       "    .dataframe thead th {\n",
       "        text-align: right;\n",
       "    }\n",
       "</style>\n",
       "<table border=\"1\" class=\"dataframe\">\n",
       "  <thead>\n",
       "    <tr style=\"text-align: right;\">\n",
       "      <th></th>\n",
       "      <th>A</th>\n",
       "      <th>B</th>\n",
       "      <th>C</th>\n",
       "    </tr>\n",
       "  </thead>\n",
       "  <tbody>\n",
       "    <tr>\n",
       "      <th>r1</th>\n",
       "      <td>1</td>\n",
       "      <td>5</td>\n",
       "      <td>6</td>\n",
       "    </tr>\n",
       "    <tr>\n",
       "      <th>r2</th>\n",
       "      <td>2</td>\n",
       "      <td>6</td>\n",
       "      <td>10</td>\n",
       "    </tr>\n",
       "    <tr>\n",
       "      <th>r3</th>\n",
       "      <td>3</td>\n",
       "      <td>7</td>\n",
       "      <td>11</td>\n",
       "    </tr>\n",
       "  </tbody>\n",
       "</table>\n",
       "</div>"
      ],
      "text/plain": [
       "    A  B   C\n",
       "r1  1  5   6\n",
       "r2  2  6  10\n",
       "r3  3  7  11"
      ]
     },
     "execution_count": 101,
     "metadata": {},
     "output_type": "execute_result"
    }
   ],
   "source": [
    "df"
   ]
  },
  {
   "cell_type": "code",
   "execution_count": 102,
   "id": "5dce41c8-9930-4696-a1bd-de289f247220",
   "metadata": {},
   "outputs": [
    {
     "name": "stdout",
     "output_type": "stream",
     "text": [
      "     A   B   C\n",
      "r1   4  20  24\n",
      "r2   8  24  40\n",
      "r3  12  28  44\n"
     ]
    }
   ],
   "source": [
    "df1=pd.DataFrame({'A':[1,2]})\n",
    "s=pd.Series([1,2])\n",
    "\n",
    "mult_r=4*df\n",
    "print(mult_r)"
   ]
  },
  {
   "cell_type": "code",
   "execution_count": 103,
   "id": "f4280a09-6c6f-4cb6-8849-4cdec6b2522e",
   "metadata": {},
   "outputs": [
    {
     "name": "stdout",
     "output_type": "stream",
     "text": [
      "   A  B\n",
      "0  7  4\n",
      "1  8  5\n",
      "2  9  6\n"
     ]
    }
   ],
   "source": [
    "#create dataframe with diplicate columns\n",
    "data={'A':[1,2,3],'B':[4,5,6],'A':[7,8,9]}\n",
    "df=pd.DataFrame(data)\n",
    "print(df)"
   ]
  },
  {
   "cell_type": "code",
   "execution_count": 121,
   "id": "82fefdaa-2a8b-45e0-bcf9-675648897aac",
   "metadata": {},
   "outputs": [
    {
     "name": "stdout",
     "output_type": "stream",
     "text": [
      "    A  B   A\n",
      "r1  1  5   9\n",
      "r1  2  6  10\n",
      "r2  3  7  11\n",
      "r3  4  8  12\n",
      "    A  B   A\n",
      "r1  1  5   9\n",
      "r1  2  6  10\n",
      "r2  3  7  11\n",
      "r3  4  8  12\n"
     ]
    }
   ],
   "source": [
    "#create from Numpy\n",
    "data_array=np.array([[1,5,9],[2,6,10],[3,7,11],[4,8,12]])\n",
    "df=pd.DataFrame(data_array,columns=['A','B','A'],index=['r1','r1','r2','r3'])\n",
    "print(df)\n",
    "#print(df['A'])\n",
    "#print(df.loc['r1']*2)\n",
    "\n",
    "#df['A_sum']=df['A']+df['B']\n",
    "print(df)"
   ]
  },
  {
   "cell_type": "code",
   "execution_count": 122,
   "id": "a0b84523-0396-4aca-8069-bbb8344415ce",
   "metadata": {},
   "outputs": [
    {
     "data": {
      "text/plain": [
       "array([False,  True, False, False])"
      ]
     },
     "execution_count": 122,
     "metadata": {},
     "output_type": "execute_result"
    }
   ],
   "source": [
    "df.index.duplicated()"
   ]
  },
  {
   "cell_type": "code",
   "execution_count": 123,
   "id": "5af77dac-a352-456b-b1f0-6227f510cb02",
   "metadata": {},
   "outputs": [
    {
     "data": {
      "text/plain": [
       "array([False, False,  True])"
      ]
     },
     "execution_count": 123,
     "metadata": {},
     "output_type": "execute_result"
    }
   ],
   "source": [
    "df.columns.duplicated()"
   ]
  },
  {
   "cell_type": "code",
   "execution_count": 124,
   "id": "08f38726-bd40-443d-81f1-6ccae5c6da03",
   "metadata": {},
   "outputs": [
    {
     "data": {
      "text/html": [
       "<div>\n",
       "<style scoped>\n",
       "    .dataframe tbody tr th:only-of-type {\n",
       "        vertical-align: middle;\n",
       "    }\n",
       "\n",
       "    .dataframe tbody tr th {\n",
       "        vertical-align: top;\n",
       "    }\n",
       "\n",
       "    .dataframe thead th {\n",
       "        text-align: right;\n",
       "    }\n",
       "</style>\n",
       "<table border=\"1\" class=\"dataframe\">\n",
       "  <thead>\n",
       "    <tr style=\"text-align: right;\">\n",
       "      <th></th>\n",
       "      <th>A</th>\n",
       "      <th>B</th>\n",
       "      <th>A</th>\n",
       "    </tr>\n",
       "  </thead>\n",
       "  <tbody>\n",
       "    <tr>\n",
       "      <th>r1</th>\n",
       "      <td>1</td>\n",
       "      <td>5</td>\n",
       "      <td>9</td>\n",
       "    </tr>\n",
       "    <tr>\n",
       "      <th>r2</th>\n",
       "      <td>3</td>\n",
       "      <td>7</td>\n",
       "      <td>11</td>\n",
       "    </tr>\n",
       "    <tr>\n",
       "      <th>r3</th>\n",
       "      <td>4</td>\n",
       "      <td>8</td>\n",
       "      <td>12</td>\n",
       "    </tr>\n",
       "  </tbody>\n",
       "</table>\n",
       "</div>"
      ],
      "text/plain": [
       "    A  B   A\n",
       "r1  1  5   9\n",
       "r2  3  7  11\n",
       "r3  4  8  12"
      ]
     },
     "execution_count": 124,
     "metadata": {},
     "output_type": "execute_result"
    }
   ],
   "source": [
    "df[~df.index.duplicated()]"
   ]
  },
  {
   "cell_type": "code",
   "execution_count": 128,
   "id": "05d645d7-6aa7-4c15-8d89-18f14d8d0320",
   "metadata": {},
   "outputs": [
    {
     "data": {
      "text/html": [
       "<div>\n",
       "<style scoped>\n",
       "    .dataframe tbody tr th:only-of-type {\n",
       "        vertical-align: middle;\n",
       "    }\n",
       "\n",
       "    .dataframe tbody tr th {\n",
       "        vertical-align: top;\n",
       "    }\n",
       "\n",
       "    .dataframe thead th {\n",
       "        text-align: right;\n",
       "    }\n",
       "</style>\n",
       "<table border=\"1\" class=\"dataframe\">\n",
       "  <thead>\n",
       "    <tr style=\"text-align: right;\">\n",
       "      <th></th>\n",
       "      <th>A</th>\n",
       "      <th>B</th>\n",
       "    </tr>\n",
       "  </thead>\n",
       "  <tbody>\n",
       "    <tr>\n",
       "      <th>r1</th>\n",
       "      <td>1</td>\n",
       "      <td>5</td>\n",
       "    </tr>\n",
       "    <tr>\n",
       "      <th>r1</th>\n",
       "      <td>2</td>\n",
       "      <td>6</td>\n",
       "    </tr>\n",
       "    <tr>\n",
       "      <th>r2</th>\n",
       "      <td>3</td>\n",
       "      <td>7</td>\n",
       "    </tr>\n",
       "    <tr>\n",
       "      <th>r3</th>\n",
       "      <td>4</td>\n",
       "      <td>8</td>\n",
       "    </tr>\n",
       "  </tbody>\n",
       "</table>\n",
       "</div>"
      ],
      "text/plain": [
       "    A  B\n",
       "r1  1  5\n",
       "r1  2  6\n",
       "r2  3  7\n",
       "r3  4  8"
      ]
     },
     "execution_count": 128,
     "metadata": {},
     "output_type": "execute_result"
    }
   ],
   "source": [
    "df.T[~df.T.index.duplicated()].T"
   ]
  },
  {
   "cell_type": "code",
   "execution_count": 129,
   "id": "995c4ccc-1b28-4bff-994a-de265d68a16b",
   "metadata": {},
   "outputs": [
    {
     "data": {
      "text/html": [
       "<div>\n",
       "<style scoped>\n",
       "    .dataframe tbody tr th:only-of-type {\n",
       "        vertical-align: middle;\n",
       "    }\n",
       "\n",
       "    .dataframe tbody tr th {\n",
       "        vertical-align: top;\n",
       "    }\n",
       "\n",
       "    .dataframe thead th {\n",
       "        text-align: right;\n",
       "    }\n",
       "</style>\n",
       "<table border=\"1\" class=\"dataframe\">\n",
       "  <thead>\n",
       "    <tr style=\"text-align: right;\">\n",
       "      <th></th>\n",
       "      <th>r1</th>\n",
       "      <th>r1</th>\n",
       "      <th>r2</th>\n",
       "      <th>r3</th>\n",
       "    </tr>\n",
       "  </thead>\n",
       "  <tbody>\n",
       "    <tr>\n",
       "      <th>A</th>\n",
       "      <td>1</td>\n",
       "      <td>2</td>\n",
       "      <td>3</td>\n",
       "      <td>4</td>\n",
       "    </tr>\n",
       "    <tr>\n",
       "      <th>B</th>\n",
       "      <td>5</td>\n",
       "      <td>6</td>\n",
       "      <td>7</td>\n",
       "      <td>8</td>\n",
       "    </tr>\n",
       "    <tr>\n",
       "      <th>A</th>\n",
       "      <td>9</td>\n",
       "      <td>10</td>\n",
       "      <td>11</td>\n",
       "      <td>12</td>\n",
       "    </tr>\n",
       "  </tbody>\n",
       "</table>\n",
       "</div>"
      ],
      "text/plain": [
       "   r1  r1  r2  r3\n",
       "A   1   2   3   4\n",
       "B   5   6   7   8\n",
       "A   9  10  11  12"
      ]
     },
     "execution_count": 129,
     "metadata": {},
     "output_type": "execute_result"
    }
   ],
   "source": [
    "df.T"
   ]
  },
  {
   "cell_type": "code",
   "execution_count": 130,
   "id": "a48ea2a5-cd52-4b39-a4d7-33ff72525633",
   "metadata": {},
   "outputs": [
    {
     "data": {
      "text/html": [
       "<div>\n",
       "<style scoped>\n",
       "    .dataframe tbody tr th:only-of-type {\n",
       "        vertical-align: middle;\n",
       "    }\n",
       "\n",
       "    .dataframe tbody tr th {\n",
       "        vertical-align: top;\n",
       "    }\n",
       "\n",
       "    .dataframe thead th {\n",
       "        text-align: right;\n",
       "    }\n",
       "</style>\n",
       "<table border=\"1\" class=\"dataframe\">\n",
       "  <thead>\n",
       "    <tr style=\"text-align: right;\">\n",
       "      <th></th>\n",
       "      <th>A</th>\n",
       "      <th>B</th>\n",
       "      <th>A</th>\n",
       "    </tr>\n",
       "  </thead>\n",
       "  <tbody>\n",
       "    <tr>\n",
       "      <th>r1</th>\n",
       "      <td>1</td>\n",
       "      <td>5</td>\n",
       "      <td>9</td>\n",
       "    </tr>\n",
       "    <tr>\n",
       "      <th>r1</th>\n",
       "      <td>2</td>\n",
       "      <td>6</td>\n",
       "      <td>10</td>\n",
       "    </tr>\n",
       "    <tr>\n",
       "      <th>r2</th>\n",
       "      <td>3</td>\n",
       "      <td>7</td>\n",
       "      <td>11</td>\n",
       "    </tr>\n",
       "    <tr>\n",
       "      <th>r3</th>\n",
       "      <td>4</td>\n",
       "      <td>8</td>\n",
       "      <td>12</td>\n",
       "    </tr>\n",
       "  </tbody>\n",
       "</table>\n",
       "</div>"
      ],
      "text/plain": [
       "    A  B   A\n",
       "r1  1  5   9\n",
       "r1  2  6  10\n",
       "r2  3  7  11\n",
       "r3  4  8  12"
      ]
     },
     "execution_count": 130,
     "metadata": {},
     "output_type": "execute_result"
    }
   ],
   "source": [
    "df.drop_duplicates()"
   ]
  },
  {
   "cell_type": "code",
   "execution_count": 131,
   "id": "44772a92-d87e-419d-87c2-f8b44f9de431",
   "metadata": {},
   "outputs": [
    {
     "data": {
      "text/html": [
       "<div>\n",
       "<style scoped>\n",
       "    .dataframe tbody tr th:only-of-type {\n",
       "        vertical-align: middle;\n",
       "    }\n",
       "\n",
       "    .dataframe tbody tr th {\n",
       "        vertical-align: top;\n",
       "    }\n",
       "\n",
       "    .dataframe thead th {\n",
       "        text-align: right;\n",
       "    }\n",
       "</style>\n",
       "<table border=\"1\" class=\"dataframe\">\n",
       "  <thead>\n",
       "    <tr style=\"text-align: right;\">\n",
       "      <th></th>\n",
       "      <th>A</th>\n",
       "      <th>B</th>\n",
       "      <th>A</th>\n",
       "    </tr>\n",
       "  </thead>\n",
       "  <tbody>\n",
       "    <tr>\n",
       "      <th>count</th>\n",
       "      <td>4.000000</td>\n",
       "      <td>4.000000</td>\n",
       "      <td>4.000000</td>\n",
       "    </tr>\n",
       "    <tr>\n",
       "      <th>mean</th>\n",
       "      <td>2.500000</td>\n",
       "      <td>6.500000</td>\n",
       "      <td>10.500000</td>\n",
       "    </tr>\n",
       "    <tr>\n",
       "      <th>std</th>\n",
       "      <td>1.290994</td>\n",
       "      <td>1.290994</td>\n",
       "      <td>1.290994</td>\n",
       "    </tr>\n",
       "    <tr>\n",
       "      <th>min</th>\n",
       "      <td>1.000000</td>\n",
       "      <td>5.000000</td>\n",
       "      <td>9.000000</td>\n",
       "    </tr>\n",
       "    <tr>\n",
       "      <th>25%</th>\n",
       "      <td>1.750000</td>\n",
       "      <td>5.750000</td>\n",
       "      <td>9.750000</td>\n",
       "    </tr>\n",
       "    <tr>\n",
       "      <th>50%</th>\n",
       "      <td>2.500000</td>\n",
       "      <td>6.500000</td>\n",
       "      <td>10.500000</td>\n",
       "    </tr>\n",
       "    <tr>\n",
       "      <th>75%</th>\n",
       "      <td>3.250000</td>\n",
       "      <td>7.250000</td>\n",
       "      <td>11.250000</td>\n",
       "    </tr>\n",
       "    <tr>\n",
       "      <th>max</th>\n",
       "      <td>4.000000</td>\n",
       "      <td>8.000000</td>\n",
       "      <td>12.000000</td>\n",
       "    </tr>\n",
       "  </tbody>\n",
       "</table>\n",
       "</div>"
      ],
      "text/plain": [
       "              A         B          A\n",
       "count  4.000000  4.000000   4.000000\n",
       "mean   2.500000  6.500000  10.500000\n",
       "std    1.290994  1.290994   1.290994\n",
       "min    1.000000  5.000000   9.000000\n",
       "25%    1.750000  5.750000   9.750000\n",
       "50%    2.500000  6.500000  10.500000\n",
       "75%    3.250000  7.250000  11.250000\n",
       "max    4.000000  8.000000  12.000000"
      ]
     },
     "execution_count": 131,
     "metadata": {},
     "output_type": "execute_result"
    }
   ],
   "source": [
    "df.describe()"
   ]
  },
  {
   "cell_type": "code",
   "execution_count": 132,
   "id": "2239361b-a0cd-45e9-973d-9d35866500e6",
   "metadata": {},
   "outputs": [
    {
     "data": {
      "text/plain": [
       "A     2.5\n",
       "B     6.5\n",
       "A    10.5\n",
       "dtype: float64"
      ]
     },
     "execution_count": 132,
     "metadata": {},
     "output_type": "execute_result"
    }
   ],
   "source": [
    "df.mean()"
   ]
  },
  {
   "cell_type": "code",
   "execution_count": 133,
   "id": "e458c019-e65e-404e-9e9c-dd7f272868ae",
   "metadata": {},
   "outputs": [
    {
     "data": {
      "text/plain": [
       "A     2.5\n",
       "B     6.5\n",
       "A    10.5\n",
       "dtype: float64"
      ]
     },
     "execution_count": 133,
     "metadata": {},
     "output_type": "execute_result"
    }
   ],
   "source": [
    "df.median()"
   ]
  },
  {
   "cell_type": "code",
   "execution_count": 134,
   "id": "fe5a6774-4b35-4c90-bae1-5da5a9ba171c",
   "metadata": {},
   "outputs": [
    {
     "data": {
      "text/plain": [
       "A    4\n",
       "B    4\n",
       "A    4\n",
       "dtype: int64"
      ]
     },
     "execution_count": 134,
     "metadata": {},
     "output_type": "execute_result"
    }
   ],
   "source": [
    "df.count()"
   ]
  },
  {
   "cell_type": "code",
   "execution_count": 136,
   "id": "e8b50078-1eff-4950-9060-8784e59985a7",
   "metadata": {},
   "outputs": [
    {
     "data": {
      "text/plain": [
       "4"
      ]
     },
     "execution_count": 136,
     "metadata": {},
     "output_type": "execute_result"
    }
   ],
   "source": [
    "df['B'].nunique()"
   ]
  },
  {
   "cell_type": "code",
   "execution_count": 151,
   "id": "494f8031-77bc-4e7e-920d-d7bdf1048216",
   "metadata": {},
   "outputs": [
    {
     "data": {
      "text/plain": [
       "0    False\n",
       "1     True\n",
       "2    False\n",
       "3     True\n",
       "4    False\n",
       "dtype: bool"
      ]
     },
     "execution_count": 151,
     "metadata": {},
     "output_type": "execute_result"
    }
   ],
   "source": [
    "data=pd.Series([10,20,30,40,50])\n",
    "data.isin([20,40])"
   ]
  },
  {
   "cell_type": "code",
   "execution_count": 137,
   "id": "f532df8c-90e0-4e24-aec5-dd1c373b9901",
   "metadata": {},
   "outputs": [
    {
     "data": {
      "text/plain": [
       "r1     True\n",
       "r1    False\n",
       "r2    False\n",
       "r3    False\n",
       "Name: B, dtype: bool"
      ]
     },
     "execution_count": 137,
     "metadata": {},
     "output_type": "execute_result"
    }
   ],
   "source": [
    "data_array=np.array([[1,5,9],[2,6,10],[3,7,11],[4,8,12]])\n",
    "df=pd.DataFrame(data_array,columns=['A','B','A'],index=['r1','r1','r2','r3'])\n",
    "df['B'].isin([5])"
   ]
  },
  {
   "cell_type": "code",
   "execution_count": 141,
   "id": "d5282fe4-b303-4739-96ec-16b47151a6e0",
   "metadata": {},
   "outputs": [
    {
     "data": {
      "text/plain": [
       "150"
      ]
     },
     "execution_count": 141,
     "metadata": {},
     "output_type": "execute_result"
    }
   ],
   "source": [
    "#aplly ufunction to dataframe\n",
    "data=pd.Series([10,20,30,40,50])\n",
    "np.sum(data)"
   ]
  },
  {
   "cell_type": "code",
   "execution_count": 149,
   "id": "0b592ca7-848b-45fe-adb6-1b1d8a82a464",
   "metadata": {},
   "outputs": [
    {
     "name": "stdout",
     "output_type": "stream",
     "text": [
      "   A  B\n",
      "0  1  3\n",
      "1  2  4\n",
      "2  3  5\n"
     ]
    }
   ],
   "source": [
    "#apply ufunction to dataframe\n",
    "data={'A':[1,2,3],'B':[3,4,5]}\n",
    "df=pd.DataFrame(data)\n",
    "\n",
    "print(df)"
   ]
  },
  {
   "cell_type": "code",
   "execution_count": 150,
   "id": "0aeaa7af-6e66-4b31-a484-495b8c7ccdfd",
   "metadata": {},
   "outputs": [
    {
     "data": {
      "text/plain": [
       "0    4\n",
       "1    6\n",
       "2    8\n",
       "dtype: int64"
      ]
     },
     "execution_count": 150,
     "metadata": {},
     "output_type": "execute_result"
    }
   ],
   "source": [
    "df.apply(np.sum,axis=1)"
   ]
  },
  {
   "cell_type": "code",
   "execution_count": 152,
   "id": "d4c94fc2-08c2-4474-845e-8d8d323ba766",
   "metadata": {},
   "outputs": [
    {
     "data": {
      "text/html": [
       "<div>\n",
       "<style scoped>\n",
       "    .dataframe tbody tr th:only-of-type {\n",
       "        vertical-align: middle;\n",
       "    }\n",
       "\n",
       "    .dataframe tbody tr th {\n",
       "        vertical-align: top;\n",
       "    }\n",
       "\n",
       "    .dataframe thead th {\n",
       "        text-align: right;\n",
       "    }\n",
       "</style>\n",
       "<table border=\"1\" class=\"dataframe\">\n",
       "  <thead>\n",
       "    <tr style=\"text-align: right;\">\n",
       "      <th></th>\n",
       "      <th>A</th>\n",
       "      <th>B</th>\n",
       "    </tr>\n",
       "  </thead>\n",
       "  <tbody>\n",
       "    <tr>\n",
       "      <th>0</th>\n",
       "      <td>1</td>\n",
       "      <td>9</td>\n",
       "    </tr>\n",
       "    <tr>\n",
       "      <th>1</th>\n",
       "      <td>4</td>\n",
       "      <td>16</td>\n",
       "    </tr>\n",
       "    <tr>\n",
       "      <th>2</th>\n",
       "      <td>9</td>\n",
       "      <td>25</td>\n",
       "    </tr>\n",
       "  </tbody>\n",
       "</table>\n",
       "</div>"
      ],
      "text/plain": [
       "   A   B\n",
       "0  1   9\n",
       "1  4  16\n",
       "2  9  25"
      ]
     },
     "execution_count": 152,
     "metadata": {},
     "output_type": "execute_result"
    }
   ],
   "source": [
    "np.square(df)"
   ]
  },
  {
   "cell_type": "code",
   "execution_count": 153,
   "id": "322daa21-aa44-4605-a5ca-20403a55d275",
   "metadata": {},
   "outputs": [
    {
     "data": {
      "text/html": [
       "<div>\n",
       "<style scoped>\n",
       "    .dataframe tbody tr th:only-of-type {\n",
       "        vertical-align: middle;\n",
       "    }\n",
       "\n",
       "    .dataframe tbody tr th {\n",
       "        vertical-align: top;\n",
       "    }\n",
       "\n",
       "    .dataframe thead th {\n",
       "        text-align: right;\n",
       "    }\n",
       "</style>\n",
       "<table border=\"1\" class=\"dataframe\">\n",
       "  <thead>\n",
       "    <tr style=\"text-align: right;\">\n",
       "      <th></th>\n",
       "      <th>A</th>\n",
       "      <th>B</th>\n",
       "    </tr>\n",
       "  </thead>\n",
       "  <tbody>\n",
       "    <tr>\n",
       "      <th>0</th>\n",
       "      <td>3</td>\n",
       "      <td>5</td>\n",
       "    </tr>\n",
       "    <tr>\n",
       "      <th>1</th>\n",
       "      <td>4</td>\n",
       "      <td>6</td>\n",
       "    </tr>\n",
       "    <tr>\n",
       "      <th>2</th>\n",
       "      <td>5</td>\n",
       "      <td>7</td>\n",
       "    </tr>\n",
       "  </tbody>\n",
       "</table>\n",
       "</div>"
      ],
      "text/plain": [
       "   A  B\n",
       "0  3  5\n",
       "1  4  6\n",
       "2  5  7"
      ]
     },
     "execution_count": 153,
     "metadata": {},
     "output_type": "execute_result"
    }
   ],
   "source": [
    "df+2"
   ]
  },
  {
   "cell_type": "code",
   "execution_count": 156,
   "id": "ad72415d-0630-42db-a79a-093fc1214458",
   "metadata": {},
   "outputs": [
    {
     "data": {
      "text/html": [
       "<div>\n",
       "<style scoped>\n",
       "    .dataframe tbody tr th:only-of-type {\n",
       "        vertical-align: middle;\n",
       "    }\n",
       "\n",
       "    .dataframe tbody tr th {\n",
       "        vertical-align: top;\n",
       "    }\n",
       "\n",
       "    .dataframe thead th {\n",
       "        text-align: right;\n",
       "    }\n",
       "</style>\n",
       "<table border=\"1\" class=\"dataframe\">\n",
       "  <thead>\n",
       "    <tr style=\"text-align: right;\">\n",
       "      <th></th>\n",
       "      <th>A</th>\n",
       "      <th>B</th>\n",
       "    </tr>\n",
       "  </thead>\n",
       "  <tbody>\n",
       "    <tr>\n",
       "      <th>0</th>\n",
       "      <td>1</td>\n",
       "      <td>27</td>\n",
       "    </tr>\n",
       "    <tr>\n",
       "      <th>1</th>\n",
       "      <td>8</td>\n",
       "      <td>64</td>\n",
       "    </tr>\n",
       "    <tr>\n",
       "      <th>2</th>\n",
       "      <td>27</td>\n",
       "      <td>125</td>\n",
       "    </tr>\n",
       "  </tbody>\n",
       "</table>\n",
       "</div>"
      ],
      "text/plain": [
       "    A    B\n",
       "0   1   27\n",
       "1   8   64\n",
       "2  27  125"
      ]
     },
     "execution_count": 156,
     "metadata": {},
     "output_type": "execute_result"
    }
   ],
   "source": [
    "df.map(lambda x:x**3)"
   ]
  },
  {
   "cell_type": "code",
   "execution_count": 160,
   "id": "6a121575-5654-4ae1-b6a9-b21245de188e",
   "metadata": {},
   "outputs": [
    {
     "data": {
      "text/html": [
       "<div>\n",
       "<style scoped>\n",
       "    .dataframe tbody tr th:only-of-type {\n",
       "        vertical-align: middle;\n",
       "    }\n",
       "\n",
       "    .dataframe tbody tr th {\n",
       "        vertical-align: top;\n",
       "    }\n",
       "\n",
       "    .dataframe thead th {\n",
       "        text-align: right;\n",
       "    }\n",
       "</style>\n",
       "<table border=\"1\" class=\"dataframe\">\n",
       "  <thead>\n",
       "    <tr style=\"text-align: right;\">\n",
       "      <th></th>\n",
       "      <th>A</th>\n",
       "      <th>B</th>\n",
       "    </tr>\n",
       "  </thead>\n",
       "  <tbody>\n",
       "    <tr>\n",
       "      <th>0</th>\n",
       "      <td>1</td>\n",
       "      <td>27</td>\n",
       "    </tr>\n",
       "    <tr>\n",
       "      <th>1</th>\n",
       "      <td>8</td>\n",
       "      <td>64</td>\n",
       "    </tr>\n",
       "    <tr>\n",
       "      <th>2</th>\n",
       "      <td>27</td>\n",
       "      <td>125</td>\n",
       "    </tr>\n",
       "  </tbody>\n",
       "</table>\n",
       "</div>"
      ],
      "text/plain": [
       "    A    B\n",
       "0   1   27\n",
       "1   8   64\n",
       "2  27  125"
      ]
     },
     "execution_count": 160,
     "metadata": {},
     "output_type": "execute_result"
    }
   ],
   "source": [
    "def pow3(x):\n",
    "    return x**3\n",
    "\n",
    "df.map(pow3)"
   ]
  },
  {
   "cell_type": "markdown",
   "id": "d7fa9ea7-b8cc-43e2-a195-2c7aafb0d486",
   "metadata": {},
   "source": [
    "### Pivot Table "
   ]
  },
  {
   "cell_type": "code",
   "execution_count": 166,
   "id": "7a9dd00a-c11b-4e03-a3d9-a935d1384c55",
   "metadata": {},
   "outputs": [
    {
     "data": {
      "text/html": [
       "<div>\n",
       "<style scoped>\n",
       "    .dataframe tbody tr th:only-of-type {\n",
       "        vertical-align: middle;\n",
       "    }\n",
       "\n",
       "    .dataframe tbody tr th {\n",
       "        vertical-align: top;\n",
       "    }\n",
       "\n",
       "    .dataframe thead th {\n",
       "        text-align: right;\n",
       "    }\n",
       "</style>\n",
       "<table border=\"1\" class=\"dataframe\">\n",
       "  <thead>\n",
       "    <tr style=\"text-align: right;\">\n",
       "      <th></th>\n",
       "      <th>City</th>\n",
       "      <th>Product</th>\n",
       "      <th>Sales</th>\n",
       "    </tr>\n",
       "  </thead>\n",
       "  <tbody>\n",
       "    <tr>\n",
       "      <th>0</th>\n",
       "      <td>Bangi</td>\n",
       "      <td>a</td>\n",
       "      <td>2000</td>\n",
       "    </tr>\n",
       "    <tr>\n",
       "      <th>1</th>\n",
       "      <td>Klang</td>\n",
       "      <td>b</td>\n",
       "      <td>1500</td>\n",
       "    </tr>\n",
       "    <tr>\n",
       "      <th>2</th>\n",
       "      <td>Bangi</td>\n",
       "      <td>b</td>\n",
       "      <td>3000</td>\n",
       "    </tr>\n",
       "    <tr>\n",
       "      <th>3</th>\n",
       "      <td>Klang</td>\n",
       "      <td>a</td>\n",
       "      <td>3500</td>\n",
       "    </tr>\n",
       "    <tr>\n",
       "      <th>4</th>\n",
       "      <td>Bangi</td>\n",
       "      <td>a</td>\n",
       "      <td>1000</td>\n",
       "    </tr>\n",
       "  </tbody>\n",
       "</table>\n",
       "</div>"
      ],
      "text/plain": [
       "    City Product  Sales\n",
       "0  Bangi       a   2000\n",
       "1  Klang       b   1500\n",
       "2  Bangi       b   3000\n",
       "3  Klang       a   3500\n",
       "4  Bangi       a   1000"
      ]
     },
     "execution_count": 166,
     "metadata": {},
     "output_type": "execute_result"
    }
   ],
   "source": [
    "data={\n",
    "    'City':['Bangi','Klang','Bangi','Klang','Bangi'],\n",
    "    'Product':['a','b','b','a','a'],\n",
    "    'Sales':[2000,1500,3000,3500,1000]\n",
    "}\n",
    "df=pd.DataFrame(data)\n",
    "df"
   ]
  },
  {
   "cell_type": "code",
   "execution_count": 167,
   "id": "3c3ffa59-7e32-4185-822f-f52b396ed51a",
   "metadata": {},
   "outputs": [
    {
     "data": {
      "text/html": [
       "<div>\n",
       "<style scoped>\n",
       "    .dataframe tbody tr th:only-of-type {\n",
       "        vertical-align: middle;\n",
       "    }\n",
       "\n",
       "    .dataframe tbody tr th {\n",
       "        vertical-align: top;\n",
       "    }\n",
       "\n",
       "    .dataframe thead th {\n",
       "        text-align: right;\n",
       "    }\n",
       "</style>\n",
       "<table border=\"1\" class=\"dataframe\">\n",
       "  <thead>\n",
       "    <tr style=\"text-align: right;\">\n",
       "      <th>Product</th>\n",
       "      <th>a</th>\n",
       "      <th>b</th>\n",
       "    </tr>\n",
       "    <tr>\n",
       "      <th>City</th>\n",
       "      <th></th>\n",
       "      <th></th>\n",
       "    </tr>\n",
       "  </thead>\n",
       "  <tbody>\n",
       "    <tr>\n",
       "      <th>Bangi</th>\n",
       "      <td>3000</td>\n",
       "      <td>3000</td>\n",
       "    </tr>\n",
       "    <tr>\n",
       "      <th>Klang</th>\n",
       "      <td>3500</td>\n",
       "      <td>1500</td>\n",
       "    </tr>\n",
       "  </tbody>\n",
       "</table>\n",
       "</div>"
      ],
      "text/plain": [
       "Product     a     b\n",
       "City               \n",
       "Bangi    3000  3000\n",
       "Klang    3500  1500"
      ]
     },
     "execution_count": 167,
     "metadata": {},
     "output_type": "execute_result"
    }
   ],
   "source": [
    "#created pivot_table(df,values='Sales',index='City',Columns='Product','Sales')\n",
    "pd.pivot_table(df,values='Sales',index='City',columns='Product',aggfunc='sum')"
   ]
  },
  {
   "cell_type": "code",
   "execution_count": 168,
   "id": "72a19940-50dc-44b2-93a1-30b4bfb62d2c",
   "metadata": {},
   "outputs": [
    {
     "data": {
      "text/html": [
       "<div>\n",
       "<style scoped>\n",
       "    .dataframe tbody tr th:only-of-type {\n",
       "        vertical-align: middle;\n",
       "    }\n",
       "\n",
       "    .dataframe tbody tr th {\n",
       "        vertical-align: top;\n",
       "    }\n",
       "\n",
       "    .dataframe thead th {\n",
       "        text-align: right;\n",
       "    }\n",
       "</style>\n",
       "<table border=\"1\" class=\"dataframe\">\n",
       "  <thead>\n",
       "    <tr style=\"text-align: right;\">\n",
       "      <th>Product</th>\n",
       "      <th>a</th>\n",
       "      <th>b</th>\n",
       "    </tr>\n",
       "    <tr>\n",
       "      <th>City</th>\n",
       "      <th></th>\n",
       "      <th></th>\n",
       "    </tr>\n",
       "  </thead>\n",
       "  <tbody>\n",
       "    <tr>\n",
       "      <th>Bangi</th>\n",
       "      <td>1500.0</td>\n",
       "      <td>3000.0</td>\n",
       "    </tr>\n",
       "    <tr>\n",
       "      <th>Klang</th>\n",
       "      <td>3500.0</td>\n",
       "      <td>1500.0</td>\n",
       "    </tr>\n",
       "  </tbody>\n",
       "</table>\n",
       "</div>"
      ],
      "text/plain": [
       "Product       a       b\n",
       "City                   \n",
       "Bangi    1500.0  3000.0\n",
       "Klang    3500.0  1500.0"
      ]
     },
     "execution_count": 168,
     "metadata": {},
     "output_type": "execute_result"
    }
   ],
   "source": [
    "pd.pivot_table(df,values='Sales',index='City',columns='Product',aggfunc='mean')"
   ]
  },
  {
   "cell_type": "code",
   "execution_count": 169,
   "id": "14fcdce2-ba92-4440-aa93-553396f4c0f2",
   "metadata": {},
   "outputs": [
    {
     "data": {
      "text/html": [
       "<div>\n",
       "<style scoped>\n",
       "    .dataframe tbody tr th:only-of-type {\n",
       "        vertical-align: middle;\n",
       "    }\n",
       "\n",
       "    .dataframe tbody tr th {\n",
       "        vertical-align: top;\n",
       "    }\n",
       "\n",
       "    .dataframe thead th {\n",
       "        text-align: right;\n",
       "    }\n",
       "</style>\n",
       "<table border=\"1\" class=\"dataframe\">\n",
       "  <thead>\n",
       "    <tr style=\"text-align: right;\">\n",
       "      <th>Product</th>\n",
       "      <th>a</th>\n",
       "      <th>b</th>\n",
       "    </tr>\n",
       "    <tr>\n",
       "      <th>City</th>\n",
       "      <th></th>\n",
       "      <th></th>\n",
       "    </tr>\n",
       "  </thead>\n",
       "  <tbody>\n",
       "    <tr>\n",
       "      <th>Bangi</th>\n",
       "      <td>2</td>\n",
       "      <td>1</td>\n",
       "    </tr>\n",
       "    <tr>\n",
       "      <th>Klang</th>\n",
       "      <td>1</td>\n",
       "      <td>1</td>\n",
       "    </tr>\n",
       "  </tbody>\n",
       "</table>\n",
       "</div>"
      ],
      "text/plain": [
       "Product  a  b\n",
       "City         \n",
       "Bangi    2  1\n",
       "Klang    1  1"
      ]
     },
     "execution_count": 169,
     "metadata": {},
     "output_type": "execute_result"
    }
   ],
   "source": [
    "pd.crosstab(df['City'],df['Product'])"
   ]
  },
  {
   "cell_type": "markdown",
   "id": "a39bc64c-5528-4dbd-bb9e-8c0913d788ca",
   "metadata": {},
   "source": [
    "### View & Copy"
   ]
  },
  {
   "cell_type": "code",
   "execution_count": 173,
   "id": "1eba257c-91b2-436a-922e-243b467560ad",
   "metadata": {},
   "outputs": [
    {
     "name": "stdout",
     "output_type": "stream",
     "text": [
      "original dataframe:\n",
      "   A  B\n",
      "0  1  4\n",
      "1  2  5\n",
      "2  3  6\n",
      "\n",
      "modified dataframe:\n",
      "0    100\n",
      "1      2\n",
      "2      3\n",
      "Name: A, dtype: int64\n"
     ]
    }
   ],
   "source": [
    "df=pd.DataFrame({'A':[1,2,3],'B':[4,5,6]})\n",
    "view=df['A'].copy()\n",
    "view[0]=100\n",
    "print(\"original dataframe:\")\n",
    "print(df)\n",
    "print(\"\\nmodified dataframe:\")\n",
    "print(view)"
   ]
  },
  {
   "cell_type": "code",
   "execution_count": 178,
   "id": "8cc0e526-89f1-4756-b60b-a352dbe8e84a",
   "metadata": {},
   "outputs": [
    {
     "data": {
      "text/html": [
       "<div>\n",
       "<style scoped>\n",
       "    .dataframe tbody tr th:only-of-type {\n",
       "        vertical-align: middle;\n",
       "    }\n",
       "\n",
       "    .dataframe tbody tr th {\n",
       "        vertical-align: top;\n",
       "    }\n",
       "\n",
       "    .dataframe thead th {\n",
       "        text-align: right;\n",
       "    }\n",
       "</style>\n",
       "<table border=\"1\" class=\"dataframe\">\n",
       "  <thead>\n",
       "    <tr style=\"text-align: right;\">\n",
       "      <th></th>\n",
       "      <th>A</th>\n",
       "      <th>B</th>\n",
       "    </tr>\n",
       "  </thead>\n",
       "  <tbody>\n",
       "    <tr>\n",
       "      <th>2</th>\n",
       "      <td>3</td>\n",
       "      <td>6</td>\n",
       "    </tr>\n",
       "  </tbody>\n",
       "</table>\n",
       "</div>"
      ],
      "text/plain": [
       "   A  B\n",
       "2  3  6"
      ]
     },
     "execution_count": 178,
     "metadata": {},
     "output_type": "execute_result"
    }
   ],
   "source": [
    "df=pd.DataFrame({'A':[1,2,3],'B':[4,5,6]})\n",
    "\n",
    "subset=df[df['A']>2].copy()\n",
    "subset"
   ]
  },
  {
   "cell_type": "code",
   "execution_count": 179,
   "id": "0a423cac-8166-4616-9548-266347516da4",
   "metadata": {},
   "outputs": [],
   "source": [
    "subset['B']=100"
   ]
  },
  {
   "cell_type": "code",
   "execution_count": 181,
   "id": "99ba7574-6304-4339-b638-444874365790",
   "metadata": {},
   "outputs": [
    {
     "data": {
      "text/html": [
       "<div>\n",
       "<style scoped>\n",
       "    .dataframe tbody tr th:only-of-type {\n",
       "        vertical-align: middle;\n",
       "    }\n",
       "\n",
       "    .dataframe tbody tr th {\n",
       "        vertical-align: top;\n",
       "    }\n",
       "\n",
       "    .dataframe thead th {\n",
       "        text-align: right;\n",
       "    }\n",
       "</style>\n",
       "<table border=\"1\" class=\"dataframe\">\n",
       "  <thead>\n",
       "    <tr style=\"text-align: right;\">\n",
       "      <th></th>\n",
       "      <th>A</th>\n",
       "      <th>B</th>\n",
       "    </tr>\n",
       "  </thead>\n",
       "  <tbody>\n",
       "    <tr>\n",
       "      <th>2</th>\n",
       "      <td>3</td>\n",
       "      <td>100</td>\n",
       "    </tr>\n",
       "  </tbody>\n",
       "</table>\n",
       "</div>"
      ],
      "text/plain": [
       "   A    B\n",
       "2  3  100"
      ]
     },
     "execution_count": 181,
     "metadata": {},
     "output_type": "execute_result"
    }
   ],
   "source": [
    "subset"
   ]
  },
  {
   "cell_type": "code",
   "execution_count": null,
   "id": "a9910c80-8d9e-4aef-8e1b-d4c5c15a4421",
   "metadata": {},
   "outputs": [],
   "source": []
  }
 ],
 "metadata": {
  "kernelspec": {
   "display_name": "Python 3 (ipykernel)",
   "language": "python",
   "name": "python3"
  },
  "language_info": {
   "codemirror_mode": {
    "name": "ipython",
    "version": 3
   },
   "file_extension": ".py",
   "mimetype": "text/x-python",
   "name": "python",
   "nbconvert_exporter": "python",
   "pygments_lexer": "ipython3",
   "version": "3.11.7"
  }
 },
 "nbformat": 4,
 "nbformat_minor": 5
}
