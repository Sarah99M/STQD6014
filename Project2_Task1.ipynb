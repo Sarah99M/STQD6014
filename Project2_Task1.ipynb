{
  "nbformat": 4,
  "nbformat_minor": 0,
  "metadata": {
    "colab": {
      "provenance": [],
      "mount_file_id": "1Bnk26TewA-3Rjll2vNTaU2g8iVsSKwRZ",
      "authorship_tag": "ABX9TyPyWIWo1Uthbjvv1rFe+yLa",
      "include_colab_link": true
    },
    "kernelspec": {
      "name": "python3",
      "display_name": "Python 3"
    },
    "language_info": {
      "name": "python"
    }
  },
  "cells": [
    {
      "cell_type": "markdown",
      "metadata": {
        "id": "view-in-github",
        "colab_type": "text"
      },
      "source": [
        "<a href=\"https://colab.research.google.com/github/Sarah99M/STQD6014/blob/main/Project2_Task1.ipynb\" target=\"_parent\"><img src=\"https://colab.research.google.com/assets/colab-badge.svg\" alt=\"Open In Colab\"/></a>"
      ]
    },
    {
      "cell_type": "code",
      "execution_count": 2,
      "metadata": {
        "id": "DvKyg4Mjr-nl"
      },
      "outputs": [],
      "source": [
        "import numpy as np\n",
        "import pandas as pd"
      ]
    },
    {
      "cell_type": "code",
      "source": [
        "class Normalizer:\n",
        "    def __init__(self,method='minmax',columns=None):\n",
        "        self.method=method\n",
        "        self.columns=columns\n",
        "    def normalize(self,data):\n",
        "        if isinstance(data,pd.DataFrame):\n",
        "            if self.columns is None:\n",
        "                self.columns=data.select_dtypes(include=np.number).columns\n",
        "            norm_func=getattr(self,f\"normalize_{self.method}\")\n",
        "            data[self.columns]=data[self.columns].apply(norm_func,axis=0)\n",
        "        elif isinstance(data,np.ndarray):\n",
        "            if self.columns is None:\n",
        "                self.columns=slice(None)\n",
        "            norm_func=getattr(self,f\"normalize_{self.method}\")\n",
        "            data[:,self.columns]=np.apply_along_axis(norm_func,0,data[:,self.columns])\n",
        "        else:\n",
        "            raise TypeError(\"Please input data as a Pandas DataFrame or NumPy array.\")\n",
        "        return data\n",
        "    def normalize_minmax(self,col):\n",
        "        return (col-col.min())/(col.max()-col.min())\n",
        "    def normalize_zscore(self,col):\n",
        "        return (col-col.mean())/col.std()\n",
        "    def normalize_decimalscaling(self,col):\n",
        "        return col/col.abs().max()"
      ],
      "metadata": {
        "id": "6lz_QKYpuTd8"
      },
      "execution_count": 3,
      "outputs": []
    },
    {
      "cell_type": "code",
      "source": [
        "data=pd.DataFrame({\n",
        "    'A':[1,2,3,None,8],\n",
        "    'B':[34,66,2,89,10],\n",
        "    'c':['x','e','w',None,'z']\n",
        "})\n",
        "normalizer=Normalizer(method='minmax')\n",
        "data.fillna(0,inplace=True)\n",
        "normalizer_data=normalizer.normalize(data)\n",
        "print(normalizer_data)"
      ],
      "metadata": {
        "colab": {
          "base_uri": "https://localhost:8080/"
        },
        "id": "-EErJvAOEMPN",
        "outputId": "7516c547-e5bb-41f1-f629-aefaeb17d95a"
      },
      "execution_count": 4,
      "outputs": [
        {
          "output_type": "stream",
          "name": "stdout",
          "text": [
            "       A         B  c\n",
            "0  0.125  0.367816  x\n",
            "1  0.250  0.735632  e\n",
            "2  0.375  0.000000  w\n",
            "3  0.000  1.000000  0\n",
            "4  1.000  0.091954  z\n"
          ]
        }
      ]
    },
    {
      "cell_type": "code",
      "source": [
        "ar=np.array([[6.8,np.nan,7.4,8.8,2.33],[12,11,45,63,7]])\n",
        "normalizer=Normalizer(method='zscore')\n",
        "ar=np.nan_to_num(ar,nan=0)\n",
        "normalizer_ar=normalizer.normalize(ar)\n",
        "print(normalizer_ar)"
      ],
      "metadata": {
        "colab": {
          "base_uri": "https://localhost:8080/"
        },
        "id": "9A1ypQoJESfN",
        "outputId": "515625d5-856f-4e85-a72c-5725eb2bbc4c"
      },
      "execution_count": 5,
      "outputs": [
        {
          "output_type": "stream",
          "name": "stdout",
          "text": [
            "[[-1. -1. -1. -1. -1.]\n",
            " [ 1.  1.  1.  1.  1.]]\n"
          ]
        }
      ]
    },
    {
      "cell_type": "code",
      "source": [
        "df=pd.DataFrame({\n",
        "    'D':[22,34,56,12],\n",
        "    'E':[13,54,32,31]\n",
        "})\n",
        "normalizer=Normalizer(method='decimalscaling')\n",
        "normalizer_df=normalizer.normalize(df)\n",
        "print(normalizer_df)"
      ],
      "metadata": {
        "colab": {
          "base_uri": "https://localhost:8080/"
        },
        "id": "smBW6qdmHEac",
        "outputId": "34b622e4-bae9-4a33-9dd7-75d8a0343c05"
      },
      "execution_count": 6,
      "outputs": [
        {
          "output_type": "stream",
          "name": "stdout",
          "text": [
            "          D         E\n",
            "0  0.392857  0.240741\n",
            "1  0.607143  1.000000\n",
            "2  1.000000  0.592593\n",
            "3  0.214286  0.574074\n"
          ]
        }
      ]
    }
  ]
}