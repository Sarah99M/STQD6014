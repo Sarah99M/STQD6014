{
 "cells": [
  {
   "cell_type": "markdown",
   "id": "796c34b5-7d7a-43b7-b275-431313322c41",
   "metadata": {},
   "source": [
    "### 1."
   ]
  },
  {
   "cell_type": "code",
   "execution_count": 6,
   "id": "9754e36c-3784-4644-ab97-dc082a68b66f",
   "metadata": {},
   "outputs": [
    {
     "name": "stdin",
     "output_type": "stream",
     "text": [
      "Please write down your marks:  89\n"
     ]
    },
    {
     "name": "stdout",
     "output_type": "stream",
     "text": [
      "Your grade is B.\n"
     ]
    }
   ],
   "source": [
    "mark=input(\"Please write down your marks: \")\n",
    "mark=int(mark)\n",
    "if mark<=60:\n",
    "    print(\"Your grade is D.\")\n",
    "elif mark>60 and mark<80:\n",
    "    print(\"Your grade is C.\")\n",
    "elif mark>=80 and mark<90:\n",
    "    print(\"Your grade is B.\")\n",
    "else:\n",
    "    print(\"Your grade is A.\")"
   ]
  },
  {
   "cell_type": "markdown",
   "id": "6014c713-89cd-4f7c-8331-b2b3b9e2e8ae",
   "metadata": {},
   "source": [
    "### 2."
   ]
  },
  {
   "cell_type": "code",
   "execution_count": 14,
   "id": "4d797b79-9db7-4d11-8ebf-af8ee146e01b",
   "metadata": {},
   "outputs": [
    {
     "name": "stdout",
     "output_type": "stream",
     "text": [
      "Userinformation:User1\n",
      "Name:Jerry\n",
      "Dream_Vocation:Stay at home.\n",
      "Userinformation:User2\n",
      "Name:Mary\n",
      "Dream_Vocation:Go shopping.\n",
      "Userinformation:User3\n",
      "Name:Tom\n",
      "Dream_Vocation:Play sport with friend.\n",
      "Userinformation:User4\n",
      "Name:Hommie\n",
      "Dream_Vocation:Lying on the beach.\n",
      "Userinformation:User5\n",
      "Name:Bird\n",
      "Dream_Vocation:Singing and creating.\n",
      "\n"
     ]
    }
   ],
   "source": [
    "#a)&b)\n",
    "dream_vocation={\n",
    "    'User1':{'name':'Jerry','dream_vocation':'Stay at home.'},\n",
    "    'User2':{'name':'Mary','dream_vocation':'Go shopping.'},\n",
    "    'User3':{'name':'Tom','dream_vocation':'Play sport with friend.'},\n",
    "    'User4':{'name':'Hommie','dream_vocation':'Lying on the beach.'},\n",
    "    'User5':{'name':'Bird','dream_vocation':'Singing and creating.'}\n",
    "}\n",
    "for vocation, info in dream_vocation.items():\n",
    "    print(f\"Userinformation:{vocation}\")\n",
    "    for key, value in info.items():\n",
    "        print(f\"{key.title()}:{value}\")\n",
    "\n",
    "print()"
   ]
  },
  {
   "cell_type": "code",
   "execution_count": 21,
   "id": "a95ef6b5-6bca-4649-a6c8-54fe43949f81",
   "metadata": {},
   "outputs": [
    {
     "name": "stdout",
     "output_type": "stream",
     "text": [
      "dict_values([{'name': 'Jerry', 'dream_vocation': 'Stay at home.'}, {'name': 'Mary', 'dream_vocation': 'Go shopping.'}, {'name': 'Tom', 'dream_vocation': 'Play sport with friend.'}, {'name': 'Hommie', 'dream_vocation': 'Lying on the beach.'}, {'name': 'Bird', 'dream_vocation': 'Singing and creating.'}])\n"
     ]
    }
   ],
   "source": [
    "#c)\n",
    "dream_location=dream_vocation.values()\n",
    "print(dream_location)"
   ]
  },
  {
   "cell_type": "markdown",
   "id": "aeed3cb8-0d21-498a-8a99-a377e6b18551",
   "metadata": {},
   "source": [
    "### 3."
   ]
  },
  {
   "cell_type": "code",
   "execution_count": null,
   "id": "38535ade-92db-4b28-8e42-f7b284938e2e",
   "metadata": {},
   "outputs": [],
   "source": [
    "abb={}\n",
    "\n",
    "for i in range(3):\n",
    "    name=input(\"What is your name: \")\n",
    "    djob=input(\"What is your dream job?\")\n",
    "    abb[name]=djob\n",
    "\n",
    "print(\"\\nResult\")\n",
    "for name, job in file.items():\n",
    "    print(name+\"'s dream job is \"+job)"
   ]
  },
  {
   "cell_type": "markdown",
   "id": "91ad9c37-6059-42b5-856c-fae7193de89d",
   "metadata": {},
   "source": [
    "### 4."
   ]
  },
  {
   "cell_type": "code",
   "execution_count": null,
   "id": "c4436e25-931d-40bb-b5e3-3ca01961c547",
   "metadata": {},
   "outputs": [
    {
     "name": "stdout",
     "output_type": "stream",
     "text": [
      "Guest number between 10 to 50.\n"
     ]
    },
    {
     "name": "stdin",
     "output_type": "stream",
     "text": [
      "Enter your guess: 23\n"
     ]
    },
    {
     "name": "stdout",
     "output_type": "stream",
     "text": [
      "Sorry, it is not true.\n"
     ]
    }
   ],
   "source": [
    "secrect_number=45\n",
    "print(\"Guest number between 10 to 50.\")\n",
    "while True:\n",
    "    think=int(input(\"Enter your guess:\"))\n",
    "    if think==secrect_number:\n",
    "        print(\"Congratulation you're right!\")\n",
    "    elif think<secrect_number:\n",
    "        print(\"Sorry, it is not true.\")\n",
    "    else:\n",
    "        print(\"Sorry,Too high.\")"
   ]
  },
  {
   "cell_type": "markdown",
   "id": "b34389ab-c085-4bd5-930e-bce386f56ca9",
   "metadata": {},
   "source": [
    "### 5."
   ]
  },
  {
   "cell_type": "code",
   "execution_count": 22,
   "id": "20b12fe8-fbdb-4f91-8e36-1dbddfb4e0cc",
   "metadata": {},
   "outputs": [
    {
     "name": "stdout",
     "output_type": "stream",
     "text": [
      "The fruit name is Apple\n",
      "The fruit color is red\n"
     ]
    }
   ],
   "source": [
    "def describe_fruits(name,color):\n",
    "    print(\"The fruit name is \"+name)\n",
    "    print(\"The fruit color is \"+color)\n",
    "describe_fruits(name=\"Apple\",color=\"red\")"
   ]
  },
  {
   "cell_type": "code",
   "execution_count": null,
   "id": "ddd02f6d-fa74-4e91-95a4-b62d25ce1cb2",
   "metadata": {},
   "outputs": [],
   "source": []
  }
 ],
 "metadata": {
  "kernelspec": {
   "display_name": "Python 3 (ipykernel)",
   "language": "python",
   "name": "python3"
  },
  "language_info": {
   "codemirror_mode": {
    "name": "ipython",
    "version": 3
   },
   "file_extension": ".py",
   "mimetype": "text/x-python",
   "name": "python",
   "nbconvert_exporter": "python",
   "pygments_lexer": "ipython3",
   "version": "3.11.7"
  }
 },
 "nbformat": 4,
 "nbformat_minor": 5
}
